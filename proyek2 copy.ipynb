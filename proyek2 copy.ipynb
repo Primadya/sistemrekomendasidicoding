{
 "cells": [
  {
   "cell_type": "markdown",
   "metadata": {},
   "source": [
    "# Predictive Analytics : Sistem Rekomendasi Makanan\n",
    "- Nauval Dwi Primadya"
   ]
  },
  {
   "cell_type": "markdown",
   "metadata": {},
   "source": [
    "## Deksripsi Proyek\n",
    "\n",
    "### Deskripsi dan Latar Belakang dari Proyek Prediksi Kualitas pada Buah Pisang dengan menggunakan Machine Learning\n",
    "\n",
    "Proyek ini berfokus pada pengembangan model machine learning untuk memprediksi kualitas buah pisang secara lebih akurat dan efisien. Saat ini, penilaian kualitas pisang masih dilakukan secara manual, yang membutuhkan banyak waktu, tenaga, dan memiliki potensi kesalahan tinggi. Kondisi ini menyebabkan kerugian bagi petani dan distributor, serta seringkali mengecewakan konsumen. Model prediksi kualitas pisang ini diharapkan dapat menjadi solusi yang lebih akurat, efisien, dan transparan dalam mengatasi permasalahan tersebut."
   ]
  },
  {
   "cell_type": "markdown",
   "metadata": {},
   "source": [
    "# 1.  Melakukan Import Library yang digunakan"
   ]
  },
  {
   "cell_type": "code",
   "execution_count": 1,
   "metadata": {},
   "outputs": [
    {
     "name": "stderr",
     "output_type": "stream",
     "text": [
      "2024-11-17 14:43:03.247592: I tensorflow/core/util/port.cc:153] oneDNN custom operations are on. You may see slightly different numerical results due to floating-point round-off errors from different computation orders. To turn them off, set the environment variable `TF_ENABLE_ONEDNN_OPTS=0`.\n",
      "2024-11-17 14:43:03.529945: E external/local_xla/xla/stream_executor/cuda/cuda_fft.cc:477] Unable to register cuFFT factory: Attempting to register factory for plugin cuFFT when one has already been registered\n",
      "WARNING: All log messages before absl::InitializeLog() is called are written to STDERR\n",
      "E0000 00:00:1731829383.638046    4902 cuda_dnn.cc:8310] Unable to register cuDNN factory: Attempting to register factory for plugin cuDNN when one has already been registered\n",
      "E0000 00:00:1731829383.666499    4902 cuda_blas.cc:1418] Unable to register cuBLAS factory: Attempting to register factory for plugin cuBLAS when one has already been registered\n",
      "2024-11-17 14:43:03.925643: I tensorflow/core/platform/cpu_feature_guard.cc:210] This TensorFlow binary is optimized to use available CPU instructions in performance-critical operations.\n",
      "To enable the following instructions: AVX2 AVX512F AVX512_VNNI FMA, in other operations, rebuild TensorFlow with the appropriate compiler flags.\n"
     ]
    }
   ],
   "source": [
    "# Import library\n",
    "import pandas as pd\n",
    "import numpy as np\n",
    "import matplotlib.pyplot as plt\n",
    "import seaborn as sns\n",
    "from sklearn.feature_extraction.text import TfidfVectorizer\n",
    "from sklearn.metrics.pairwise import cosine_similarity\n",
    "import tensorflow as tf\n",
    "from tensorflow import keras\n",
    "from tensorflow.keras import layers, models, regularizers\n",
    "from tensorflow.keras.callbacks import EarlyStopping, ReduceLROnPlateau\n",
    "from pathlib import Path\n",
    "import pandas as pd\n",
    "import numpy as np\n",
    "import tensorflow as tf\n",
    "from tensorflow.keras import layers, models, regularizers\n",
    "import matplotlib.pyplot as plt\n",
    "from tensorflow.keras.callbacks import EarlyStopping, ReduceLROnPlateau\n",
    "import tensorflow as tf\n",
    "from tensorflow.keras import layers, regularizers"
   ]
  },
  {
   "cell_type": "markdown",
   "metadata": {},
   "source": [
    "# 2. Data Understanding\n",
    "\n",
    "merupakan tahapan untuk memahami informasi dari sebuah dataset dan digunakan untuk menentukan kualitas dari dataset tersebut. serta mendapatkan wawasan langkah apa saja yang akan diterapkan pada dataset tersebut."
   ]
  },
  {
   "cell_type": "markdown",
   "metadata": {},
   "source": [
    "## 2.1 Data Loading\n",
    "Tahap *Data Loading* bertujuan untuk memuat dataset yang akan digunakan, sehingga mempermudah pemahaman terhadap data tersebut. Dataset ini telah melalui proses *pembersihan* dan *normalisasi* oleh penyusunnya, sehingga siap digunakan dan lebih mudah diakses, bahkan oleh pemula.\n",
    "\n",
    "<br>\n",
    "\n",
    "**Detail Dataset**\n",
    "\n",
    "- **Title**: Kualitas Banana\n",
    "- **Source**: [Kaggle](https://www.kaggle.com/datasets/l3llff/banana)\n",
    "- **Visibility**: Public\n"
   ]
  },
  {
   "cell_type": "markdown",
   "metadata": {},
   "source": [
    "## 2.2 Exploratory Data Analysis **(EDA)**\n",
    "\n",
    "*Exploratory Data Analysis* adalah proses awal dalam menyelidiki data untuk memahami karakteristiknya, mengidentifikasi pola dan anomali, serta memverifikasi asumsi yang mungkin ada pada data tersebut. Metode ini umumnya memanfaatkan teknik statistik serta visualisasi grafis untuk menyajikan informasi dengan lebih jelas."
   ]
  },
  {
   "cell_type": "code",
   "execution_count": 2,
   "metadata": {},
   "outputs": [],
   "source": [
    "#Membaca dataset\n",
    "data = pd.read_csv('/media/primadya/Kerja/dicoding/terapan/submission 2/dataset/food/1662574418893344.csv')\n",
    "rating = pd.read_csv('/media/primadya/Kerja/dicoding/terapan/submission 2/dataset/food/ratings.csv')"
   ]
  },
  {
   "cell_type": "code",
   "execution_count": 3,
   "metadata": {},
   "outputs": [],
   "source": [
    "# Ubah nama kolom menjadi lowercase\n",
    "data.columns = data.columns.str.lower()\n",
    "rating.columns = rating.columns.str.lower()\n"
   ]
  },
  {
   "cell_type": "markdown",
   "metadata": {},
   "source": [
    "Kode tersebut digunakan untuk mengubah nama kolom dalam dua DataFrame (`data` dan `rating`) menjadi huruf kecil (lowercase). Perintah `data.columns.str.lower()` dan `rating.columns.str.lower()` mengakses nama kolom di masing-masing DataFrame dan mengubah semua karakter dalam nama kolom menjadi huruf kecil menggunakan metode string `.lower()` Setelah perubahan ini, nama kolom pada kedua DataFrame menjadi konsisten dalam format huruf kecil, yang dapat membantu menghindari kesalahan saat mengakses kolom dan memastikan keterbacaan serta konsistensi dalam pengolahan data."
   ]
  },
  {
   "cell_type": "markdown",
   "metadata": {},
   "source": [
    "### Deskripsi Variabel"
   ]
  },
  {
   "cell_type": "code",
   "execution_count": 4,
   "metadata": {},
   "outputs": [
    {
     "name": "stdout",
     "output_type": "stream",
     "text": [
      "<class 'pandas.core.frame.DataFrame'>\n",
      "RangeIndex: 400 entries, 0 to 399\n",
      "Data columns (total 5 columns):\n",
      " #   Column    Non-Null Count  Dtype \n",
      "---  ------    --------------  ----- \n",
      " 0   food_id   400 non-null    int64 \n",
      " 1   name      400 non-null    object\n",
      " 2   c_type    400 non-null    object\n",
      " 3   veg_non   400 non-null    object\n",
      " 4   describe  400 non-null    object\n",
      "dtypes: int64(1), object(4)\n",
      "memory usage: 15.8+ KB\n"
     ]
    }
   ],
   "source": [
    "#Menampilkan info dari dataset\n",
    "data.info()"
   ]
  },
  {
   "cell_type": "code",
   "execution_count": 5,
   "metadata": {},
   "outputs": [
    {
     "data": {
      "text/html": [
       "<div>\n",
       "<style scoped>\n",
       "    .dataframe tbody tr th:only-of-type {\n",
       "        vertical-align: middle;\n",
       "    }\n",
       "\n",
       "    .dataframe tbody tr th {\n",
       "        vertical-align: top;\n",
       "    }\n",
       "\n",
       "    .dataframe thead th {\n",
       "        text-align: right;\n",
       "    }\n",
       "</style>\n",
       "<table border=\"1\" class=\"dataframe\">\n",
       "  <thead>\n",
       "    <tr style=\"text-align: right;\">\n",
       "      <th></th>\n",
       "      <th>food_id</th>\n",
       "      <th>name</th>\n",
       "      <th>c_type</th>\n",
       "      <th>veg_non</th>\n",
       "      <th>describe</th>\n",
       "    </tr>\n",
       "  </thead>\n",
       "  <tbody>\n",
       "    <tr>\n",
       "      <th>0</th>\n",
       "      <td>1</td>\n",
       "      <td>summer squash salad</td>\n",
       "      <td>Healthy Food</td>\n",
       "      <td>veg</td>\n",
       "      <td>white balsamic vinegar, lemon juice, lemon rin...</td>\n",
       "    </tr>\n",
       "    <tr>\n",
       "      <th>1</th>\n",
       "      <td>2</td>\n",
       "      <td>chicken minced salad</td>\n",
       "      <td>Healthy Food</td>\n",
       "      <td>non-veg</td>\n",
       "      <td>olive oil, chicken mince, garlic (minced), oni...</td>\n",
       "    </tr>\n",
       "    <tr>\n",
       "      <th>2</th>\n",
       "      <td>3</td>\n",
       "      <td>sweet chilli almonds</td>\n",
       "      <td>Snack</td>\n",
       "      <td>veg</td>\n",
       "      <td>almonds whole, egg white, curry leaves, salt, ...</td>\n",
       "    </tr>\n",
       "    <tr>\n",
       "      <th>3</th>\n",
       "      <td>4</td>\n",
       "      <td>tricolour salad</td>\n",
       "      <td>Healthy Food</td>\n",
       "      <td>veg</td>\n",
       "      <td>vinegar, honey/sugar, soy sauce, salt, garlic ...</td>\n",
       "    </tr>\n",
       "    <tr>\n",
       "      <th>4</th>\n",
       "      <td>5</td>\n",
       "      <td>christmas cake</td>\n",
       "      <td>Dessert</td>\n",
       "      <td>veg</td>\n",
       "      <td>christmas dry fruits (pre-soaked), orange zest...</td>\n",
       "    </tr>\n",
       "    <tr>\n",
       "      <th>5</th>\n",
       "      <td>6</td>\n",
       "      <td>japanese curry arancini with barley salsa</td>\n",
       "      <td>Japanese</td>\n",
       "      <td>veg</td>\n",
       "      <td>japanese curry, sticky rice, cheese inside ric...</td>\n",
       "    </tr>\n",
       "    <tr>\n",
       "      <th>6</th>\n",
       "      <td>7</td>\n",
       "      <td>chocolate nero cookies</td>\n",
       "      <td>Dessert</td>\n",
       "      <td>veg</td>\n",
       "      <td>almonds, eggs, granulated sugar, bittersweet c...</td>\n",
       "    </tr>\n",
       "    <tr>\n",
       "      <th>7</th>\n",
       "      <td>8</td>\n",
       "      <td>lamb and chargrilled bell pepper soup</td>\n",
       "      <td>Healthy Food</td>\n",
       "      <td>non-veg</td>\n",
       "      <td>lamb bones (preferably shank and shoulder), on...</td>\n",
       "    </tr>\n",
       "    <tr>\n",
       "      <th>8</th>\n",
       "      <td>9</td>\n",
       "      <td>cream of almond soup</td>\n",
       "      <td>Healthy Food</td>\n",
       "      <td>veg</td>\n",
       "      <td>vegetable stock, skimmed milk, toasted almonds...</td>\n",
       "    </tr>\n",
       "    <tr>\n",
       "      <th>9</th>\n",
       "      <td>10</td>\n",
       "      <td>broccoli and almond soup</td>\n",
       "      <td>Healthy Food</td>\n",
       "      <td>veg</td>\n",
       "      <td>vegetable stock, broccoli, ground almonds (toa...</td>\n",
       "    </tr>\n",
       "  </tbody>\n",
       "</table>\n",
       "</div>"
      ],
      "text/plain": [
       "   food_id                                       name        c_type  veg_non  \\\n",
       "0        1                        summer squash salad  Healthy Food      veg   \n",
       "1        2                       chicken minced salad  Healthy Food  non-veg   \n",
       "2        3                       sweet chilli almonds         Snack      veg   \n",
       "3        4                            tricolour salad  Healthy Food      veg   \n",
       "4        5                             christmas cake       Dessert      veg   \n",
       "5        6  japanese curry arancini with barley salsa      Japanese      veg   \n",
       "6        7                     chocolate nero cookies       Dessert      veg   \n",
       "7        8      lamb and chargrilled bell pepper soup  Healthy Food  non-veg   \n",
       "8        9                       cream of almond soup  Healthy Food      veg   \n",
       "9       10                   broccoli and almond soup  Healthy Food      veg   \n",
       "\n",
       "                                            describe  \n",
       "0  white balsamic vinegar, lemon juice, lemon rin...  \n",
       "1  olive oil, chicken mince, garlic (minced), oni...  \n",
       "2  almonds whole, egg white, curry leaves, salt, ...  \n",
       "3  vinegar, honey/sugar, soy sauce, salt, garlic ...  \n",
       "4  christmas dry fruits (pre-soaked), orange zest...  \n",
       "5  japanese curry, sticky rice, cheese inside ric...  \n",
       "6  almonds, eggs, granulated sugar, bittersweet c...  \n",
       "7  lamb bones (preferably shank and shoulder), on...  \n",
       "8  vegetable stock, skimmed milk, toasted almonds...  \n",
       "9  vegetable stock, broccoli, ground almonds (toa...  "
      ]
     },
     "execution_count": 5,
     "metadata": {},
     "output_type": "execute_result"
    }
   ],
   "source": [
    "#Menampilkan isi dari variabel data\n",
    "data.head(10)"
   ]
  },
  {
   "cell_type": "markdown",
   "metadata": {},
   "source": [
    "Berikut adalah penjelasan fitur-fitur dalam tabel :\n",
    "\n",
    "- **`food_id`**     : ID unik untuk setiap makanan, bertipe data (integer).\n",
    "- **`name`**        : Nama hidangan makanan, bertipe data (string).\n",
    "- **`c_type`**      : Kategori makanan (seperti \"Healthy Food\", \"Snack\", \"Dessert\", dll.). bertipe data (string).\n",
    "- **`veg_non`**     : Menunjukkan apakah makanan tersebut vegetarian (\"veg\") atau non-vegetarian (\"non-veg\"), bertipe data (string).\n",
    "- **`describe`**    : Deskripsi bahan-bahan yang digunakan dalam hidangan, bertipe data (string)."
   ]
  },
  {
   "cell_type": "code",
   "execution_count": 6,
   "metadata": {},
   "outputs": [
    {
     "name": "stdout",
     "output_type": "stream",
     "text": [
      "<class 'pandas.core.frame.DataFrame'>\n",
      "RangeIndex: 512 entries, 0 to 511\n",
      "Data columns (total 3 columns):\n",
      " #   Column   Non-Null Count  Dtype  \n",
      "---  ------   --------------  -----  \n",
      " 0   user_id  511 non-null    float64\n",
      " 1   food_id  511 non-null    float64\n",
      " 2   rating   511 non-null    float64\n",
      "dtypes: float64(3)\n",
      "memory usage: 12.1 KB\n"
     ]
    }
   ],
   "source": [
    "#Menampilkan info dari dataset\n",
    "rating.info()"
   ]
  },
  {
   "cell_type": "code",
   "execution_count": 7,
   "metadata": {},
   "outputs": [
    {
     "data": {
      "text/html": [
       "<div>\n",
       "<style scoped>\n",
       "    .dataframe tbody tr th:only-of-type {\n",
       "        vertical-align: middle;\n",
       "    }\n",
       "\n",
       "    .dataframe tbody tr th {\n",
       "        vertical-align: top;\n",
       "    }\n",
       "\n",
       "    .dataframe thead th {\n",
       "        text-align: right;\n",
       "    }\n",
       "</style>\n",
       "<table border=\"1\" class=\"dataframe\">\n",
       "  <thead>\n",
       "    <tr style=\"text-align: right;\">\n",
       "      <th></th>\n",
       "      <th>user_id</th>\n",
       "      <th>food_id</th>\n",
       "      <th>rating</th>\n",
       "    </tr>\n",
       "  </thead>\n",
       "  <tbody>\n",
       "    <tr>\n",
       "      <th>0</th>\n",
       "      <td>1.0</td>\n",
       "      <td>88.0</td>\n",
       "      <td>4.0</td>\n",
       "    </tr>\n",
       "    <tr>\n",
       "      <th>1</th>\n",
       "      <td>1.0</td>\n",
       "      <td>46.0</td>\n",
       "      <td>3.0</td>\n",
       "    </tr>\n",
       "    <tr>\n",
       "      <th>2</th>\n",
       "      <td>1.0</td>\n",
       "      <td>24.0</td>\n",
       "      <td>5.0</td>\n",
       "    </tr>\n",
       "    <tr>\n",
       "      <th>3</th>\n",
       "      <td>1.0</td>\n",
       "      <td>25.0</td>\n",
       "      <td>4.0</td>\n",
       "    </tr>\n",
       "    <tr>\n",
       "      <th>4</th>\n",
       "      <td>2.0</td>\n",
       "      <td>49.0</td>\n",
       "      <td>1.0</td>\n",
       "    </tr>\n",
       "    <tr>\n",
       "      <th>5</th>\n",
       "      <td>2.0</td>\n",
       "      <td>33.0</td>\n",
       "      <td>8.0</td>\n",
       "    </tr>\n",
       "    <tr>\n",
       "      <th>6</th>\n",
       "      <td>2.0</td>\n",
       "      <td>106.0</td>\n",
       "      <td>9.0</td>\n",
       "    </tr>\n",
       "    <tr>\n",
       "      <th>7</th>\n",
       "      <td>2.0</td>\n",
       "      <td>71.0</td>\n",
       "      <td>8.0</td>\n",
       "    </tr>\n",
       "    <tr>\n",
       "      <th>8</th>\n",
       "      <td>3.0</td>\n",
       "      <td>73.0</td>\n",
       "      <td>9.0</td>\n",
       "    </tr>\n",
       "    <tr>\n",
       "      <th>9</th>\n",
       "      <td>3.0</td>\n",
       "      <td>110.0</td>\n",
       "      <td>10.0</td>\n",
       "    </tr>\n",
       "  </tbody>\n",
       "</table>\n",
       "</div>"
      ],
      "text/plain": [
       "   user_id  food_id  rating\n",
       "0      1.0     88.0     4.0\n",
       "1      1.0     46.0     3.0\n",
       "2      1.0     24.0     5.0\n",
       "3      1.0     25.0     4.0\n",
       "4      2.0     49.0     1.0\n",
       "5      2.0     33.0     8.0\n",
       "6      2.0    106.0     9.0\n",
       "7      2.0     71.0     8.0\n",
       "8      3.0     73.0     9.0\n",
       "9      3.0    110.0    10.0"
      ]
     },
     "execution_count": 7,
     "metadata": {},
     "output_type": "execute_result"
    }
   ],
   "source": [
    "#Menampilkan isi dari variabel data\n",
    "rating.head(10)"
   ]
  },
  {
   "cell_type": "markdown",
   "metadata": {},
   "source": [
    "- **`user_id`**: ID unik untuk setiap pengguna yang memberikan rating (angka desimal, bisa menunjukkan pengguna yang berbeda).\n",
    "- **`food_id`**: ID unik untuk makanan yang diberi rating, yang mengacu pada makanan tertentu dalam tabel lain (angka desimal).\n",
    "- **`rating`**: Nilai rating yang diberikan oleh pengguna untuk makanan tersebut, biasanya dalam skala 1-10, di mana 10 menunjukkan penilaian terbaik (angka desimal).\n"
   ]
  },
  {
   "cell_type": "markdown",
   "metadata": {},
   "source": [
    "### Visualisasi Data"
   ]
  },
  {
   "cell_type": "code",
   "execution_count": 8,
   "metadata": {},
   "outputs": [
    {
     "name": "stdout",
     "output_type": "stream",
     "text": [
      "Jumlah Type:  16\n",
      "c_type\n",
      "Indian          88\n",
      "Healthy Food    58\n",
      "Dessert         53\n",
      "Chinese         27\n",
      "Italian         25\n",
      "Snack           23\n",
      "Thai            23\n",
      "French          22\n",
      "Mexican         21\n",
      "Japanese        18\n",
      "Beverage        11\n",
      "Nepalese        11\n",
      "Korean           9\n",
      "Vietnames        9\n",
      " Korean          1\n",
      "Spanish          1\n",
      "Name: count, dtype: int64\n"
     ]
    },
    {
     "data": {
      "image/png": "[encoded data removed]",
      "text/plain": [
       "<Figure size 1000x500 with 1 Axes>"
      ]
     },
     "metadata": {},
     "output_type": "display_data"
    }
   ],
   "source": [
    "#Menghitung jumlah brand\n",
    "print('Jumlah Type: ',len(data.c_type.unique()))\n",
    "\n",
    "#Menghitung jumlah cellphone masing-masing brand\n",
    "genre_counts = data['c_type'].value_counts()\n",
    "print(genre_counts)\n",
    "\n",
    "#Menampilkan dalam bentuk grafik\n",
    "plt.figure(figsize=(10, 5))\n",
    "sns.countplot(data=data, x=data['c_type'])\n",
    "plt.xticks(rotation=90)\n",
    "plt.show()"
   ]
  },
  {
   "cell_type": "markdown",
   "metadata": {},
   "source": [
    "Kode di atas digunakan untuk menganalisis kolom `c_type` dalam DataFrame `data` yang berisi kategori jenis makanan. Pertama, kode menghitung jumlah kategori unik dalam kolom tersebut dengan menggunakan `unique()` dan `len()`, lalu menampilkan hasilnya. Selanjutnya, menggunakan `value_counts()`, kode ini menghitung dan menampilkan jumlah kemunculan masing-masing kategori. Terakhir, kode ini memvisualisasikan distribusi kategori tersebut dalam bentuk grafik batang (bar plot) dengan `seaborn.countplot()`, yang memudahkan untuk melihat perbandingan jumlah masing-masing kategori, dengan label pada sumbu X diputar 90 derajat agar lebih mudah dibaca."
   ]
  },
  {
   "cell_type": "code",
   "execution_count": 9,
   "metadata": {},
   "outputs": [
    {
     "name": "stdout",
     "output_type": "stream",
     "text": [
      "Jumlah Data:  2\n",
      "veg_non\n",
      "veg        238\n",
      "non-veg    162\n",
      "Name: count, dtype: int64\n"
     ]
    },
    {
     "data": {
      "image/png": "[encoded data removed]",
      "text/plain": [
       "<Figure size 500x300 with 1 Axes>"
      ]
     },
     "metadata": {},
     "output_type": "display_data"
    }
   ],
   "source": [
    "#Menghitung jumlah brand\n",
    "print('Jumlah Data: ',len(data.veg_non.unique()))\n",
    "\n",
    "#Menghitung jumlah cellphone masing-masing brand\n",
    "genre_counts = data['veg_non'].value_counts()\n",
    "print(genre_counts)\n",
    "\n",
    "#Menampilkan dalam bentuk grafik\n",
    "plt.figure(figsize=(5, 3))\n",
    "sns.countplot(data=data, x=data['veg_non'])\n",
    "plt.xticks(rotation=90)\n",
    "plt.show()"
   ]
  },
  {
   "cell_type": "markdown",
   "metadata": {},
   "source": [
    "Kode ini pertama-tama menghitung jumlah kategori unik dalam kolom `veg_non`, lalu menghitung jumlah makanan yang termasuk dalam masing-masing kategori dengan menggunakan `value_counts()`. Selanjutnya, hasil distribusi jumlah kategori tersebut ditampilkan dalam bentuk grafik batang (bar plot), yang memvisualisasikan perbandingan jumlah makanan vegetarian dan non-vegetarian."
   ]
  },
  {
   "cell_type": "code",
   "execution_count": 10,
   "metadata": {},
   "outputs": [
    {
     "name": "stdout",
     "output_type": "stream",
     "text": [
      "\n",
      "Jumlah kemunculan per rating:\n",
      " rating\n",
      "1.0     48\n",
      "2.0     47\n",
      "3.0     63\n",
      "4.0     53\n",
      "5.0     61\n",
      "6.0     48\n",
      "7.0     49\n",
      "8.0     39\n",
      "9.0     42\n",
      "10.0    61\n",
      "Name: count, dtype: int64\n"
     ]
    },
    {
     "data": {
      "image/png": "[encoded data removed]",
      "text/plain": [
       "<Figure size 500x300 with 1 Axes>"
      ]
     },
     "metadata": {},
     "output_type": "display_data"
    }
   ],
   "source": [
    "#Menghitung rating X muncul berapa kali\n",
    "rating_counts = rating['rating'].value_counts()\n",
    "print(\"\\nJumlah kemunculan per rating:\\n\", rating_counts.sort_index())\n",
    "\n",
    "#Menampilkan grafik\n",
    "plt.figure(figsize=(5, 3))\n",
    "sns.countplot(data=rating, x=rating['rating'])\n",
    "plt.show()"
   ]
  },
  {
   "cell_type": "markdown",
   "metadata": {},
   "source": [
    "Kode ini pertama-tama menghitung dan menampilkan jumlah kemunculan setiap nilai rating dalam kolom rating menggunakan `value_counts()`, kemudian mengurutkan hasilnya dengan `.sort_index()` untuk memudahkan pembacaan. Selanjutnya, kode ini menampilkan distribusi kemunculan rating dalam bentuk grafik batang, menggunakan `sns.countplot()`, yang memungkinkan kita untuk dengan mudah melihat berapa banyak pengguna yang memberikan rating tertentu pada data."
   ]
  },
  {
   "cell_type": "markdown",
   "metadata": {},
   "source": [
    "# 3. Data Preparation\n",
    "\n",
    "Merupakan tahapan untuk mempersiapkan data sebelum dilakukannya pemodelan machine learning"
   ]
  },
  {
   "cell_type": "code",
   "execution_count": 11,
   "metadata": {},
   "outputs": [],
   "source": [
    "# Menggabungkan dataset berdasarkan food_id\n",
    "merged_data = pd.merge(rating, data, on='food_id', how='inner', suffixes=('_user', '_food'))\n",
    "\n"
   ]
  },
  {
   "cell_type": "markdown",
   "metadata": {},
   "source": [
    "Kode ini menggabungkan dua DataFrame (`rating` dan `data`) berdasarkan kolom `food_id` dengan menggunakan **inner join**, yang hanya menyertakan baris yang memiliki `food_id` yang cocok di kedua DataFrame. Selain itu, untuk kolom yang memiliki nama yang sama (seperti `food_id`), kode ini menambahkan akhiran `'_user'` dan `'_food'` agar tidak terjadi konflik nama kolom."
   ]
  },
  {
   "cell_type": "code",
   "execution_count": 12,
   "metadata": {},
   "outputs": [
    {
     "name": "stdout",
     "output_type": "stream",
     "text": [
      "Hasil penggabungan dataset:\n"
     ]
    },
    {
     "data": {
      "text/html": [
       "<div>\n",
       "<style scoped>\n",
       "    .dataframe tbody tr th:only-of-type {\n",
       "        vertical-align: middle;\n",
       "    }\n",
       "\n",
       "    .dataframe tbody tr th {\n",
       "        vertical-align: top;\n",
       "    }\n",
       "\n",
       "    .dataframe thead th {\n",
       "        text-align: right;\n",
       "    }\n",
       "</style>\n",
       "<table border=\"1\" class=\"dataframe\">\n",
       "  <thead>\n",
       "    <tr style=\"text-align: right;\">\n",
       "      <th></th>\n",
       "      <th>user_id</th>\n",
       "      <th>food_id</th>\n",
       "      <th>rating</th>\n",
       "      <th>name</th>\n",
       "      <th>c_type</th>\n",
       "      <th>veg_non</th>\n",
       "      <th>describe</th>\n",
       "    </tr>\n",
       "  </thead>\n",
       "  <tbody>\n",
       "    <tr>\n",
       "      <th>0</th>\n",
       "      <td>1.0</td>\n",
       "      <td>88.0</td>\n",
       "      <td>4.0</td>\n",
       "      <td>peri peri chicken satay</td>\n",
       "      <td>Snack</td>\n",
       "      <td>non-veg</td>\n",
       "      <td>boneless skinless chicken thigh (trimmed), sal...</td>\n",
       "    </tr>\n",
       "    <tr>\n",
       "      <th>1</th>\n",
       "      <td>1.0</td>\n",
       "      <td>46.0</td>\n",
       "      <td>3.0</td>\n",
       "      <td>steam bunny chicken bao</td>\n",
       "      <td>Japanese</td>\n",
       "      <td>non-veg</td>\n",
       "      <td>buns, all purpose white flour, dry yeast, suga...</td>\n",
       "    </tr>\n",
       "    <tr>\n",
       "      <th>2</th>\n",
       "      <td>1.0</td>\n",
       "      <td>24.0</td>\n",
       "      <td>5.0</td>\n",
       "      <td>green lentil dessert fudge</td>\n",
       "      <td>Dessert</td>\n",
       "      <td>veg</td>\n",
       "      <td>whole moong beans, cow ghee, raisins, whole mi...</td>\n",
       "    </tr>\n",
       "    <tr>\n",
       "      <th>3</th>\n",
       "      <td>1.0</td>\n",
       "      <td>25.0</td>\n",
       "      <td>4.0</td>\n",
       "      <td>cashew nut cookies</td>\n",
       "      <td>Dessert</td>\n",
       "      <td>veg</td>\n",
       "      <td>cashew paste, ghee, khaand (a sweetening agent...</td>\n",
       "    </tr>\n",
       "    <tr>\n",
       "      <th>4</th>\n",
       "      <td>2.0</td>\n",
       "      <td>49.0</td>\n",
       "      <td>1.0</td>\n",
       "      <td>christmas tree pizza</td>\n",
       "      <td>Italian</td>\n",
       "      <td>veg</td>\n",
       "      <td>pizza dough (2 boules), red pepper, red onion,...</td>\n",
       "    </tr>\n",
       "    <tr>\n",
       "      <th>5</th>\n",
       "      <td>2.0</td>\n",
       "      <td>33.0</td>\n",
       "      <td>8.0</td>\n",
       "      <td>moong dal kiwi coconut soup</td>\n",
       "      <td>Indian</td>\n",
       "      <td>veg</td>\n",
       "      <td>green gram (dhuli moong dal), kiwis, coconut c...</td>\n",
       "    </tr>\n",
       "    <tr>\n",
       "      <th>6</th>\n",
       "      <td>2.0</td>\n",
       "      <td>106.0</td>\n",
       "      <td>9.0</td>\n",
       "      <td>chicken nimbu dhaniya shorba</td>\n",
       "      <td>Beverage</td>\n",
       "      <td>non-veg</td>\n",
       "      <td>water, chicken (diced)), ginger garlic paste, ...</td>\n",
       "    </tr>\n",
       "    <tr>\n",
       "      <th>7</th>\n",
       "      <td>2.0</td>\n",
       "      <td>71.0</td>\n",
       "      <td>8.0</td>\n",
       "      <td>carrot ginger soup</td>\n",
       "      <td>Healthy Food</td>\n",
       "      <td>veg</td>\n",
       "      <td>Carrots, Olive Oil, Salt, Vegetable Stock, Gin...</td>\n",
       "    </tr>\n",
       "    <tr>\n",
       "      <th>8</th>\n",
       "      <td>3.0</td>\n",
       "      <td>73.0</td>\n",
       "      <td>9.0</td>\n",
       "      <td>hot chocolate</td>\n",
       "      <td>Beverage</td>\n",
       "      <td>veg</td>\n",
       "      <td>milk, chocolate, cocoa powder, powdered sugar,...</td>\n",
       "    </tr>\n",
       "    <tr>\n",
       "      <th>9</th>\n",
       "      <td>3.0</td>\n",
       "      <td>110.0</td>\n",
       "      <td>10.0</td>\n",
       "      <td>chicken and mushroom lasagna</td>\n",
       "      <td>Italian</td>\n",
       "      <td>non-veg</td>\n",
       "      <td>chicken, salt, crush black pepper, garlic clov...</td>\n",
       "    </tr>\n",
       "  </tbody>\n",
       "</table>\n",
       "</div>"
      ],
      "text/plain": [
       "   user_id  food_id  rating                          name        c_type  \\\n",
       "0      1.0     88.0     4.0       peri peri chicken satay         Snack   \n",
       "1      1.0     46.0     3.0       steam bunny chicken bao      Japanese   \n",
       "2      1.0     24.0     5.0    green lentil dessert fudge       Dessert   \n",
       "3      1.0     25.0     4.0            cashew nut cookies       Dessert   \n",
       "4      2.0     49.0     1.0          christmas tree pizza       Italian   \n",
       "5      2.0     33.0     8.0   moong dal kiwi coconut soup        Indian   \n",
       "6      2.0    106.0     9.0  chicken nimbu dhaniya shorba      Beverage   \n",
       "7      2.0     71.0     8.0            carrot ginger soup  Healthy Food   \n",
       "8      3.0     73.0     9.0                 hot chocolate      Beverage   \n",
       "9      3.0    110.0    10.0  chicken and mushroom lasagna       Italian   \n",
       "\n",
       "   veg_non                                           describe  \n",
       "0  non-veg  boneless skinless chicken thigh (trimmed), sal...  \n",
       "1  non-veg  buns, all purpose white flour, dry yeast, suga...  \n",
       "2      veg  whole moong beans, cow ghee, raisins, whole mi...  \n",
       "3      veg  cashew paste, ghee, khaand (a sweetening agent...  \n",
       "4      veg  pizza dough (2 boules), red pepper, red onion,...  \n",
       "5      veg  green gram (dhuli moong dal), kiwis, coconut c...  \n",
       "6  non-veg  water, chicken (diced)), ginger garlic paste, ...  \n",
       "7      veg  Carrots, Olive Oil, Salt, Vegetable Stock, Gin...  \n",
       "8      veg  milk, chocolate, cocoa powder, powdered sugar,...  \n",
       "9  non-veg  chicken, salt, crush black pepper, garlic clov...  "
      ]
     },
     "execution_count": 12,
     "metadata": {},
     "output_type": "execute_result"
    }
   ],
   "source": [
    "# Informasi dataset hasil gabungan\n",
    "print(\"Hasil penggabungan dataset:\")\n",
    "merged_data.head(10)\n"
   ]
  },
  {
   "cell_type": "code",
   "execution_count": 13,
   "metadata": {},
   "outputs": [
    {
     "name": "stdout",
     "output_type": "stream",
     "text": [
      "\n",
      "Informasi dataset hasil gabungan:\n",
      "<class 'pandas.core.frame.DataFrame'>\n",
      "RangeIndex: 511 entries, 0 to 510\n",
      "Data columns (total 7 columns):\n",
      " #   Column    Non-Null Count  Dtype  \n",
      "---  ------    --------------  -----  \n",
      " 0   user_id   511 non-null    float64\n",
      " 1   food_id   511 non-null    float64\n",
      " 2   rating    511 non-null    float64\n",
      " 3   name      511 non-null    object \n",
      " 4   c_type    511 non-null    object \n",
      " 5   veg_non   511 non-null    object \n",
      " 6   describe  511 non-null    object \n",
      "dtypes: float64(3), object(4)\n",
      "memory usage: 28.1+ KB\n",
      "None\n"
     ]
    }
   ],
   "source": [
    "print(\"\\nInformasi dataset hasil gabungan:\")\n",
    "print(merged_data.info())"
   ]
  },
  {
   "cell_type": "code",
   "execution_count": 14,
   "metadata": {},
   "outputs": [],
   "source": [
    "# Mengubah nilai kolom menjadi lowercase\n",
    "merged_data['name'] = merged_data['name'].str.lower()\n",
    "merged_data['c_type'] = merged_data['c_type'].str.lower()\n",
    "merged_data['describe'] = merged_data['describe'].str.lower()"
   ]
  },
  {
   "cell_type": "markdown",
   "metadata": {},
   "source": [
    "Kode ini mengubah nilai dalam kolom `name`, `c_type`, dan `describe` pada DataFrame `merged_data` menjadi huruf kecil dengan menggunakan metode `.str.lower()`. Hal ini bertujuan untuk meningkatkan konsistensi data dan memudahkan analisis atau pencarian lebih lanjut tanpa memperhatikan perbedaan huruf besar/kecil."
   ]
  },
  {
   "cell_type": "markdown",
   "metadata": {},
   "source": [
    "### Data Cleaning"
   ]
  },
  {
   "cell_type": "markdown",
   "metadata": {},
   "source": [
    "**Data Cleaning** adalah tahap krusial dalam pipeline machine learning, yang bertujuan memastikan data yang digunakan dalam pelatihan model bebas dari kesalahan, inkonsistensi, atau kekurangan. Ini mencakup menangani data yang hilang, mendeteksi dan memperbaiki outliers, mengatasi duplikasi, serta memastikan bahwa format dan tipe data sesuai. Data yang bersih memungkinkan model untuk belajar dari data yang representatif, yang pada akhirnya menghasilkan model yang lebih akurat dan dapat diandalkan."
   ]
  },
  {
   "cell_type": "code",
   "execution_count": 15,
   "metadata": {},
   "outputs": [
    {
     "data": {
      "text/plain": [
       "user_id     0\n",
       "food_id     0\n",
       "rating      0\n",
       "name        0\n",
       "c_type      0\n",
       "veg_non     0\n",
       "describe    0\n",
       "dtype: int64"
      ]
     },
     "execution_count": 15,
     "metadata": {},
     "output_type": "execute_result"
    }
   ],
   "source": [
    "#Cek missing value\n",
    "merged_data.isnull().sum()"
   ]
  },
  {
   "cell_type": "code",
   "execution_count": 16,
   "metadata": {},
   "outputs": [],
   "source": [
    "import pandas as pd\n",
    "from sklearn.feature_extraction.text import TfidfVectorizer\n",
    "from sklearn.metrics.pairwise import cosine_similarity\n",
    "\n",
    "# Menghapus nilai null\n",
    "merged_data = merged_data.dropna()\n"
   ]
  },
  {
   "cell_type": "code",
   "execution_count": 17,
   "metadata": {},
   "outputs": [
    {
     "name": "stdout",
     "output_type": "stream",
     "text": [
      "\n",
      "Jumlah missing value pada dataset:\n",
      "user_id     0\n",
      "food_id     0\n",
      "rating      0\n",
      "name        0\n",
      "c_type      0\n",
      "veg_non     0\n",
      "describe    0\n",
      "dtype: int64\n"
     ]
    }
   ],
   "source": [
    "# Cek missing value\n",
    "print(\"\\nJumlah missing value pada dataset:\")\n",
    "print(merged_data.isnull().sum())\n",
    "\n"
   ]
  },
  {
   "cell_type": "code",
   "execution_count": 18,
   "metadata": {},
   "outputs": [],
   "source": [
    "# Menghapus duplikat berdasarkan food_id\n",
    "cleaned_data = merged_data.drop_duplicates('food_id')\n"
   ]
  },
  {
   "cell_type": "code",
   "execution_count": 19,
   "metadata": {},
   "outputs": [],
   "source": [
    "# Membuat DataFrame untuk digunakan\n",
    "foods = pd.DataFrame({\n",
    "    'food_id': cleaned_data['food_id'].tolist(),\n",
    "    'name': cleaned_data['name'].tolist(),\n",
    "    'c_type': cleaned_data['c_type'].tolist(),\n",
    "    'veg_non': cleaned_data['veg_non'].tolist(),\n",
    "    'describe': cleaned_data['describe'].tolist(),\n",
    "})"
   ]
  },
  {
   "cell_type": "markdown",
   "metadata": {},
   "source": [
    "##  TF IDF Vectorizer"
   ]
  },
  {
   "cell_type": "markdown",
   "metadata": {},
   "source": [
    "**TF-IDF Vectorizer** adalah alat yang digunakan untuk mengubah teks menjadi representasi numerik berdasarkan seberapa sering kata muncul dalam teks (TF) dan seberapa penting kata tersebut dibandingkan dengan seluruh koleksi teks (IDF). Pada kode yang diberikan, TF-IDF digunakan untuk menganalisis kolom **`describe`** dalam DataFrame `foods`, mengubah deskripsi makanan menjadi bentuk yang dapat diproses lebih lanjut oleh model machine learning, serta memberikan gambaran tentang kata-kata penting dalam deskripsi makanan berdasarkan konteks seluruh dataset."
   ]
  },
  {
   "cell_type": "code",
   "execution_count": 20,
   "metadata": {},
   "outputs": [],
   "source": [
    "# TF-IDF Vectorizer untuk kolom Describe\n",
    "tf = TfidfVectorizer(stop_words='english')  # Menghapus kata umum dalam bahasa Inggris\n",
    "tfidf_matrix = tf.fit_transform(foods['describe'])\n"
   ]
  },
  {
   "cell_type": "code",
   "execution_count": 21,
   "metadata": {},
   "outputs": [
    {
     "name": "stdout",
     "output_type": "stream",
     "text": [
      "Fitur unik dari kolom 'describe':\n",
      "['10' '13' '150' ... 'zested' 'zinfandel' 'zucchini'] \n",
      "\n"
     ]
    }
   ],
   "source": [
    "# Mapping array dari fitur index integer ke fitur nama\n",
    "feature_names = tf.get_feature_names_out()  # Mendapatkan nama fitur (kata-kata unik)\n",
    "print(\"Fitur unik dari kolom 'describe':\")\n",
    "print(feature_names, \"\\n\")"
   ]
  },
  {
   "cell_type": "code",
   "execution_count": 22,
   "metadata": {},
   "outputs": [],
   "source": [
    "# Menampilkan Matriks TF-IDF dalam bentuk DataFrame\n",
    "tfidf_df = pd.DataFrame(\n",
    "    tfidf_matrix.todense(),  # Konversi sparse matrix ke dense matrix\n",
    "    columns=feature_names,  # Kolom berdasarkan kata-kata unik\n",
    "    index=foods['name']  # Nama makanan sebagai indeks\n",
    ")"
   ]
  },
  {
   "cell_type": "code",
   "execution_count": 23,
   "metadata": {},
   "outputs": [
    {
     "name": "stdout",
     "output_type": "stream",
     "text": [
      "\n",
      "Matriks TF-IDF untuk beberapa makanan (random 5 baris):\n",
      "                                       10   13  150  15th   20   25  300  3cm  \\\n",
      "name                                                                            \n",
      "broccoli souffle                      0.0  0.0  0.0   0.0  0.0  0.0  0.0  0.0   \n",
      "chicken and mushroom lasagna          0.0  0.0  0.0   0.0  0.0  0.0  0.0  0.0   \n",
      "fennel scented sweet banana fritters  0.0  0.0  0.0   0.0  0.0  0.0  0.0  0.0   \n",
      "pesto fish kebabs                     0.0  0.0  0.0   0.0  0.0  0.0  0.0  0.0   \n",
      "deviled scotch egg                    0.0  0.0  0.0   0.0  0.0  0.0  0.0  0.0   \n",
      "\n",
      "                                       50  aamchoor  ...  yoks  yolk  yolks  \\\n",
      "name                                                 ...                      \n",
      "broccoli souffle                      0.0       0.0  ...   0.0   0.0    0.0   \n",
      "chicken and mushroom lasagna          0.0       0.0  ...   0.0   0.0    0.0   \n",
      "fennel scented sweet banana fritters  0.0       0.0  ...   0.0   0.0    0.0   \n",
      "pesto fish kebabs                     0.0       0.0  ...   0.0   0.0    0.0   \n",
      "deviled scotch egg                    0.0       0.0  ...   0.0   0.0    0.0   \n",
      "\n",
      "                                      young  yut  zeera  zest  zested  \\\n",
      "name                                                                    \n",
      "broccoli souffle                        0.0  0.0    0.0   0.0     0.0   \n",
      "chicken and mushroom lasagna            0.0  0.0    0.0   0.0     0.0   \n",
      "fennel scented sweet banana fritters    0.0  0.0    0.0   0.0     0.0   \n",
      "pesto fish kebabs                       0.0  0.0    0.0   0.0     0.0   \n",
      "deviled scotch egg                      0.0  0.0    0.0   0.0     0.0   \n",
      "\n",
      "                                      zinfandel  zucchini  \n",
      "name                                                       \n",
      "broccoli souffle                            0.0       0.0  \n",
      "chicken and mushroom lasagna                0.0       0.0  \n",
      "fennel scented sweet banana fritters        0.0       0.0  \n",
      "pesto fish kebabs                           0.0       0.0  \n",
      "deviled scotch egg                          0.0       0.0  \n",
      "\n",
      "[5 rows x 1076 columns] \n",
      "\n"
     ]
    }
   ],
   "source": [
    "# Menampilkan matriks TF-IDF untuk 5 baris acak\n",
    "print(\"\\nMatriks TF-IDF untuk beberapa makanan (random 5 baris):\")\n",
    "print(tfidf_df.sample(5), \"\\n\")"
   ]
  },
  {
   "cell_type": "markdown",
   "metadata": {},
   "source": [
    "## Cosine Similarity"
   ]
  },
  {
   "cell_type": "markdown",
   "metadata": {},
   "source": [
    "**Cosine Similarity** pada kode tersebut digunakan untuk menghitung tingkat kesamaan antara deskripsi makanan berdasarkan representasi TF-IDF mereka. Matriks yang dihasilkan menunjukkan seberapa mirip setiap makanan satu sama lain berdasarkan deskripsi yang ada. Matriks ini sangat berguna untuk aplikasi seperti sistem rekomendasi, di mana kita bisa menyarankan makanan yang mirip dengan makanan yang telah dipilih pengguna, atau untuk analisis teks lainnya yang membutuhkan pemahaman tentang kesamaan antara dokumen."
   ]
  },
  {
   "cell_type": "code",
   "execution_count": 24,
   "metadata": {},
   "outputs": [],
   "source": [
    "# Menghitung cosine similarity\n",
    "cosine_sim = cosine_similarity(tfidf_matrix)\n",
    "\n"
   ]
  },
  {
   "cell_type": "code",
   "execution_count": 25,
   "metadata": {},
   "outputs": [
    {
     "name": "stdout",
     "output_type": "stream",
     "text": [
      "\n",
      "=== Contoh Cosine Similarity Matrix ===\n",
      "name                        peri peri chicken satay  steam bunny chicken bao  \\\n",
      "name                                                                           \n",
      "peri peri chicken satay                    1.000000                 0.086751   \n",
      "steam bunny chicken bao                    0.086751                 1.000000   \n",
      "green lentil dessert fudge                 0.000000                 0.000000   \n",
      "cashew nut cookies                         0.055632                 0.089359   \n",
      "christmas tree pizza                       0.017025                 0.005378   \n",
      "\n",
      "name                        green lentil dessert fudge  cashew nut cookies  \\\n",
      "name                                                                         \n",
      "peri peri chicken satay                         0.0000            0.055632   \n",
      "steam bunny chicken bao                         0.0000            0.089359   \n",
      "green lentil dessert fudge                      1.0000            0.133500   \n",
      "cashew nut cookies                              0.1335            1.000000   \n",
      "christmas tree pizza                            0.0000            0.000000   \n",
      "\n",
      "name                        christmas tree pizza  moong dal kiwi coconut soup  \\\n",
      "name                                                                            \n",
      "peri peri chicken satay                 0.017025                     0.083053   \n",
      "steam bunny chicken bao                 0.005378                     0.028752   \n",
      "green lentil dessert fudge              0.000000                     0.100788   \n",
      "cashew nut cookies                      0.000000                     0.051878   \n",
      "christmas tree pizza                    1.000000                     0.016380   \n",
      "\n",
      "name                        chicken nimbu dhaniya shorba  carrot ginger soup  \\\n",
      "name                                                                           \n",
      "peri peri chicken satay                         0.190468            0.071337   \n",
      "steam bunny chicken bao                         0.079788            0.020051   \n",
      "green lentil dessert fudge                      0.000000            0.000000   \n",
      "cashew nut cookies                              0.066933            0.000000   \n",
      "christmas tree pizza                            0.008494            0.044888   \n",
      "\n",
      "name                        hot chocolate  chicken and mushroom lasagna  ...  \\\n",
      "name                                                                     ...   \n",
      "peri peri chicken satay          0.016524                      0.084167  ...   \n",
      "steam bunny chicken bao          0.073415                      0.092152  ...   \n",
      "green lentil dessert fudge       0.050735                      0.027243  ...   \n",
      "cashew nut cookies               0.098377                      0.000000  ...   \n",
      "christmas tree pizza             0.000000                      0.120451  ...   \n",
      "\n",
      "name                        restaurant style fried chicken  \\\n",
      "name                                                         \n",
      "peri peri chicken satay                           0.127671   \n",
      "steam bunny chicken bao                           0.132537   \n",
      "green lentil dessert fudge                        0.000000   \n",
      "cashew nut cookies                                0.027541   \n",
      "christmas tree pizza                              0.118552   \n",
      "\n",
      "name                        chicken tikka masala  flattened rice / poha  \\\n",
      "name                                                                      \n",
      "peri peri chicken satay                 0.122082               0.000000   \n",
      "steam bunny chicken bao                 0.110834               0.037703   \n",
      "green lentil dessert fudge              0.000000               0.015549   \n",
      "cashew nut cookies                      0.054433               0.000000   \n",
      "christmas tree pizza                    0.000000               0.000000   \n",
      "\n",
      "name                        corn and raw mango salad  soya milk  \\\n",
      "name                                                              \n",
      "peri peri chicken satay                     0.052618   0.000000   \n",
      "steam bunny chicken bao                     0.036712   0.041739   \n",
      "green lentil dessert fudge                  0.000000   0.000000   \n",
      "cashew nut cookies                          0.005869   0.000000   \n",
      "christmas tree pizza                        0.013903   0.000000   \n",
      "\n",
      "name                        egg and cheddar cheese sandwich  \\\n",
      "name                                                          \n",
      "peri peri chicken satay                            0.076000   \n",
      "steam bunny chicken bao                            0.012162   \n",
      "green lentil dessert fudge                         0.000000   \n",
      "cashew nut cookies                                 0.000000   \n",
      "christmas tree pizza                               0.118109   \n",
      "\n",
      "name                        mustard-parmesan whole roasted cauliflower  \\\n",
      "name                                                                     \n",
      "peri peri chicken satay                                       0.060200   \n",
      "steam bunny chicken bao                                       0.015214   \n",
      "green lentil dessert fudge                                    0.135980   \n",
      "cashew nut cookies                                            0.000000   \n",
      "christmas tree pizza                                          0.098274   \n",
      "\n",
      "name                        buldak (hot and spicy chicken)  prawn fried rice  \\\n",
      "name                                                                           \n",
      "peri peri chicken satay                           0.074715          0.131203   \n",
      "steam bunny chicken bao                           0.213867          0.181625   \n",
      "green lentil dessert fudge                        0.000000          0.000000   \n",
      "cashew nut cookies                                0.021105          0.000000   \n",
      "christmas tree pizza                              0.036192          0.030732   \n",
      "\n",
      "name                        gluten free almond cake  \n",
      "name                                                 \n",
      "peri peri chicken satay                    0.019254  \n",
      "steam bunny chicken bao                    0.020709  \n",
      "green lentil dessert fudge                 0.000000  \n",
      "cashew nut cookies                         0.173966  \n",
      "christmas tree pizza                       0.007550  \n",
      "\n",
      "[5 rows x 309 columns]\n"
     ]
    }
   ],
   "source": [
    "# Membuat DataFrame dari matriks cosine similarity\n",
    "cosine_sim_df = pd.DataFrame(cosine_sim, index=foods['name'], columns=foods['name'])\n",
    "\n",
    "print(\"\\n=== Contoh Cosine Similarity Matrix ===\")\n",
    "print(cosine_sim_df.head())"
   ]
  },
  {
   "cell_type": "code",
   "execution_count": 26,
   "metadata": {},
   "outputs": [
    {
     "name": "stdout",
     "output_type": "stream",
     "text": [
      "name                        peri peri chicken satay  steam bunny chicken bao  \\\n",
      "name                                                                           \n",
      "peri peri chicken satay                    1.000000                 0.086751   \n",
      "steam bunny chicken bao                    0.086751                 1.000000   \n",
      "green lentil dessert fudge                 0.000000                 0.000000   \n",
      "cashew nut cookies                         0.055632                 0.089359   \n",
      "christmas tree pizza                       0.017025                 0.005378   \n",
      "\n",
      "name                        green lentil dessert fudge  cashew nut cookies  \\\n",
      "name                                                                         \n",
      "peri peri chicken satay                         0.0000            0.055632   \n",
      "steam bunny chicken bao                         0.0000            0.089359   \n",
      "green lentil dessert fudge                      1.0000            0.133500   \n",
      "cashew nut cookies                              0.1335            1.000000   \n",
      "christmas tree pizza                            0.0000            0.000000   \n",
      "\n",
      "name                        christmas tree pizza  moong dal kiwi coconut soup  \\\n",
      "name                                                                            \n",
      "peri peri chicken satay                 0.017025                     0.083053   \n",
      "steam bunny chicken bao                 0.005378                     0.028752   \n",
      "green lentil dessert fudge              0.000000                     0.100788   \n",
      "cashew nut cookies                      0.000000                     0.051878   \n",
      "christmas tree pizza                    1.000000                     0.016380   \n",
      "\n",
      "name                        chicken nimbu dhaniya shorba  carrot ginger soup  \\\n",
      "name                                                                           \n",
      "peri peri chicken satay                         0.190468            0.071337   \n",
      "steam bunny chicken bao                         0.079788            0.020051   \n",
      "green lentil dessert fudge                      0.000000            0.000000   \n",
      "cashew nut cookies                              0.066933            0.000000   \n",
      "christmas tree pizza                            0.008494            0.044888   \n",
      "\n",
      "name                        hot chocolate  chicken and mushroom lasagna  ...  \\\n",
      "name                                                                     ...   \n",
      "peri peri chicken satay          0.016524                      0.084167  ...   \n",
      "steam bunny chicken bao          0.073415                      0.092152  ...   \n",
      "green lentil dessert fudge       0.050735                      0.027243  ...   \n",
      "cashew nut cookies               0.098377                      0.000000  ...   \n",
      "christmas tree pizza             0.000000                      0.120451  ...   \n",
      "\n",
      "name                        restaurant style fried chicken  \\\n",
      "name                                                         \n",
      "peri peri chicken satay                           0.127671   \n",
      "steam bunny chicken bao                           0.132537   \n",
      "green lentil dessert fudge                        0.000000   \n",
      "cashew nut cookies                                0.027541   \n",
      "christmas tree pizza                              0.118552   \n",
      "\n",
      "name                        chicken tikka masala  flattened rice / poha  \\\n",
      "name                                                                      \n",
      "peri peri chicken satay                 0.122082               0.000000   \n",
      "steam bunny chicken bao                 0.110834               0.037703   \n",
      "green lentil dessert fudge              0.000000               0.015549   \n",
      "cashew nut cookies                      0.054433               0.000000   \n",
      "christmas tree pizza                    0.000000               0.000000   \n",
      "\n",
      "name                        corn and raw mango salad  soya milk  \\\n",
      "name                                                              \n",
      "peri peri chicken satay                     0.052618   0.000000   \n",
      "steam bunny chicken bao                     0.036712   0.041739   \n",
      "green lentil dessert fudge                  0.000000   0.000000   \n",
      "cashew nut cookies                          0.005869   0.000000   \n",
      "christmas tree pizza                        0.013903   0.000000   \n",
      "\n",
      "name                        egg and cheddar cheese sandwich  \\\n",
      "name                                                          \n",
      "peri peri chicken satay                            0.076000   \n",
      "steam bunny chicken bao                            0.012162   \n",
      "green lentil dessert fudge                         0.000000   \n",
      "cashew nut cookies                                 0.000000   \n",
      "christmas tree pizza                               0.118109   \n",
      "\n",
      "name                        mustard-parmesan whole roasted cauliflower  \\\n",
      "name                                                                     \n",
      "peri peri chicken satay                                       0.060200   \n",
      "steam bunny chicken bao                                       0.015214   \n",
      "green lentil dessert fudge                                    0.135980   \n",
      "cashew nut cookies                                            0.000000   \n",
      "christmas tree pizza                                          0.098274   \n",
      "\n",
      "name                        buldak (hot and spicy chicken)  prawn fried rice  \\\n",
      "name                                                                           \n",
      "peri peri chicken satay                           0.074715          0.131203   \n",
      "steam bunny chicken bao                           0.213867          0.181625   \n",
      "green lentil dessert fudge                        0.000000          0.000000   \n",
      "cashew nut cookies                                0.021105          0.000000   \n",
      "christmas tree pizza                              0.036192          0.030732   \n",
      "\n",
      "name                        gluten free almond cake  \n",
      "name                                                 \n",
      "peri peri chicken satay                    0.019254  \n",
      "steam bunny chicken bao                    0.020709  \n",
      "green lentil dessert fudge                 0.000000  \n",
      "cashew nut cookies                         0.173966  \n",
      "christmas tree pizza                       0.007550  \n",
      "\n",
      "[5 rows x 309 columns] \n",
      "\n"
     ]
    }
   ],
   "source": [
    "# print(\"=== Cosine Similarity Matrix ===\")\n",
    "print(cosine_sim_df.head(), \"\\n\")\n"
   ]
  },
  {
   "cell_type": "code",
   "execution_count": 27,
   "metadata": {},
   "outputs": [
    {
     "name": "stdout",
     "output_type": "stream",
     "text": [
      "name                                     christmas tree pizza  \\\n",
      "name                                                            \n",
      "baked namakpara with roasted almond dip              0.081027   \n",
      "dahi lasooni chicken                                 0.010432   \n",
      "chicken in mahalak sauce                             0.049412   \n",
      "\n",
      "name                                     risotto lobster with parmesan egg pancake, confit tomatoes and coral tuille  \\\n",
      "name                                                                                                                   \n",
      "baked namakpara with roasted almond dip                                           0.185611                             \n",
      "dahi lasooni chicken                                                              0.094301                             \n",
      "chicken in mahalak sauce                                                          0.131449                             \n",
      "\n",
      "name                                     gluten free almond cake  \n",
      "name                                                              \n",
      "baked namakpara with roasted almond dip                 0.021447  \n",
      "dahi lasooni chicken                                    0.016325  \n",
      "chicken in mahalak sauce                                0.009522   \n",
      "\n"
     ]
    }
   ],
   "source": [
    "# Melihat similarity matrix pada setiap genre atau nama\n",
    "print(cosine_sim_df.sample(3, axis=1).sample(3, axis=0), \"\\n\")"
   ]
  },
  {
   "cell_type": "markdown",
   "metadata": {},
   "source": [
    "# 4. Modelling Content Based Filtering dan Collaborative Filtering"
   ]
  },
  {
   "cell_type": "markdown",
   "metadata": {},
   "source": [
    "## 4.1 Modelling Content Based Filtering (CBF)"
   ]
  },
  {
   "cell_type": "code",
   "execution_count": 28,
   "metadata": {},
   "outputs": [],
   "source": [
    "def food_recommendations(input_value, similarity_data=cosine_sim_df, items=foods[['name', 'c_type', 'veg_non']], k=4):\n",
    "    input_value = input_value.strip().lower()  # Pastikan input dalam lowercase dan tanpa spasi ekstra\n",
    "\n",
    "    print(f\"Input value: {input_value}\")  # Debugging: Periksa input_value\n",
    "\n",
    "    # Jika input_value ada sebagai nama makanan dalam similarity_data (pencocokan parsial)\n",
    "    matching_items = [name for name in similarity_data.columns if input_value in name.lower()]\n",
    "    \n",
    "    if matching_items:\n",
    "        print(f\"Nama makanan yang cocok dengan '{input_value}': {matching_items}\")  # Debugging\n",
    "        # Rekomendasi berdasarkan nama makanan\n",
    "        closest = matching_items  # Gunakan semua makanan yang cocok\n",
    "        closest_df = pd.DataFrame({'name': closest})  # Buat DataFrame dengan kolom 'name'\n",
    "        return closest_df.merge(items, on='name').head(k)\n",
    "    \n",
    "    # Jika input_value adalah C_Type yang ada dalam dataset (menggunakan pencocokan parsial)\n",
    "    elif any(input_value in ctype.lower() for ctype in items['c_type'].unique()):\n",
    "        # Filter dataset berdasarkan C_Type yang mengandung input_value\n",
    "        filtered_items = items[items['c_type'].str.contains(input_value, case=False, na=False)]\n",
    "        return filtered_items.head(k)\n",
    "    \n",
    "    else:\n",
    "        # Jika input_value tidak ditemukan\n",
    "        available_names = \", \".join(items['name'].unique()[:5])  # Tampilkan 5 nama makanan\n",
    "        available_types = \", \".join(items['c_type'].unique()[:5])  # Tampilkan 5 jenis makanan\n",
    "        return (f\"Tidak ada rekomendasi yang ditemukan untuk '{input_value}'.\\n\"\n",
    "                f\"Coba masukkan salah satu nama berikut: {available_names}, atau salah satu jenis makanan berikut: {available_types}\")\n"
   ]
  },
  {
   "cell_type": "markdown",
   "metadata": {},
   "source": [
    "Fungsi **`food_recommendations`** memberikan rekomendasi makanan berdasarkan input pengguna. Jika pengguna memasukkan nama makanan, fungsi mencari makanan yang namanya mirip. Jika tidak ada, fungsi akan mencari berdasarkan jenis makanan (misalnya, \"healthy food\"). Jika input tidak cocok dengan nama atau jenis makanan apapun, fungsi memberikan daftar beberapa makanan atau jenis makanan yang tersedia sebagai alternatif. Hanya `k` rekomendasi teratas yang ditampilkan."
   ]
  },
  {
   "cell_type": "markdown",
   "metadata": {},
   "source": [
    "### 4.1.1 Penggunaan Content Based Filtering (CBF)"
   ]
  },
  {
   "cell_type": "code",
   "execution_count": 29,
   "metadata": {},
   "outputs": [
    {
     "name": "stdout",
     "output_type": "stream",
     "text": [
      "\n",
      "Selamat datang di sistem rekomendasi makanan!\n",
      "Input value: thai\n",
      "Nama makanan yang cocok dengan 'thai': ['thai lamb balls', 'thai pineapple rice', 'thai prawn curry & baked rice ', 'thai style chicken tikka', 'thai fish curry']\n",
      "\n",
      "=== Hasil Rekomendasi ===\n",
      "name                           c_type veg_non\n",
      "               thai lamb balls thai   non-veg\n",
      "           thai pineapple rice thai       veg\n",
      "thai prawn curry & baked rice  thai       veg\n",
      "      thai style chicken tikka thai   non-veg\n",
      "               thai fish curry thai   non-veg\n",
      "Input value: pizza\n",
      "Nama makanan yang cocok dengan 'pizza': ['christmas tree pizza', 'mexican pizza', 'filo pizza', 'kuttu atta pizza', 'meat lovers pizza', 'tricolour pizza']\n",
      "\n",
      "=== Hasil Rekomendasi ===\n",
      "name                 c_type  veg_non\n",
      "christmas tree pizza italian     veg\n",
      "       mexican pizza mexican     veg\n",
      "          filo pizza italian     veg\n",
      "    kuttu atta pizza italian     veg\n",
      "   meat lovers pizza italian non-veg\n",
      "     tricolour pizza italian     veg\n",
      "\n",
      "Terima kasih telah menggunakan sistem rekomendasi makanan!\n"
     ]
    }
   ],
   "source": [
    "print(\"\\nSelamat datang di sistem rekomendasi makanan!\")\n",
    "\n",
    "# Meminta input jumlah pencarian yang diinginkan\n",
    "while True:\n",
    "    try:\n",
    "        total_searches = int(input(\"Masukkan jumlah pencarian yang Anda inginkan: \").strip())\n",
    "        if total_searches > 0:\n",
    "            break  # Keluar dari loop jika input valid\n",
    "        else:\n",
    "            print(\"Jumlah pencarian harus lebih besar dari 0. Coba lagi.\")\n",
    "    except ValueError:\n",
    "        print(\"Input tidak valid. Masukkan angka yang valid.\")\n",
    "\n",
    "# Melakukan pencarian sebanyak total_searches\n",
    "for _ in range(total_searches):\n",
    "    # Meminta input nama makanan atau jenis makanan\n",
    "    input_value = input(\"\\nMasukkan nama makanan atau jenis makanan yang Anda suka: \").strip()\n",
    "\n",
    "    # Mendapatkan hasil rekomendasi berdasarkan input dan jumlah yang diinginkan (default k=10)\n",
    "    result = food_recommendations(input_value, k=10)\n",
    "\n",
    "    # Menampilkan hasil rekomendasi\n",
    "    print(\"\\n=== Hasil Rekomendasi ===\")\n",
    "    if isinstance(result, pd.DataFrame):  # Jika hasil adalah DataFrame\n",
    "        print(result.to_string(index=False, justify='left'))  # Tampilkan dengan format rata kiri\n",
    "    else:\n",
    "        print(result)  # Jika hasil adalah string (pesan error)\n",
    "\n",
    "print(\"\\nTerima kasih telah menggunakan sistem rekomendasi makanan!\")\n"
   ]
  },
  {
   "cell_type": "markdown",
   "metadata": {},
   "source": [
    "Program ini mengizinkan pengguna untuk melakukan pencarian beberapa kali dan mendapatkan rekomendasi makanan berdasarkan input yang diberikan. Input yang tidak valid akan terus diproses ulang hingga benar. Setelah pencarian selesai, hasilnya ditampilkan dalam format yang mudah dibaca."
   ]
  },
  {
   "cell_type": "markdown",
   "metadata": {},
   "source": [
    "## 4.2 Modelling Collaborative Filtering"
   ]
  },
  {
   "cell_type": "code",
   "execution_count": 30,
   "metadata": {},
   "outputs": [],
   "source": [
    "# Import library\n",
    "import pandas as pd\n",
    "import numpy as np\n",
    "import tensorflow as tf\n",
    "from tensorflow.keras import layers, regularizers\n",
    "import matplotlib.pyplot as plt"
   ]
  },
  {
   "cell_type": "code",
   "execution_count": 31,
   "metadata": {},
   "outputs": [
    {
     "data": {
      "text/html": [
       "<div>\n",
       "<style scoped>\n",
       "    .dataframe tbody tr th:only-of-type {\n",
       "        vertical-align: middle;\n",
       "    }\n",
       "\n",
       "    .dataframe tbody tr th {\n",
       "        vertical-align: top;\n",
       "    }\n",
       "\n",
       "    .dataframe thead th {\n",
       "        text-align: right;\n",
       "    }\n",
       "</style>\n",
       "<table border=\"1\" class=\"dataframe\">\n",
       "  <thead>\n",
       "    <tr style=\"text-align: right;\">\n",
       "      <th></th>\n",
       "      <th>user_id</th>\n",
       "      <th>food_id</th>\n",
       "      <th>rating</th>\n",
       "    </tr>\n",
       "  </thead>\n",
       "  <tbody>\n",
       "    <tr>\n",
       "      <th>0</th>\n",
       "      <td>1.0</td>\n",
       "      <td>88.0</td>\n",
       "      <td>4.0</td>\n",
       "    </tr>\n",
       "    <tr>\n",
       "      <th>1</th>\n",
       "      <td>1.0</td>\n",
       "      <td>46.0</td>\n",
       "      <td>3.0</td>\n",
       "    </tr>\n",
       "    <tr>\n",
       "      <th>2</th>\n",
       "      <td>1.0</td>\n",
       "      <td>24.0</td>\n",
       "      <td>5.0</td>\n",
       "    </tr>\n",
       "    <tr>\n",
       "      <th>3</th>\n",
       "      <td>1.0</td>\n",
       "      <td>25.0</td>\n",
       "      <td>4.0</td>\n",
       "    </tr>\n",
       "    <tr>\n",
       "      <th>4</th>\n",
       "      <td>2.0</td>\n",
       "      <td>49.0</td>\n",
       "      <td>1.0</td>\n",
       "    </tr>\n",
       "    <tr>\n",
       "      <th>...</th>\n",
       "      <td>...</td>\n",
       "      <td>...</td>\n",
       "      <td>...</td>\n",
       "    </tr>\n",
       "    <tr>\n",
       "      <th>507</th>\n",
       "      <td>99.0</td>\n",
       "      <td>22.0</td>\n",
       "      <td>1.0</td>\n",
       "    </tr>\n",
       "    <tr>\n",
       "      <th>508</th>\n",
       "      <td>100.0</td>\n",
       "      <td>24.0</td>\n",
       "      <td>10.0</td>\n",
       "    </tr>\n",
       "    <tr>\n",
       "      <th>509</th>\n",
       "      <td>100.0</td>\n",
       "      <td>233.0</td>\n",
       "      <td>10.0</td>\n",
       "    </tr>\n",
       "    <tr>\n",
       "      <th>510</th>\n",
       "      <td>100.0</td>\n",
       "      <td>29.0</td>\n",
       "      <td>7.0</td>\n",
       "    </tr>\n",
       "    <tr>\n",
       "      <th>511</th>\n",
       "      <td>NaN</td>\n",
       "      <td>NaN</td>\n",
       "      <td>NaN</td>\n",
       "    </tr>\n",
       "  </tbody>\n",
       "</table>\n",
       "<p>512 rows × 3 columns</p>\n",
       "</div>"
      ],
      "text/plain": [
       "     user_id  food_id  rating\n",
       "0        1.0     88.0     4.0\n",
       "1        1.0     46.0     3.0\n",
       "2        1.0     24.0     5.0\n",
       "3        1.0     25.0     4.0\n",
       "4        2.0     49.0     1.0\n",
       "..       ...      ...     ...\n",
       "507     99.0     22.0     1.0\n",
       "508    100.0     24.0    10.0\n",
       "509    100.0    233.0    10.0\n",
       "510    100.0     29.0     7.0\n",
       "511      NaN      NaN     NaN\n",
       "\n",
       "[512 rows x 3 columns]"
      ]
     },
     "execution_count": 31,
     "metadata": {},
     "output_type": "execute_result"
    }
   ],
   "source": [
    "# Membaca dataset\n",
    "df = rating\n",
    "df"
   ]
  },
  {
   "cell_type": "markdown",
   "metadata": {},
   "source": [
    "### 4.2.1 Preprocessing Dataset"
   ]
  },
  {
   "cell_type": "markdown",
   "metadata": {},
   "source": [
    "**Preprocessing Dataset**:\n",
    "Di bagian ini, dataset `rating` dipersiapkan untuk digunakan dalam model. Data yang hilang dihapus dengan fungsi `.dropna()`, dan kolom-kolomnya diubah menjadi huruf kecil menggunakan `.str.lower()`. Selanjutnya, ID pengguna dan ID makanan dikodekan menjadi angka dengan menggunakan fungsi `map()` untuk memetakan setiap ID ke nilai numerik yang unik, yang memungkinkan model untuk memahami input dalam bentuk numerik."
   ]
  },
  {
   "cell_type": "code",
   "execution_count": 32,
   "metadata": {},
   "outputs": [
    {
     "data": {
      "text/plain": [
       "user_id    1\n",
       "food_id    1\n",
       "rating     1\n",
       "dtype: int64"
      ]
     },
     "execution_count": 32,
     "metadata": {},
     "output_type": "execute_result"
    }
   ],
   "source": [
    "#Cek missing value\n",
    "df.isnull().sum()\n"
   ]
  },
  {
   "cell_type": "code",
   "execution_count": 33,
   "metadata": {},
   "outputs": [],
   "source": [
    "# Menghapus nilai null\n",
    "df = df.dropna()\n"
   ]
  },
  {
   "cell_type": "code",
   "execution_count": 34,
   "metadata": {},
   "outputs": [
    {
     "name": "stdout",
     "output_type": "stream",
     "text": [
      "\n",
      "Jumlah missing value pada dataset:\n"
     ]
    },
    {
     "data": {
      "text/plain": [
       "user_id    0\n",
       "food_id    0\n",
       "rating     0\n",
       "dtype: int64"
      ]
     },
     "execution_count": 34,
     "metadata": {},
     "output_type": "execute_result"
    }
   ],
   "source": [
    "# Cek missing value\n",
    "print(\"\\nJumlah missing value pada dataset:\")\n",
    "df.isnull().sum()"
   ]
  },
  {
   "cell_type": "code",
   "execution_count": 35,
   "metadata": {},
   "outputs": [
    {
     "name": "stderr",
     "output_type": "stream",
     "text": [
      "/tmp/ipykernel_89093/2605581458.py:10: SettingWithCopyWarning: \n",
      "A value is trying to be set on a copy of a slice from a DataFrame.\n",
      "Try using .loc[row_indexer,col_indexer] = value instead\n",
      "\n",
      "See the caveats in the documentation: https://pandas.pydata.org/pandas-docs/stable/user_guide/indexing.html#returning-a-view-versus-a-copy\n",
      "  df['user'] = df['user_id'].map(user_to_user_encoded)\n",
      "/tmp/ipykernel_89093/2605581458.py:11: SettingWithCopyWarning: \n",
      "A value is trying to be set on a copy of a slice from a DataFrame.\n",
      "Try using .loc[row_indexer,col_indexer] = value instead\n",
      "\n",
      "See the caveats in the documentation: https://pandas.pydata.org/pandas-docs/stable/user_guide/indexing.html#returning-a-view-versus-a-copy\n",
      "  df['food'] = df['food_id'].map(food_to_food_encoded)\n"
     ]
    }
   ],
   "source": [
    "# Encoding user_id dan food_id\n",
    "user_ids = df['user_id'].unique().tolist()\n",
    "user_to_user_encoded = {x: i for i, x in enumerate(user_ids)}\n",
    "user_encoded_to_user = {i: x for i, x in enumerate(user_ids)}\n",
    "\n",
    "food_ids = df['food_id'].unique().tolist()\n",
    "food_to_food_encoded = {x: i for i, x in enumerate(food_ids)}\n",
    "food_encoded_to_food = {i: x for i, x in enumerate(food_ids)}\n",
    "\n",
    "df['user'] = df['user_id'].map(user_to_user_encoded)\n",
    "df['food'] = df['food_id'].map(food_to_food_encoded)\n"
   ]
  },
  {
   "cell_type": "markdown",
   "metadata": {},
   "source": [
    "### 4.2.2 Statistik Dataset"
   ]
  },
  {
   "cell_type": "markdown",
   "metadata": {},
   "source": [
    "**Statistik Dataset**:\n",
    "Pada bagian ini, dilakukan perhitungan dasar tentang dataset, termasuk jumlah pengguna (`num_users`), jumlah makanan (`num_food`), serta nilai rating terendah dan tertinggi (`min_rating`, `max_rating`). Statistik ini memberikan gambaran umum tentang ukuran dan rentang rating dalam dataset yang akan digunakan untuk pelatihan model."
   ]
  },
  {
   "cell_type": "code",
   "execution_count": 36,
   "metadata": {},
   "outputs": [
    {
     "name": "stdout",
     "output_type": "stream",
     "text": [
      "Number of Users: 100, Number of Foods: 309, Min Rating: 1.0, Max Rating: 10.0\n"
     ]
    },
    {
     "name": "stderr",
     "output_type": "stream",
     "text": [
      "/tmp/ipykernel_89093/1220126829.py:4: SettingWithCopyWarning: \n",
      "A value is trying to be set on a copy of a slice from a DataFrame.\n",
      "Try using .loc[row_indexer,col_indexer] = value instead\n",
      "\n",
      "See the caveats in the documentation: https://pandas.pydata.org/pandas-docs/stable/user_guide/indexing.html#returning-a-view-versus-a-copy\n",
      "  df['rating'] = df['rating'].values.astype(np.float32)\n"
     ]
    }
   ],
   "source": [
    "# Statistik dataset\n",
    "num_users = len(user_to_user_encoded)\n",
    "num_food = len(food_to_food_encoded)\n",
    "df['rating'] = df['rating'].values.astype(np.float32)\n",
    "min_rating, max_rating = df['rating'].min(), df['rating'].max()\n",
    "\n",
    "print(f'Number of Users: {num_users}, Number of Foods: {num_food}, '\n",
    "      f'Min Rating: {min_rating}, Max Rating: {max_rating}')\n"
   ]
  },
  {
   "cell_type": "markdown",
   "metadata": {},
   "source": [
    "### 4.2.3 Split Data"
   ]
  },
  {
   "cell_type": "markdown",
   "metadata": {},
   "source": [
    "**Pembagian Data**:\n",
    "Di sini, dataset diacak dengan fungsi `.sample()` untuk memastikan bahwa model tidak akan terpapar pada urutan data yang spesifik. Data kemudian dibagi menjadi dua bagian: 80% untuk data latih dan 20% untuk data validasi. Selain itu, rating dinormalisasi ke dalam rentang [0, 1] agar lebih mudah diproses oleh model, dengan menggunakan rumus normalisasi `(x - min_rating) / (max_rating - min_rating)`.\n"
   ]
  },
  {
   "cell_type": "code",
   "execution_count": 37,
   "metadata": {},
   "outputs": [
    {
     "data": {
      "text/html": [
       "<div>\n",
       "<style scoped>\n",
       "    .dataframe tbody tr th:only-of-type {\n",
       "        vertical-align: middle;\n",
       "    }\n",
       "\n",
       "    .dataframe tbody tr th {\n",
       "        vertical-align: top;\n",
       "    }\n",
       "\n",
       "    .dataframe thead th {\n",
       "        text-align: right;\n",
       "    }\n",
       "</style>\n",
       "<table border=\"1\" class=\"dataframe\">\n",
       "  <thead>\n",
       "    <tr style=\"text-align: right;\">\n",
       "      <th></th>\n",
       "      <th>user_id</th>\n",
       "      <th>food_id</th>\n",
       "      <th>rating</th>\n",
       "      <th>user</th>\n",
       "      <th>food</th>\n",
       "    </tr>\n",
       "  </thead>\n",
       "  <tbody>\n",
       "    <tr>\n",
       "      <th>124</th>\n",
       "      <td>24.0</td>\n",
       "      <td>51.0</td>\n",
       "      <td>5.0</td>\n",
       "      <td>23</td>\n",
       "      <td>67</td>\n",
       "    </tr>\n",
       "    <tr>\n",
       "      <th>84</th>\n",
       "      <td>16.0</td>\n",
       "      <td>243.0</td>\n",
       "      <td>3.0</td>\n",
       "      <td>15</td>\n",
       "      <td>78</td>\n",
       "    </tr>\n",
       "    <tr>\n",
       "      <th>433</th>\n",
       "      <td>83.0</td>\n",
       "      <td>79.0</td>\n",
       "      <td>1.0</td>\n",
       "      <td>82</td>\n",
       "      <td>282</td>\n",
       "    </tr>\n",
       "    <tr>\n",
       "      <th>255</th>\n",
       "      <td>49.0</td>\n",
       "      <td>77.0</td>\n",
       "      <td>10.0</td>\n",
       "      <td>48</td>\n",
       "      <td>191</td>\n",
       "    </tr>\n",
       "    <tr>\n",
       "      <th>68</th>\n",
       "      <td>13.0</td>\n",
       "      <td>74.0</td>\n",
       "      <td>8.0</td>\n",
       "      <td>12</td>\n",
       "      <td>64</td>\n",
       "    </tr>\n",
       "    <tr>\n",
       "      <th>...</th>\n",
       "      <td>...</td>\n",
       "      <td>...</td>\n",
       "      <td>...</td>\n",
       "      <td>...</td>\n",
       "      <td>...</td>\n",
       "    </tr>\n",
       "    <tr>\n",
       "      <th>106</th>\n",
       "      <td>19.0</td>\n",
       "      <td>84.0</td>\n",
       "      <td>10.0</td>\n",
       "      <td>18</td>\n",
       "      <td>97</td>\n",
       "    </tr>\n",
       "    <tr>\n",
       "      <th>270</th>\n",
       "      <td>51.0</td>\n",
       "      <td>151.0</td>\n",
       "      <td>10.0</td>\n",
       "      <td>50</td>\n",
       "      <td>200</td>\n",
       "    </tr>\n",
       "    <tr>\n",
       "      <th>348</th>\n",
       "      <td>67.0</td>\n",
       "      <td>146.0</td>\n",
       "      <td>7.0</td>\n",
       "      <td>66</td>\n",
       "      <td>209</td>\n",
       "    </tr>\n",
       "    <tr>\n",
       "      <th>435</th>\n",
       "      <td>84.0</td>\n",
       "      <td>253.0</td>\n",
       "      <td>8.0</td>\n",
       "      <td>83</td>\n",
       "      <td>283</td>\n",
       "    </tr>\n",
       "    <tr>\n",
       "      <th>102</th>\n",
       "      <td>19.0</td>\n",
       "      <td>9.0</td>\n",
       "      <td>9.0</td>\n",
       "      <td>18</td>\n",
       "      <td>93</td>\n",
       "    </tr>\n",
       "  </tbody>\n",
       "</table>\n",
       "<p>511 rows × 5 columns</p>\n",
       "</div>"
      ],
      "text/plain": [
       "     user_id  food_id  rating  user  food\n",
       "124     24.0     51.0     5.0    23    67\n",
       "84      16.0    243.0     3.0    15    78\n",
       "433     83.0     79.0     1.0    82   282\n",
       "255     49.0     77.0    10.0    48   191\n",
       "68      13.0     74.0     8.0    12    64\n",
       "..       ...      ...     ...   ...   ...\n",
       "106     19.0     84.0    10.0    18    97\n",
       "270     51.0    151.0    10.0    50   200\n",
       "348     67.0    146.0     7.0    66   209\n",
       "435     84.0    253.0     8.0    83   283\n",
       "102     19.0      9.0     9.0    18    93\n",
       "\n",
       "[511 rows x 5 columns]"
      ]
     },
     "execution_count": 37,
     "metadata": {},
     "output_type": "execute_result"
    }
   ],
   "source": [
    "# Mengacak dataset\n",
    "df = df.sample(frac=1, random_state=42)\n",
    "df"
   ]
  },
  {
   "cell_type": "code",
   "execution_count": 38,
   "metadata": {},
   "outputs": [],
   "source": [
    "# Split dataset\n",
    "df = df.sample(frac=1, random_state=42)  # Mengacak dataset\n",
    "x = df[['user', 'food']].values\n",
    "y = df['rating'].apply(lambda x: (x - min_rating) / (max_rating - min_rating)).values  # Normalisasi rating\n"
   ]
  },
  {
   "cell_type": "code",
   "execution_count": 39,
   "metadata": {},
   "outputs": [],
   "source": [
    "# Membagi data menjadi data latih (80%) dan validasi (20%)\n",
    "train_indices = int(0.8 * df.shape[0])\n",
    "x_train, x_val, y_train, y_val = (\n",
    "    x[:train_indices], x[train_indices:], y[:train_indices], y[train_indices:]\n",
    ")\n"
   ]
  },
  {
   "cell_type": "markdown",
   "metadata": {},
   "source": [
    "### 4.2.4 Modelling"
   ]
  },
  {
   "cell_type": "markdown",
   "metadata": {},
   "source": [
    "Model rekomendasi RecommenderNet dibangun dengan arsitektur neural network yang menggunakan embedding layers untuk pengguna dan makanan, yang memetakan ID ke dalam ruang vektor berdimensi rendah, memungkinkan model menangkap hubungan antara keduanya. Model ini juga menggunakan bias layers untuk menangkap efek bias dari pengguna dan makanan, serta aktivasi sigmoid pada output untuk memprediksi rating dalam rentang [0, 1]. Model kemudian dikompilasi dengan loss function **BinaryCrossentropy** dan optimizer **Adam** untuk mengoptimalkan bobot model. **EarlyStopping** diterapkan untuk menghentikan pelatihan jika tidak ada peningkatan dalam metrik **RMSE** pada data validasi, mencegah overfitting dan menghemat waktu pelatihan."
   ]
  },
  {
   "cell_type": "code",
   "execution_count": 40,
   "metadata": {},
   "outputs": [],
   "source": [
    "# Membuat Model RecommenderNet\n",
    "class RecommenderNet(tf.keras.Model):\n",
    "    def __init__(self, num_users, num_food, embedding_size=50, **kwargs):\n",
    "        super(RecommenderNet, self).__init__(**kwargs)\n",
    "        self.user_embedding = layers.Embedding(\n",
    "            num_users, embedding_size, embeddings_initializer=\"he_normal\",\n",
    "            embeddings_regularizer=regularizers.l2(1e-6)\n",
    "        )\n",
    "        self.user_bias = layers.Embedding(num_users, 1)\n",
    "        self.food_embedding = layers.Embedding(\n",
    "            num_food, embedding_size, embeddings_initializer=\"he_normal\",\n",
    "            embeddings_regularizer=regularizers.l2(1e-6)\n",
    "        )\n",
    "        self.food_bias = layers.Embedding(num_food, 1)\n",
    "\n",
    "    def call(self, inputs):\n",
    "        user_vector = self.user_embedding(inputs[:, 0])\n",
    "        user_bias = self.user_bias(inputs[:, 0])\n",
    "        food_vector = self.food_embedding(inputs[:, 1])\n",
    "        food_bias = self.food_bias(inputs[:, 1])\n",
    "        dot_product = tf.tensordot(user_vector, food_vector, axes=2)\n",
    "        x = dot_product + user_bias + food_bias\n",
    "        return tf.nn.sigmoid(x)"
   ]
  },
  {
   "cell_type": "code",
   "execution_count": 41,
   "metadata": {},
   "outputs": [
    {
     "name": "stderr",
     "output_type": "stream",
     "text": [
      "I0000 00:00:1731781084.689881   89093 gpu_device.cc:2022] Created device /job:localhost/replica:0/task:0/device:GPU:0 with 2281 MB memory:  -> device: 0, name: NVIDIA GeForce RTX 3050 Laptop GPU, pci bus id: 0000:01:00.0, compute capability: 8.6\n"
     ]
    }
   ],
   "source": [
    "model = RecommenderNet(num_users, num_food)\n",
    "\n",
    "# Compile model\n",
    "model.compile(\n",
    "    loss=tf.keras.losses.BinaryCrossentropy(),\n",
    "    optimizer=tf.keras.optimizers.Adam(learning_rate=0.001),\n",
    "    metrics=[tf.keras.metrics.RootMeanSquaredError()]\n",
    ")\n"
   ]
  },
  {
   "cell_type": "code",
   "execution_count": 42,
   "metadata": {},
   "outputs": [
    {
     "name": "stdout",
     "output_type": "stream",
     "text": [
      "Epoch 1/100\n"
     ]
    },
    {
     "name": "stderr",
     "output_type": "stream",
     "text": [
      "WARNING: All log messages before absl::InitializeLog() is called are written to STDERR\n",
      "I0000 00:00:1731781085.722996   90112 service.cc:148] XLA service 0x7715c8004860 initialized for platform CUDA (this does not guarantee that XLA will be used). Devices:\n",
      "I0000 00:00:1731781085.723013   90112 service.cc:156]   StreamExecutor device (0): NVIDIA GeForce RTX 3050 Laptop GPU, Compute Capability 8.6\n",
      "2024-11-17 01:18:05.741440: I tensorflow/compiler/mlir/tensorflow/utils/dump_mlir_util.cc:268] disabling MLIR crash reproducer, set env var `MLIR_CRASH_REPRODUCER_DIRECTORY` to enable.\n",
      "I0000 00:00:1731781085.807733   90112 cuda_dnn.cc:529] Loaded cuDNN version 90300\n"
     ]
    },
    {
     "name": "stdout",
     "output_type": "stream",
     "text": [
      "\u001b[1m 5/51\u001b[0m \u001b[32m━\u001b[0m\u001b[37m━━━━━━━━━━━━━━━━━━━\u001b[0m \u001b[1m0s\u001b[0m 2ms/step - loss: 0.6927 - root_mean_squared_error: 0.3248"
     ]
    },
    {
     "name": "stderr",
     "output_type": "stream",
     "text": [
      "I0000 00:00:1731781086.081741   90112 device_compiler.h:188] Compiled cluster using XLA!  This line is logged at most once for the lifetime of the process.\n"
     ]
    },
    {
     "name": "stdout",
     "output_type": "stream",
     "text": [
      "\u001b[1m51/51\u001b[0m \u001b[32m━━━━━━━━━━━━━━━━━━━━\u001b[0m\u001b[37m\u001b[0m \u001b[1m2s\u001b[0m 11ms/step - loss: 0.6958 - root_mean_squared_error: 0.3200 - val_loss: 0.6915 - val_root_mean_squared_error: 0.3226\n",
      "Epoch 2/100\n",
      "\u001b[1m51/51\u001b[0m \u001b[32m━━━━━━━━━━━━━━━━━━━━\u001b[0m\u001b[37m\u001b[0m \u001b[1m0s\u001b[0m 1000us/step - loss: 0.6957 - root_mean_squared_error: 0.3156 - val_loss: 0.6917 - val_root_mean_squared_error: 0.3227\n",
      "Epoch 3/100\n",
      "\u001b[1m51/51\u001b[0m \u001b[32m━━━━━━━━━━━━━━━━━━━━\u001b[0m\u001b[37m\u001b[0m \u001b[1m0s\u001b[0m 954us/step - loss: 0.6835 - root_mean_squared_error: 0.2950 - val_loss: 0.6914 - val_root_mean_squared_error: 0.3225\n",
      "Epoch 4/100\n",
      "\u001b[1m51/51\u001b[0m \u001b[32m━━━━━━━━━━━━━━━━━━━━\u001b[0m\u001b[37m\u001b[0m \u001b[1m0s\u001b[0m 981us/step - loss: 0.6831 - root_mean_squared_error: 0.3091 - val_loss: 0.6909 - val_root_mean_squared_error: 0.3221\n",
      "Epoch 5/100\n",
      "\u001b[1m51/51\u001b[0m \u001b[32m━━━━━━━━━━━━━━━━━━━━\u001b[0m\u001b[37m\u001b[0m \u001b[1m0s\u001b[0m 945us/step - loss: 0.6768 - root_mean_squared_error: 0.2976 - val_loss: 0.6907 - val_root_mean_squared_error: 0.3220\n",
      "Epoch 6/100\n",
      "\u001b[1m51/51\u001b[0m \u001b[32m━━━━━━━━━━━━━━━━━━━━\u001b[0m\u001b[37m\u001b[0m \u001b[1m0s\u001b[0m 993us/step - loss: 0.6761 - root_mean_squared_error: 0.2952 - val_loss: 0.6912 - val_root_mean_squared_error: 0.3223\n",
      "Epoch 7/100\n",
      "\u001b[1m51/51\u001b[0m \u001b[32m━━━━━━━━━━━━━━━━━━━━\u001b[0m\u001b[37m\u001b[0m \u001b[1m0s\u001b[0m 1ms/step - loss: 0.6716 - root_mean_squared_error: 0.2903 - val_loss: 0.6919 - val_root_mean_squared_error: 0.3229\n",
      "Epoch 8/100\n",
      "\u001b[1m51/51\u001b[0m \u001b[32m━━━━━━━━━━━━━━━━━━━━\u001b[0m\u001b[37m\u001b[0m \u001b[1m0s\u001b[0m 970us/step - loss: 0.6735 - root_mean_squared_error: 0.2913 - val_loss: 0.6913 - val_root_mean_squared_error: 0.3224\n",
      "Epoch 9/100\n",
      "\u001b[1m51/51\u001b[0m \u001b[32m━━━━━━━━━━━━━━━━━━━━\u001b[0m\u001b[37m\u001b[0m \u001b[1m0s\u001b[0m 1ms/step - loss: 0.6612 - root_mean_squared_error: 0.2987 - val_loss: 0.6910 - val_root_mean_squared_error: 0.3222\n",
      "Epoch 10/100\n",
      "\u001b[1m51/51\u001b[0m \u001b[32m━━━━━━━━━━━━━━━━━━━━\u001b[0m\u001b[37m\u001b[0m \u001b[1m0s\u001b[0m 954us/step - loss: 0.6609 - root_mean_squared_error: 0.2912 - val_loss: 0.6911 - val_root_mean_squared_error: 0.3223\n",
      "Epoch 11/100\n",
      "\u001b[1m51/51\u001b[0m \u001b[32m━━━━━━━━━━━━━━━━━━━━\u001b[0m\u001b[37m\u001b[0m \u001b[1m0s\u001b[0m 968us/step - loss: 0.6626 - root_mean_squared_error: 0.2933 - val_loss: 0.6924 - val_root_mean_squared_error: 0.3233\n",
      "Epoch 12/100\n",
      "\u001b[1m51/51\u001b[0m \u001b[32m━━━━━━━━━━━━━━━━━━━━\u001b[0m\u001b[37m\u001b[0m \u001b[1m0s\u001b[0m 969us/step - loss: 0.6608 - root_mean_squared_error: 0.2881 - val_loss: 0.6928 - val_root_mean_squared_error: 0.3236\n",
      "Epoch 13/100\n",
      "\u001b[1m51/51\u001b[0m \u001b[32m━━━━━━━━━━━━━━━━━━━━\u001b[0m\u001b[37m\u001b[0m \u001b[1m0s\u001b[0m 984us/step - loss: 0.6491 - root_mean_squared_error: 0.2900 - val_loss: 0.6932 - val_root_mean_squared_error: 0.3239\n",
      "Epoch 14/100\n",
      "\u001b[1m51/51\u001b[0m \u001b[32m━━━━━━━━━━━━━━━━━━━━\u001b[0m\u001b[37m\u001b[0m \u001b[1m0s\u001b[0m 995us/step - loss: 0.6407 - root_mean_squared_error: 0.2849 - val_loss: 0.6932 - val_root_mean_squared_error: 0.3240\n",
      "Epoch 15/100\n",
      "\u001b[1m51/51\u001b[0m \u001b[32m━━━━━━━━━━━━━━━━━━━━\u001b[0m\u001b[37m\u001b[0m \u001b[1m0s\u001b[0m 986us/step - loss: 0.6436 - root_mean_squared_error: 0.2850 - val_loss: 0.6938 - val_root_mean_squared_error: 0.3244\n",
      "Epoch 16/100\n",
      "\u001b[1m51/51\u001b[0m \u001b[32m━━━━━━━━━━━━━━━━━━━━\u001b[0m\u001b[37m\u001b[0m \u001b[1m0s\u001b[0m 1ms/step - loss: 0.6429 - root_mean_squared_error: 0.2748 - val_loss: 0.6939 - val_root_mean_squared_error: 0.3245\n",
      "Epoch 17/100\n",
      "\u001b[1m51/51\u001b[0m \u001b[32m━━━━━━━━━━━━━━━━━━━━\u001b[0m\u001b[37m\u001b[0m \u001b[1m0s\u001b[0m 1ms/step - loss: 0.6476 - root_mean_squared_error: 0.2784 - val_loss: 0.6937 - val_root_mean_squared_error: 0.3243\n",
      "Epoch 18/100\n",
      "\u001b[1m51/51\u001b[0m \u001b[32m━━━━━━━━━━━━━━━━━━━━\u001b[0m\u001b[37m\u001b[0m \u001b[1m0s\u001b[0m 1ms/step - loss: 0.6474 - root_mean_squared_error: 0.2718 - val_loss: 0.6936 - val_root_mean_squared_error: 0.3242\n",
      "Epoch 19/100\n",
      "\u001b[1m51/51\u001b[0m \u001b[32m━━━━━━━━━━━━━━━━━━━━\u001b[0m\u001b[37m\u001b[0m \u001b[1m0s\u001b[0m 962us/step - loss: 0.6373 - root_mean_squared_error: 0.2691 - val_loss: 0.6939 - val_root_mean_squared_error: 0.3245\n",
      "Epoch 20/100\n",
      "\u001b[1m51/51\u001b[0m \u001b[32m━━━━━━━━━━━━━━━━━━━━\u001b[0m\u001b[37m\u001b[0m \u001b[1m0s\u001b[0m 985us/step - loss: 0.6348 - root_mean_squared_error: 0.2778 - val_loss: 0.6942 - val_root_mean_squared_error: 0.3247\n",
      "Epoch 21/100\n",
      "\u001b[1m51/51\u001b[0m \u001b[32m━━━━━━━━━━━━━━━━━━━━\u001b[0m\u001b[37m\u001b[0m \u001b[1m0s\u001b[0m 933us/step - loss: 0.6258 - root_mean_squared_error: 0.2465 - val_loss: 0.6941 - val_root_mean_squared_error: 0.3246\n",
      "Epoch 22/100\n",
      "\u001b[1m51/51\u001b[0m \u001b[32m━━━━━━━━━━━━━━━━━━━━\u001b[0m\u001b[37m\u001b[0m \u001b[1m0s\u001b[0m 1ms/step - loss: 0.6168 - root_mean_squared_error: 0.2603 - val_loss: 0.6939 - val_root_mean_squared_error: 0.3245\n",
      "Epoch 23/100\n",
      "\u001b[1m51/51\u001b[0m \u001b[32m━━━━━━━━━━━━━━━━━━━━\u001b[0m\u001b[37m\u001b[0m \u001b[1m0s\u001b[0m 2ms/step - loss: 0.6275 - root_mean_squared_error: 0.2769 - val_loss: 0.6945 - val_root_mean_squared_error: 0.3249\n",
      "Epoch 24/100\n",
      "\u001b[1m51/51\u001b[0m \u001b[32m━━━━━━━━━━━━━━━━━━━━\u001b[0m\u001b[37m\u001b[0m \u001b[1m0s\u001b[0m 1ms/step - loss: 0.6334 - root_mean_squared_error: 0.2685 - val_loss: 0.6951 - val_root_mean_squared_error: 0.3254\n",
      "Epoch 25/100\n",
      "\u001b[1m51/51\u001b[0m \u001b[32m━━━━━━━━━━━━━━━━━━━━\u001b[0m\u001b[37m\u001b[0m \u001b[1m0s\u001b[0m 984us/step - loss: 0.6267 - root_mean_squared_error: 0.2538 - val_loss: 0.6954 - val_root_mean_squared_error: 0.3256\n",
      "Epoch 26/100\n",
      "\u001b[1m51/51\u001b[0m \u001b[32m━━━━━━━━━━━━━━━━━━━━\u001b[0m\u001b[37m\u001b[0m \u001b[1m0s\u001b[0m 1ms/step - loss: 0.6272 - root_mean_squared_error: 0.2535 - val_loss: 0.6957 - val_root_mean_squared_error: 0.3258\n",
      "Epoch 27/100\n",
      "\u001b[1m51/51\u001b[0m \u001b[32m━━━━━━━━━━━━━━━━━━━━\u001b[0m\u001b[37m\u001b[0m \u001b[1m0s\u001b[0m 992us/step - loss: 0.6162 - root_mean_squared_error: 0.2464 - val_loss: 0.6963 - val_root_mean_squared_error: 0.3263\n",
      "Epoch 28/100\n",
      "\u001b[1m51/51\u001b[0m \u001b[32m━━━━━━━━━━━━━━━━━━━━\u001b[0m\u001b[37m\u001b[0m \u001b[1m0s\u001b[0m 1ms/step - loss: 0.6258 - root_mean_squared_error: 0.2560 - val_loss: 0.6965 - val_root_mean_squared_error: 0.3264\n",
      "Epoch 29/100\n",
      "\u001b[1m51/51\u001b[0m \u001b[32m━━━━━━━━━━━━━━━━━━━━\u001b[0m\u001b[37m\u001b[0m \u001b[1m0s\u001b[0m 2ms/step - loss: 0.6197 - root_mean_squared_error: 0.2640 - val_loss: 0.6970 - val_root_mean_squared_error: 0.3268\n",
      "Epoch 30/100\n",
      "\u001b[1m51/51\u001b[0m \u001b[32m━━━━━━━━━━━━━━━━━━━━\u001b[0m\u001b[37m\u001b[0m \u001b[1m0s\u001b[0m 1ms/step - loss: 0.6122 - root_mean_squared_error: 0.2559 - val_loss: 0.6973 - val_root_mean_squared_error: 0.3271\n",
      "Epoch 31/100\n",
      "\u001b[1m51/51\u001b[0m \u001b[32m━━━━━━━━━━━━━━━━━━━━\u001b[0m\u001b[37m\u001b[0m \u001b[1m0s\u001b[0m 965us/step - loss: 0.6097 - root_mean_squared_error: 0.2418 - val_loss: 0.6980 - val_root_mean_squared_error: 0.3275\n",
      "Epoch 32/100\n",
      "\u001b[1m51/51\u001b[0m \u001b[32m━━━━━━━━━━━━━━━━━━━━\u001b[0m\u001b[37m\u001b[0m \u001b[1m0s\u001b[0m 965us/step - loss: 0.6212 - root_mean_squared_error: 0.2537 - val_loss: 0.6981 - val_root_mean_squared_error: 0.3276\n",
      "Epoch 33/100\n",
      "\u001b[1m51/51\u001b[0m \u001b[32m━━━━━━━━━━━━━━━━━━━━\u001b[0m\u001b[37m\u001b[0m \u001b[1m0s\u001b[0m 1ms/step - loss: 0.6213 - root_mean_squared_error: 0.2547 - val_loss: 0.6986 - val_root_mean_squared_error: 0.3280\n",
      "Epoch 34/100\n",
      "\u001b[1m51/51\u001b[0m \u001b[32m━━━━━━━━━━━━━━━━━━━━\u001b[0m\u001b[37m\u001b[0m \u001b[1m0s\u001b[0m 1ms/step - loss: 0.6166 - root_mean_squared_error: 0.2563 - val_loss: 0.6991 - val_root_mean_squared_error: 0.3283\n",
      "Epoch 35/100\n",
      "\u001b[1m51/51\u001b[0m \u001b[32m━━━━━━━━━━━━━━━━━━━━\u001b[0m\u001b[37m\u001b[0m \u001b[1m0s\u001b[0m 1ms/step - loss: 0.6024 - root_mean_squared_error: 0.2411 - val_loss: 0.6995 - val_root_mean_squared_error: 0.3287\n",
      "Epoch 36/100\n",
      "\u001b[1m51/51\u001b[0m \u001b[32m━━━━━━━━━━━━━━━━━━━━\u001b[0m\u001b[37m\u001b[0m \u001b[1m0s\u001b[0m 961us/step - loss: 0.6161 - root_mean_squared_error: 0.2438 - val_loss: 0.6999 - val_root_mean_squared_error: 0.3289\n",
      "Epoch 37/100\n",
      "\u001b[1m51/51\u001b[0m \u001b[32m━━━━━━━━━━━━━━━━━━━━\u001b[0m\u001b[37m\u001b[0m \u001b[1m0s\u001b[0m 973us/step - loss: 0.6131 - root_mean_squared_error: 0.2396 - val_loss: 0.7001 - val_root_mean_squared_error: 0.3291\n",
      "Epoch 38/100\n",
      "\u001b[1m51/51\u001b[0m \u001b[32m━━━━━━━━━━━━━━━━━━━━\u001b[0m\u001b[37m\u001b[0m \u001b[1m0s\u001b[0m 1ms/step - loss: 0.6206 - root_mean_squared_error: 0.2350 - val_loss: 0.7003 - val_root_mean_squared_error: 0.3292\n",
      "Epoch 39/100\n",
      "\u001b[1m51/51\u001b[0m \u001b[32m━━━━━━━━━━━━━━━━━━━━\u001b[0m\u001b[37m\u001b[0m \u001b[1m0s\u001b[0m 1ms/step - loss: 0.5992 - root_mean_squared_error: 0.2523 - val_loss: 0.7003 - val_root_mean_squared_error: 0.3292\n",
      "Epoch 40/100\n",
      "\u001b[1m51/51\u001b[0m \u001b[32m━━━━━━━━━━━━━━━━━━━━\u001b[0m\u001b[37m\u001b[0m \u001b[1m0s\u001b[0m 954us/step - loss: 0.6089 - root_mean_squared_error: 0.2351 - val_loss: 0.7007 - val_root_mean_squared_error: 0.3295\n",
      "Epoch 41/100\n",
      "\u001b[1m51/51\u001b[0m \u001b[32m━━━━━━━━━━━━━━━━━━━━\u001b[0m\u001b[37m\u001b[0m \u001b[1m0s\u001b[0m 1ms/step - loss: 0.5816 - root_mean_squared_error: 0.2463 - val_loss: 0.7006 - val_root_mean_squared_error: 0.3294\n",
      "Epoch 42/100\n",
      "\u001b[1m51/51\u001b[0m \u001b[32m━━━━━━━━━━━━━━━━━━━━\u001b[0m\u001b[37m\u001b[0m \u001b[1m0s\u001b[0m 1ms/step - loss: 0.6061 - root_mean_squared_error: 0.2470 - val_loss: 0.7016 - val_root_mean_squared_error: 0.3302\n",
      "Epoch 43/100\n",
      "\u001b[1m51/51\u001b[0m \u001b[32m━━━━━━━━━━━━━━━━━━━━\u001b[0m\u001b[37m\u001b[0m \u001b[1m0s\u001b[0m 972us/step - loss: 0.5978 - root_mean_squared_error: 0.2297 - val_loss: 0.7017 - val_root_mean_squared_error: 0.3303\n",
      "Epoch 44/100\n",
      "\u001b[1m51/51\u001b[0m \u001b[32m━━━━━━━━━━━━━━━━━━━━\u001b[0m\u001b[37m\u001b[0m \u001b[1m0s\u001b[0m 959us/step - loss: 0.5993 - root_mean_squared_error: 0.2364 - val_loss: 0.7017 - val_root_mean_squared_error: 0.3302\n",
      "Epoch 45/100\n",
      "\u001b[1m51/51\u001b[0m \u001b[32m━━━━━━━━━━━━━━━━━━━━\u001b[0m\u001b[37m\u001b[0m \u001b[1m0s\u001b[0m 972us/step - loss: 0.6037 - root_mean_squared_error: 0.2259 - val_loss: 0.7022 - val_root_mean_squared_error: 0.3306\n",
      "Epoch 46/100\n",
      "\u001b[1m51/51\u001b[0m \u001b[32m━━━━━━━━━━━━━━━━━━━━\u001b[0m\u001b[37m\u001b[0m \u001b[1m0s\u001b[0m 1ms/step - loss: 0.6005 - root_mean_squared_error: 0.2328 - val_loss: 0.7031 - val_root_mean_squared_error: 0.3312\n",
      "Epoch 47/100\n",
      "\u001b[1m51/51\u001b[0m \u001b[32m━━━━━━━━━━━━━━━━━━━━\u001b[0m\u001b[37m\u001b[0m \u001b[1m0s\u001b[0m 1ms/step - loss: 0.5923 - root_mean_squared_error: 0.2244 - val_loss: 0.7035 - val_root_mean_squared_error: 0.3315\n",
      "Epoch 48/100\n",
      "\u001b[1m51/51\u001b[0m \u001b[32m━━━━━━━━━━━━━━━━━━━━\u001b[0m\u001b[37m\u001b[0m \u001b[1m0s\u001b[0m 1ms/step - loss: 0.5979 - root_mean_squared_error: 0.2321 - val_loss: 0.7032 - val_root_mean_squared_error: 0.3313\n",
      "Epoch 49/100\n",
      "\u001b[1m51/51\u001b[0m \u001b[32m━━━━━━━━━━━━━━━━━━━━\u001b[0m\u001b[37m\u001b[0m \u001b[1m0s\u001b[0m 1ms/step - loss: 0.5930 - root_mean_squared_error: 0.2402 - val_loss: 0.7036 - val_root_mean_squared_error: 0.3316\n",
      "Epoch 50/100\n",
      "\u001b[1m51/51\u001b[0m \u001b[32m━━━━━━━━━━━━━━━━━━━━\u001b[0m\u001b[37m\u001b[0m \u001b[1m0s\u001b[0m 1ms/step - loss: 0.6133 - root_mean_squared_error: 0.2304 - val_loss: 0.7044 - val_root_mean_squared_error: 0.3321\n",
      "Epoch 51/100\n",
      "\u001b[1m51/51\u001b[0m \u001b[32m━━━━━━━━━━━━━━━━━━━━\u001b[0m\u001b[37m\u001b[0m \u001b[1m0s\u001b[0m 1ms/step - loss: 0.5934 - root_mean_squared_error: 0.2387 - val_loss: 0.7048 - val_root_mean_squared_error: 0.3324\n",
      "Epoch 52/100\n",
      "\u001b[1m51/51\u001b[0m \u001b[32m━━━━━━━━━━━━━━━━━━━━\u001b[0m\u001b[37m\u001b[0m \u001b[1m0s\u001b[0m 1ms/step - loss: 0.6026 - root_mean_squared_error: 0.2207 - val_loss: 0.7055 - val_root_mean_squared_error: 0.3329\n",
      "Epoch 53/100\n",
      "\u001b[1m51/51\u001b[0m \u001b[32m━━━━━━━━━━━━━━━━━━━━\u001b[0m\u001b[37m\u001b[0m \u001b[1m0s\u001b[0m 1ms/step - loss: 0.5928 - root_mean_squared_error: 0.2222 - val_loss: 0.7058 - val_root_mean_squared_error: 0.3331\n",
      "Epoch 54/100\n",
      "\u001b[1m51/51\u001b[0m \u001b[32m━━━━━━━━━━━━━━━━━━━━\u001b[0m\u001b[37m\u001b[0m \u001b[1m0s\u001b[0m 1ms/step - loss: 0.5971 - root_mean_squared_error: 0.2251 - val_loss: 0.7062 - val_root_mean_squared_error: 0.3334\n",
      "Epoch 55/100\n",
      "\u001b[1m51/51\u001b[0m \u001b[32m━━━━━━━━━━━━━━━━━━━━\u001b[0m\u001b[37m\u001b[0m \u001b[1m0s\u001b[0m 1ms/step - loss: 0.5831 - root_mean_squared_error: 0.2210 - val_loss: 0.7063 - val_root_mean_squared_error: 0.3334\n",
      "Epoch 56/100\n",
      "\u001b[1m51/51\u001b[0m \u001b[32m━━━━━━━━━━━━━━━━━━━━\u001b[0m\u001b[37m\u001b[0m \u001b[1m0s\u001b[0m 1ms/step - loss: 0.5878 - root_mean_squared_error: 0.2189 - val_loss: 0.7065 - val_root_mean_squared_error: 0.3336\n",
      "Epoch 57/100\n",
      "\u001b[1m51/51\u001b[0m \u001b[32m━━━━━━━━━━━━━━━━━━━━\u001b[0m\u001b[37m\u001b[0m \u001b[1m0s\u001b[0m 1ms/step - loss: 0.5843 - root_mean_squared_error: 0.2267 - val_loss: 0.7069 - val_root_mean_squared_error: 0.3338\n",
      "Epoch 58/100\n",
      "\u001b[1m51/51\u001b[0m \u001b[32m━━━━━━━━━━━━━━━━━━━━\u001b[0m\u001b[37m\u001b[0m \u001b[1m0s\u001b[0m 1ms/step - loss: 0.5839 - root_mean_squared_error: 0.2559 - val_loss: 0.7073 - val_root_mean_squared_error: 0.3342\n",
      "Epoch 59/100\n",
      "\u001b[1m51/51\u001b[0m \u001b[32m━━━━━━━━━━━━━━━━━━━━\u001b[0m\u001b[37m\u001b[0m \u001b[1m0s\u001b[0m 1ms/step - loss: 0.5999 - root_mean_squared_error: 0.2264 - val_loss: 0.7076 - val_root_mean_squared_error: 0.3343\n",
      "Epoch 60/100\n",
      "\u001b[1m51/51\u001b[0m \u001b[32m━━━━━━━━━━━━━━━━━━━━\u001b[0m\u001b[37m\u001b[0m \u001b[1m0s\u001b[0m 1ms/step - loss: 0.5814 - root_mean_squared_error: 0.2263 - val_loss: 0.7072 - val_root_mean_squared_error: 0.3340\n",
      "Epoch 61/100\n",
      "\u001b[1m51/51\u001b[0m \u001b[32m━━━━━━━━━━━━━━━━━━━━\u001b[0m\u001b[37m\u001b[0m \u001b[1m0s\u001b[0m 1ms/step - loss: 0.5848 - root_mean_squared_error: 0.2140 - val_loss: 0.7083 - val_root_mean_squared_error: 0.3347\n",
      "Epoch 62/100\n",
      "\u001b[1m51/51\u001b[0m \u001b[32m━━━━━━━━━━━━━━━━━━━━\u001b[0m\u001b[37m\u001b[0m \u001b[1m0s\u001b[0m 2ms/step - loss: 0.5980 - root_mean_squared_error: 0.2191 - val_loss: 0.7089 - val_root_mean_squared_error: 0.3352\n",
      "Epoch 63/100\n",
      "\u001b[1m51/51\u001b[0m \u001b[32m━━━━━━━━━━━━━━━━━━━━\u001b[0m\u001b[37m\u001b[0m \u001b[1m0s\u001b[0m 1ms/step - loss: 0.5814 - root_mean_squared_error: 0.2222 - val_loss: 0.7100 - val_root_mean_squared_error: 0.3360\n",
      "Epoch 64/100\n",
      "\u001b[1m51/51\u001b[0m \u001b[32m━━━━━━━━━━━━━━━━━━━━\u001b[0m\u001b[37m\u001b[0m \u001b[1m0s\u001b[0m 1ms/step - loss: 0.5825 - root_mean_squared_error: 0.2221 - val_loss: 0.7100 - val_root_mean_squared_error: 0.3359\n",
      "Epoch 65/100\n",
      "\u001b[1m51/51\u001b[0m \u001b[32m━━━━━━━━━━━━━━━━━━━━\u001b[0m\u001b[37m\u001b[0m \u001b[1m0s\u001b[0m 1ms/step - loss: 0.5837 - root_mean_squared_error: 0.2228 - val_loss: 0.7101 - val_root_mean_squared_error: 0.3360\n",
      "Epoch 66/100\n",
      "\u001b[1m51/51\u001b[0m \u001b[32m━━━━━━━━━━━━━━━━━━━━\u001b[0m\u001b[37m\u001b[0m \u001b[1m0s\u001b[0m 941us/step - loss: 0.5899 - root_mean_squared_error: 0.2094 - val_loss: 0.7110 - val_root_mean_squared_error: 0.3366\n",
      "Epoch 67/100\n",
      "\u001b[1m51/51\u001b[0m \u001b[32m━━━━━━━━━━━━━━━━━━━━\u001b[0m\u001b[37m\u001b[0m \u001b[1m0s\u001b[0m 967us/step - loss: 0.5829 - root_mean_squared_error: 0.2202 - val_loss: 0.7111 - val_root_mean_squared_error: 0.3366\n",
      "Epoch 68/100\n",
      "\u001b[1m51/51\u001b[0m \u001b[32m━━━━━━━━━━━━━━━━━━━━\u001b[0m\u001b[37m\u001b[0m \u001b[1m0s\u001b[0m 963us/step - loss: 0.5797 - root_mean_squared_error: 0.2049 - val_loss: 0.7117 - val_root_mean_squared_error: 0.3370\n",
      "Epoch 69/100\n",
      "\u001b[1m51/51\u001b[0m \u001b[32m━━━━━━━━━━━━━━━━━━━━\u001b[0m\u001b[37m\u001b[0m \u001b[1m0s\u001b[0m 1ms/step - loss: 0.5712 - root_mean_squared_error: 0.2046 - val_loss: 0.7123 - val_root_mean_squared_error: 0.3374\n",
      "Epoch 70/100\n",
      "\u001b[1m51/51\u001b[0m \u001b[32m━━━━━━━━━━━━━━━━━━━━\u001b[0m\u001b[37m\u001b[0m \u001b[1m0s\u001b[0m 1ms/step - loss: 0.5786 - root_mean_squared_error: 0.2211 - val_loss: 0.7131 - val_root_mean_squared_error: 0.3379\n",
      "Epoch 71/100\n",
      "\u001b[1m51/51\u001b[0m \u001b[32m━━━━━━━━━━━━━━━━━━━━\u001b[0m\u001b[37m\u001b[0m \u001b[1m0s\u001b[0m 948us/step - loss: 0.5708 - root_mean_squared_error: 0.2023 - val_loss: 0.7137 - val_root_mean_squared_error: 0.3384\n",
      "Epoch 72/100\n",
      "\u001b[1m51/51\u001b[0m \u001b[32m━━━━━━━━━━━━━━━━━━━━\u001b[0m\u001b[37m\u001b[0m \u001b[1m0s\u001b[0m 1ms/step - loss: 0.5772 - root_mean_squared_error: 0.2130 - val_loss: 0.7140 - val_root_mean_squared_error: 0.3385\n",
      "Epoch 73/100\n",
      "\u001b[1m51/51\u001b[0m \u001b[32m━━━━━━━━━━━━━━━━━━━━\u001b[0m\u001b[37m\u001b[0m \u001b[1m0s\u001b[0m 1ms/step - loss: 0.5777 - root_mean_squared_error: 0.2068 - val_loss: 0.7146 - val_root_mean_squared_error: 0.3389\n",
      "Epoch 74/100\n",
      "\u001b[1m51/51\u001b[0m \u001b[32m━━━━━━━━━━━━━━━━━━━━\u001b[0m\u001b[37m\u001b[0m \u001b[1m0s\u001b[0m 1ms/step - loss: 0.5750 - root_mean_squared_error: 0.2079 - val_loss: 0.7156 - val_root_mean_squared_error: 0.3396\n",
      "Epoch 75/100\n",
      "\u001b[1m51/51\u001b[0m \u001b[32m━━━━━━━━━━━━━━━━━━━━\u001b[0m\u001b[37m\u001b[0m \u001b[1m0s\u001b[0m 1ms/step - loss: 0.5778 - root_mean_squared_error: 0.2118 - val_loss: 0.7160 - val_root_mean_squared_error: 0.3398\n",
      "Epoch 76/100\n",
      "\u001b[1m51/51\u001b[0m \u001b[32m━━━━━━━━━━━━━━━━━━━━\u001b[0m\u001b[37m\u001b[0m \u001b[1m0s\u001b[0m 1ms/step - loss: 0.5723 - root_mean_squared_error: 0.2146 - val_loss: 0.7163 - val_root_mean_squared_error: 0.3401\n",
      "Epoch 77/100\n",
      "\u001b[1m51/51\u001b[0m \u001b[32m━━━━━━━━━━━━━━━━━━━━\u001b[0m\u001b[37m\u001b[0m \u001b[1m0s\u001b[0m 1ms/step - loss: 0.5792 - root_mean_squared_error: 0.1904 - val_loss: 0.7167 - val_root_mean_squared_error: 0.3403\n",
      "Epoch 78/100\n",
      "\u001b[1m51/51\u001b[0m \u001b[32m━━━━━━━━━━━━━━━━━━━━\u001b[0m\u001b[37m\u001b[0m \u001b[1m0s\u001b[0m 1ms/step - loss: 0.5720 - root_mean_squared_error: 0.2025 - val_loss: 0.7169 - val_root_mean_squared_error: 0.3404\n",
      "Epoch 79/100\n",
      "\u001b[1m51/51\u001b[0m \u001b[32m━━━━━━━━━━━━━━━━━━━━\u001b[0m\u001b[37m\u001b[0m \u001b[1m0s\u001b[0m 1ms/step - loss: 0.5753 - root_mean_squared_error: 0.2097 - val_loss: 0.7167 - val_root_mean_squared_error: 0.3403\n",
      "Epoch 80/100\n",
      "\u001b[1m51/51\u001b[0m \u001b[32m━━━━━━━━━━━━━━━━━━━━\u001b[0m\u001b[37m\u001b[0m \u001b[1m0s\u001b[0m 1ms/step - loss: 0.5681 - root_mean_squared_error: 0.2016 - val_loss: 0.7173 - val_root_mean_squared_error: 0.3406\n",
      "Epoch 81/100\n",
      "\u001b[1m51/51\u001b[0m \u001b[32m━━━━━━━━━━━━━━━━━━━━\u001b[0m\u001b[37m\u001b[0m \u001b[1m0s\u001b[0m 1ms/step - loss: 0.5734 - root_mean_squared_error: 0.1989 - val_loss: 0.7180 - val_root_mean_squared_error: 0.3411\n",
      "Epoch 82/100\n",
      "\u001b[1m51/51\u001b[0m \u001b[32m━━━━━━━━━━━━━━━━━━━━\u001b[0m\u001b[37m\u001b[0m \u001b[1m0s\u001b[0m 1ms/step - loss: 0.5600 - root_mean_squared_error: 0.2043 - val_loss: 0.7188 - val_root_mean_squared_error: 0.3416\n",
      "Epoch 83/100\n",
      "\u001b[1m51/51\u001b[0m \u001b[32m━━━━━━━━━━━━━━━━━━━━\u001b[0m\u001b[37m\u001b[0m \u001b[1m0s\u001b[0m 1ms/step - loss: 0.5646 - root_mean_squared_error: 0.1970 - val_loss: 0.7186 - val_root_mean_squared_error: 0.3414\n",
      "Epoch 84/100\n",
      "\u001b[1m51/51\u001b[0m \u001b[32m━━━━━━━━━━━━━━━━━━━━\u001b[0m\u001b[37m\u001b[0m \u001b[1m0s\u001b[0m 2ms/step - loss: 0.5626 - root_mean_squared_error: 0.1994 - val_loss: 0.7196 - val_root_mean_squared_error: 0.3420\n",
      "Epoch 85/100\n",
      "\u001b[1m51/51\u001b[0m \u001b[32m━━━━━━━━━━━━━━━━━━━━\u001b[0m\u001b[37m\u001b[0m \u001b[1m0s\u001b[0m 1ms/step - loss: 0.5686 - root_mean_squared_error: 0.1956 - val_loss: 0.7206 - val_root_mean_squared_error: 0.3427\n",
      "Epoch 86/100\n",
      "\u001b[1m51/51\u001b[0m \u001b[32m━━━━━━━━━━━━━━━━━━━━\u001b[0m\u001b[37m\u001b[0m \u001b[1m0s\u001b[0m 1ms/step - loss: 0.5671 - root_mean_squared_error: 0.2064 - val_loss: 0.7214 - val_root_mean_squared_error: 0.3432\n",
      "Epoch 87/100\n",
      "\u001b[1m51/51\u001b[0m \u001b[32m━━━━━━━━━━━━━━━━━━━━\u001b[0m\u001b[37m\u001b[0m \u001b[1m0s\u001b[0m 1ms/step - loss: 0.5661 - root_mean_squared_error: 0.1970 - val_loss: 0.7218 - val_root_mean_squared_error: 0.3434\n",
      "Epoch 88/100\n",
      "\u001b[1m51/51\u001b[0m \u001b[32m━━━━━━━━━━━━━━━━━━━━\u001b[0m\u001b[37m\u001b[0m \u001b[1m0s\u001b[0m 1ms/step - loss: 0.5666 - root_mean_squared_error: 0.2051 - val_loss: 0.7223 - val_root_mean_squared_error: 0.3437\n",
      "Epoch 89/100\n",
      "\u001b[1m51/51\u001b[0m \u001b[32m━━━━━━━━━━━━━━━━━━━━\u001b[0m\u001b[37m\u001b[0m \u001b[1m0s\u001b[0m 1ms/step - loss: 0.5632 - root_mean_squared_error: 0.2057 - val_loss: 0.7228 - val_root_mean_squared_error: 0.3441\n",
      "Epoch 90/100\n",
      "\u001b[1m51/51\u001b[0m \u001b[32m━━━━━━━━━━━━━━━━━━━━\u001b[0m\u001b[37m\u001b[0m \u001b[1m0s\u001b[0m 1ms/step - loss: 0.5558 - root_mean_squared_error: 0.1920 - val_loss: 0.7228 - val_root_mean_squared_error: 0.3441\n",
      "Epoch 91/100\n",
      "\u001b[1m51/51\u001b[0m \u001b[32m━━━━━━━━━━━━━━━━━━━━\u001b[0m\u001b[37m\u001b[0m \u001b[1m0s\u001b[0m 1ms/step - loss: 0.5651 - root_mean_squared_error: 0.1956 - val_loss: 0.7234 - val_root_mean_squared_error: 0.3444\n",
      "Epoch 92/100\n",
      "\u001b[1m51/51\u001b[0m \u001b[32m━━━━━━━━━━━━━━━━━━━━\u001b[0m\u001b[37m\u001b[0m \u001b[1m0s\u001b[0m 1ms/step - loss: 0.5677 - root_mean_squared_error: 0.2053 - val_loss: 0.7236 - val_root_mean_squared_error: 0.3446\n",
      "Epoch 93/100\n",
      "\u001b[1m51/51\u001b[0m \u001b[32m━━━━━━━━━━━━━━━━━━━━\u001b[0m\u001b[37m\u001b[0m \u001b[1m0s\u001b[0m 1ms/step - loss: 0.5528 - root_mean_squared_error: 0.2045 - val_loss: 0.7246 - val_root_mean_squared_error: 0.3452\n",
      "Epoch 94/100\n",
      "\u001b[1m51/51\u001b[0m \u001b[32m━━━━━━━━━━━━━━━━━━━━\u001b[0m\u001b[37m\u001b[0m \u001b[1m0s\u001b[0m 1ms/step - loss: 0.5556 - root_mean_squared_error: 0.1898 - val_loss: 0.7256 - val_root_mean_squared_error: 0.3459\n",
      "Epoch 95/100\n",
      "\u001b[1m51/51\u001b[0m \u001b[32m━━━━━━━━━━━━━━━━━━━━\u001b[0m\u001b[37m\u001b[0m \u001b[1m0s\u001b[0m 1ms/step - loss: 0.5601 - root_mean_squared_error: 0.2066 - val_loss: 0.7261 - val_root_mean_squared_error: 0.3462\n",
      "Epoch 96/100\n",
      "\u001b[1m51/51\u001b[0m \u001b[32m━━━━━━━━━━━━━━━━━━━━\u001b[0m\u001b[37m\u001b[0m \u001b[1m0s\u001b[0m 1ms/step - loss: 0.5510 - root_mean_squared_error: 0.1973 - val_loss: 0.7258 - val_root_mean_squared_error: 0.3459\n",
      "Epoch 97/100\n",
      "\u001b[1m51/51\u001b[0m \u001b[32m━━━━━━━━━━━━━━━━━━━━\u001b[0m\u001b[37m\u001b[0m \u001b[1m0s\u001b[0m 1ms/step - loss: 0.5504 - root_mean_squared_error: 0.1833 - val_loss: 0.7262 - val_root_mean_squared_error: 0.3461\n",
      "Epoch 98/100\n",
      "\u001b[1m51/51\u001b[0m \u001b[32m━━━━━━━━━━━━━━━━━━━━\u001b[0m\u001b[37m\u001b[0m \u001b[1m0s\u001b[0m 1ms/step - loss: 0.5601 - root_mean_squared_error: 0.1892 - val_loss: 0.7270 - val_root_mean_squared_error: 0.3466\n",
      "Epoch 99/100\n",
      "\u001b[1m51/51\u001b[0m \u001b[32m━━━━━━━━━━━━━━━━━━━━\u001b[0m\u001b[37m\u001b[0m \u001b[1m0s\u001b[0m 1ms/step - loss: 0.5534 - root_mean_squared_error: 0.1889 - val_loss: 0.7280 - val_root_mean_squared_error: 0.3472\n",
      "Epoch 100/100\n",
      "\u001b[1m51/51\u001b[0m \u001b[32m━━━━━━━━━━━━━━━━━━━━\u001b[0m\u001b[37m\u001b[0m \u001b[1m0s\u001b[0m 1ms/step - loss: 0.5440 - root_mean_squared_error: 0.1913 - val_loss: 0.7284 - val_root_mean_squared_error: 0.3474\n"
     ]
    }
   ],
   "source": [
    "\n",
    "# Memulai training\n",
    " \n",
    "history = model.fit(\n",
    "    x = x_train,\n",
    "    y = y_train,\n",
    "    batch_size = 8,\n",
    "    epochs = 100,\n",
    "    validation_data = (x_val, y_val)\n",
    ")\n",
    "    "
   ]
  },
  {
   "cell_type": "code",
   "execution_count": 43,
   "metadata": {},
   "outputs": [
    {
     "data": {
      "image/png": "[encoded data removed]",
      "text/plain": [
       "<Figure size 640x480 with 1 Axes>"
      ]
     },
     "metadata": {},
     "output_type": "display_data"
    }
   ],
   "source": [
    "\n",
    "plt.plot(history.history['root_mean_squared_error'])\n",
    "plt.plot(history.history['val_root_mean_squared_error'])\n",
    "plt.title('model_metrics')\n",
    "plt.ylabel('root_mean_squared_error')\n",
    "plt.xlabel('epoch')\n",
    "plt.legend(['train', 'test'], loc='upper left')\n",
    "plt.show()"
   ]
  },
  {
   "cell_type": "markdown",
   "metadata": {},
   "source": [
    "### 4.2.5 Penerapan collaborative filtering"
   ]
  },
  {
   "cell_type": "code",
   "execution_count": 51,
   "metadata": {},
   "outputs": [
    {
     "name": "stdout",
     "output_type": "stream",
     "text": [
      "\n",
      "Showing recommendations for user: 22.0\n",
      "===========================\n",
      "Foods with high ratings from user:\n",
      "Food: cajun spiced turkey wrapped with bacon, Type: Mexican, Rating: 6.0\n",
      "Food: chicken minced salad, Type: Healthy Food, Rating: 5.0\n",
      "\u001b[1m10/10\u001b[0m \u001b[32m━━━━━━━━━━━━━━━━━━━━\u001b[0m\u001b[37m\u001b[0m \u001b[1m0s\u001b[0m 514us/step\n",
      "\n",
      "Top 10 recommended foods for user:\n",
      "Food: chicken quinoa biryani, Type: Healthy Food\n",
      "Food: fruit cube salad, Type: Healthy Food\n",
      "Food: corn & jalapeno poppers, Type: Mexican\n",
      "Food: mixed beans salad, Type: Healthy Food\n",
      "Food: white chocolate and lemon pastry, Type: Dessert\n",
      "Food: chicken tikka, Type: Indian\n",
      "Food: apple and pear cake, Type: Healthy Food\n",
      "Food: filter coffee, Type: Beverage\n",
      "Food: spinach & banana pancakes, Type: Healthy Food\n",
      "Food: amritsari fish, Type: Indian\n",
      "\n",
      "Next recommended food for the user:\n",
      "Food: chicken quinoa biryani, Type: Healthy Food\n"
     ]
    }
   ],
   "source": [
    "import numpy as np\n",
    "\n",
    "# 5. Menampilkan rekomendasi makanan untuk pengguna\n",
    "\n",
    "# Mengambil sample user secara acak\n",
    "user_id = df.user_id.sample(1).iloc[0]\n",
    "food_visited_by_user = df[df.user_id == user_id]\n",
    "\n",
    "# Menampilkan rekomendasi berdasarkan rating tinggi dari user\n",
    "print(f'\\nShowing recommendations for user: {user_id}')\n",
    "print(\"===========================\")\n",
    "\n",
    "# Menampilkan makanan dengan rating tinggi dari user\n",
    "# Kita anggap rating lebih besar dari 4.0 dianggap rating tinggi\n",
    "high_rated_food = food_visited_by_user[food_visited_by_user['rating'] > 4.0]\n",
    "\n",
    "print(\"Foods with high ratings from user:\")\n",
    "if not high_rated_food.empty:\n",
    "    for row in high_rated_food.itertuples():\n",
    "        # Mengambil nama makanan dan jenis makanan berdasarkan food_id\n",
    "        food_name = data[data['food_id'] == row.food_id].iloc[0]['name']\n",
    "        food_type = data[data['food_id'] == row.food_id].iloc[0]['c_type']\n",
    "        print(f'Food: {food_name}, Type: {food_type}, Rating: {row.rating}')\n",
    "else:\n",
    "    print(\"No high-rated food found for this user.\")\n",
    "\n",
    "# Operator bitwise (~) untuk menemukan makanan yang belum dikunjungi oleh pengguna\n",
    "food_not_visited = data[~data['food_id'].isin(food_visited_by_user.food_id.values)]['food_id']\n",
    "food_not_visited = list(\n",
    "    set(food_not_visited)\n",
    "    .intersection(set(food_to_food_encoded.keys()))\n",
    ")\n",
    "\n",
    "# Menyusun array input untuk model untuk makanan yang belum dikunjungi\n",
    "food_not_visited = [[food_to_food_encoded.get(x)] for x in food_not_visited]\n",
    "user_encoder = user_to_user_encoded.get(user_id)\n",
    "user_food_array = np.hstack(\n",
    "    ([[user_encoder]] * len(food_not_visited), food_not_visited)\n",
    ")\n",
    "\n",
    "# Prediksi rating untuk setiap food yang belum dikunjungi oleh user\n",
    "ratings = model.predict(user_food_array).flatten()\n",
    "\n",
    "# Menemukan makanan dengan rating tertinggi\n",
    "top_ratings_indices = ratings.argsort()[-10:][::-1]\n",
    "recommended_food_ids = [\n",
    "    food_encoded_to_food.get(food_not_visited[x][0]) for x in top_ratings_indices\n",
    "]\n",
    "\n",
    "# Menampilkan rekomendasi makanan yang belum dikunjungi\n",
    "print('\\nTop 10 recommended foods for user:')\n",
    "for food_id in recommended_food_ids:\n",
    "    # Mengambil nama makanan dan jenis makanan berdasarkan food_id\n",
    "    food_name = data[data['food_id'] == food_id].iloc[0]['name']\n",
    "    food_type = data[data['food_id'] == food_id].iloc[0]['c_type']\n",
    "    print(f'Food: {food_name}, Type: {food_type}')\n",
    "\n",
    "# Menampilkan rekomendasi selanjutnya untuk pengguna\n",
    "print(\"\\nNext recommended food for the user:\")\n",
    "# Mengambil 1 makanan dengan rating tertinggi setelah prediksi\n",
    "next_food_id = recommended_food_ids[0]  # Mengambil ID makanan dengan rating tertinggi\n",
    "next_food = data[data['food_id'] == next_food_id]\n",
    "\n",
    "for row in next_food.itertuples():\n",
    "    food_name = row.name  # Mengambil nama makanan langsung dari data\n",
    "    food_type = row.c_type  # Mengambil jenis makanan langsung dari data\n",
    "    print(f'Food: {food_name}, Type: {food_type}')\n"
   ]
  },
  {
   "cell_type": "markdown",
   "metadata": {},
   "source": [
    "Di bagian ini, model digunakan untuk memberikan rekomendasi makanan kepada seorang pengguna yang dipilih secara acak. Makanan yang telah dikunjungi oleh pengguna tersebut disaring, dan model memprediksi rating untuk makanan yang belum dikunjungi. Rating yang diprediksi dikembalikan ke rentang asli dan makanan dengan rating tertinggi dipilih sebagai rekomendasi. Kemudian, nama dan kategori makanan ditampilkan untuk memberikan rekomendasi yang mudah dipahami."
   ]
  },
  {
   "cell_type": "code",
   "execution_count": null,
   "metadata": {},
   "outputs": [],
   "source": [
    "https://github.com/sellyrk/Project-Report-of-System-Recommendation"
   ]
  }
 ],
 "metadata": {
  "kernelspec": {
   "display_name": "tfgpu",
   "language": "python",
   "name": "python3"
  },
  "language_info": {
   "codemirror_mode": {
    "name": "ipython",
    "version": 3
   },
   "file_extension": ".py",
   "mimetype": "text/x-python",
   "name": "python",
   "nbconvert_exporter": "python",
   "pygments_lexer": "ipython3",
   "version": "3.10.15"
  }
 },
 "nbformat": 4,
 "nbformat_minor": 2
}
