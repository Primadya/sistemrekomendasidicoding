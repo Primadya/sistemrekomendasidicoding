{
 "cells": [
  {
   "cell_type": "markdown",
   "metadata": {},
   "source": [
    "#   Sistem Rekomendasi Makanan\n",
    "- Nauval Dwi Primadya"
   ]
  },
  {
   "cell_type": "markdown",
   "metadata": {},
   "source": [
    "## Deskripsi Proyek\n",
    "## Deskripsi dan Latar Belakang dari Proyek Sistem Rekomendasi Makanan\n",
    "\n",
    "Proyek ini berfokus pada pengembangan sistem rekomendasi makanan yang menggunakan metode collaborative filtering dan content-based filtering untuk memberikan saran yang relevan dan personal kepada pengguna berdasarkan preferensi makanan mereka. Dengan meningkatnya jumlah pilihan makanan yang tersedia, sering kali pengguna merasa kesulitan dalam menentukan pilihan yang sesuai dengan selera dan kebutuhan mereka."
   ]
  },
  {
   "cell_type": "markdown",
   "metadata": {},
   "source": [
    "# 1.  Melakukan Import Library yang digunakan"
   ]
  },
  {
   "cell_type": "code",
   "execution_count": 1,
   "metadata": {},
   "outputs": [
    {
     "name": "stderr",
     "output_type": "stream",
     "text": [
      "2024-11-17 15:39:45.095687: I tensorflow/core/util/port.cc:153] oneDNN custom operations are on. You may see slightly different numerical results due to floating-point round-off errors from different computation orders. To turn them off, set the environment variable `TF_ENABLE_ONEDNN_OPTS=0`.\n",
      "2024-11-17 15:39:45.105482: E external/local_xla/xla/stream_executor/cuda/cuda_fft.cc:477] Unable to register cuFFT factory: Attempting to register factory for plugin cuFFT when one has already been registered\n",
      "WARNING: All log messages before absl::InitializeLog() is called are written to STDERR\n",
      "E0000 00:00:1731832785.117727    8634 cuda_dnn.cc:8310] Unable to register cuDNN factory: Attempting to register factory for plugin cuDNN when one has already been registered\n",
      "E0000 00:00:1731832785.121148    8634 cuda_blas.cc:1418] Unable to register cuBLAS factory: Attempting to register factory for plugin cuBLAS when one has already been registered\n",
      "2024-11-17 15:39:45.133413: I tensorflow/core/platform/cpu_feature_guard.cc:210] This TensorFlow binary is optimized to use available CPU instructions in performance-critical operations.\n",
      "To enable the following instructions: AVX2 AVX512F AVX512_VNNI FMA, in other operations, rebuild TensorFlow with the appropriate compiler flags.\n"
     ]
    }
   ],
   "source": [
    "# Import library\n",
    "import pandas as pd\n",
    "import numpy as np\n",
    "import matplotlib.pyplot as plt\n",
    "import seaborn as sns\n",
    "from sklearn.feature_extraction.text import TfidfVectorizer\n",
    "from sklearn.metrics.pairwise import cosine_similarity\n",
    "import tensorflow as tf\n",
    "from tensorflow import keras\n",
    "from tensorflow.keras import layers, models, regularizers\n",
    "from tensorflow.keras.callbacks import EarlyStopping, ReduceLROnPlateau\n",
    "from pathlib import Path\n",
    "import pandas as pd\n",
    "import numpy as np\n",
    "import tensorflow as tf\n",
    "from tensorflow.keras import layers, models, regularizers\n",
    "import matplotlib.pyplot as plt\n",
    "from tensorflow.keras.callbacks import EarlyStopping, ReduceLROnPlateau\n",
    "import tensorflow as tf\n",
    "from tensorflow.keras import layers, regularizers"
   ]
  },
  {
   "cell_type": "markdown",
   "metadata": {},
   "source": [
    "# 2. Data Understanding\n",
    "\n",
    "merupakan tahapan untuk memahami informasi dari sebuah dataset dan digunakan untuk menentukan kualitas dari dataset tersebut. serta mendapatkan wawasan langkah apa saja yang akan diterapkan pada dataset tersebut."
   ]
  },
  {
   "cell_type": "markdown",
   "metadata": {},
   "source": [
    "## 2.1 Data Loading\n",
    "Tahap *Data Loading* bertujuan untuk memuat dataset yang akan digunakan, sehingga mempermudah pemahaman terhadap data tersebut. Dataset ini telah melalui proses *pembersihan* dan *normalisasi* oleh penyusunnya, sehingga siap digunakan dan lebih mudah diakses, bahkan oleh pemula.\n",
    "\n",
    "<br>\n",
    "\n",
    "**Detail Dataset**\n",
    "\n",
    "\n",
    "\n",
    "| Jenis      | Keterangan                                                                 |\n",
    "|------------|-----------------------------------------------------------------------------|\n",
    "| Title      | Food Recommendation System                                                             |\n",
    "| Source     | [Kaggle](https://www.kaggle.com/datasets/schemersays/food-recommendation-system)                  |\n",
    "| Maintainer | [schemersays](https://www.kaggle.com/schemersays)                                   |\n",
    "| License    | Unknown                  |\n",
    "| Visibility | Publik                                                                      |\n",
    "| Tags       | _Busines_ |\n",
    "| Usability  | 4.71                                                                      |\n"
   ]
  },
  {
   "cell_type": "markdown",
   "metadata": {},
   "source": [
    "## 2.2 Exploratory Data Analysis **(EDA)**\n",
    "\n",
    "*Exploratory Data Analysis* adalah proses awal dalam menyelidiki data untuk memahami karakteristiknya, mengidentifikasi pola dan anomali, serta memverifikasi asumsi yang mungkin ada pada data tersebut. Metode ini umumnya memanfaatkan teknik statistik serta visualisasi grafis untuk menyajikan informasi dengan lebih jelas."
   ]
  },
  {
   "cell_type": "code",
   "execution_count": 2,
   "metadata": {},
   "outputs": [],
   "source": [
    "#Membaca dataset\n",
    "data = pd.read_csv('/media/primadya/Kerja/dicoding/terapan/submission 2/dataset/food/1662574418893344.csv')\n",
    "rating = pd.read_csv('/media/primadya/Kerja/dicoding/terapan/submission 2/dataset/food/ratings.csv')"
   ]
  },
  {
   "cell_type": "code",
   "execution_count": 3,
   "metadata": {},
   "outputs": [],
   "source": [
    "# Ubah nama kolom menjadi lowercase\n",
    "data.columns = data.columns.str.lower()\n",
    "rating.columns = rating.columns.str.lower()\n"
   ]
  },
  {
   "cell_type": "markdown",
   "metadata": {},
   "source": [
    "Kode tersebut digunakan untuk mengubah nama kolom dalam dua DataFrame (`data` dan `rating`) menjadi huruf kecil (lowercase). Perintah `data.columns.str.lower()` dan `rating.columns.str.lower()` mengakses nama kolom di masing-masing DataFrame dan mengubah semua karakter dalam nama kolom menjadi huruf kecil menggunakan metode string `.lower()` Setelah perubahan ini, nama kolom pada kedua DataFrame menjadi konsisten dalam format huruf kecil, yang dapat membantu menghindari kesalahan saat mengakses kolom dan memastikan keterbacaan serta konsistensi dalam pengolahan data."
   ]
  },
  {
   "cell_type": "markdown",
   "metadata": {},
   "source": [
    "### Deskripsi Variabel"
   ]
  },
  {
   "cell_type": "code",
   "execution_count": 4,
   "metadata": {},
   "outputs": [
    {
     "name": "stdout",
     "output_type": "stream",
     "text": [
      "<class 'pandas.core.frame.DataFrame'>\n",
      "RangeIndex: 400 entries, 0 to 399\n",
      "Data columns (total 5 columns):\n",
      " #   Column    Non-Null Count  Dtype \n",
      "---  ------    --------------  ----- \n",
      " 0   food_id   400 non-null    int64 \n",
      " 1   name      400 non-null    object\n",
      " 2   c_type    400 non-null    object\n",
      " 3   veg_non   400 non-null    object\n",
      " 4   describe  400 non-null    object\n",
      "dtypes: int64(1), object(4)\n",
      "memory usage: 15.8+ KB\n"
     ]
    }
   ],
   "source": [
    "#Menampilkan info dari dataset\n",
    "data.info()"
   ]
  },
  {
   "cell_type": "code",
   "execution_count": 5,
   "metadata": {},
   "outputs": [
    {
     "data": {
      "text/html": [
       "<div>\n",
       "<style scoped>\n",
       "    .dataframe tbody tr th:only-of-type {\n",
       "        vertical-align: middle;\n",
       "    }\n",
       "\n",
       "    .dataframe tbody tr th {\n",
       "        vertical-align: top;\n",
       "    }\n",
       "\n",
       "    .dataframe thead th {\n",
       "        text-align: right;\n",
       "    }\n",
       "</style>\n",
       "<table border=\"1\" class=\"dataframe\">\n",
       "  <thead>\n",
       "    <tr style=\"text-align: right;\">\n",
       "      <th></th>\n",
       "      <th>food_id</th>\n",
       "      <th>name</th>\n",
       "      <th>c_type</th>\n",
       "      <th>veg_non</th>\n",
       "      <th>describe</th>\n",
       "    </tr>\n",
       "  </thead>\n",
       "  <tbody>\n",
       "    <tr>\n",
       "      <th>0</th>\n",
       "      <td>1</td>\n",
       "      <td>summer squash salad</td>\n",
       "      <td>Healthy Food</td>\n",
       "      <td>veg</td>\n",
       "      <td>white balsamic vinegar, lemon juice, lemon rin...</td>\n",
       "    </tr>\n",
       "    <tr>\n",
       "      <th>1</th>\n",
       "      <td>2</td>\n",
       "      <td>chicken minced salad</td>\n",
       "      <td>Healthy Food</td>\n",
       "      <td>non-veg</td>\n",
       "      <td>olive oil, chicken mince, garlic (minced), oni...</td>\n",
       "    </tr>\n",
       "    <tr>\n",
       "      <th>2</th>\n",
       "      <td>3</td>\n",
       "      <td>sweet chilli almonds</td>\n",
       "      <td>Snack</td>\n",
       "      <td>veg</td>\n",
       "      <td>almonds whole, egg white, curry leaves, salt, ...</td>\n",
       "    </tr>\n",
       "    <tr>\n",
       "      <th>3</th>\n",
       "      <td>4</td>\n",
       "      <td>tricolour salad</td>\n",
       "      <td>Healthy Food</td>\n",
       "      <td>veg</td>\n",
       "      <td>vinegar, honey/sugar, soy sauce, salt, garlic ...</td>\n",
       "    </tr>\n",
       "    <tr>\n",
       "      <th>4</th>\n",
       "      <td>5</td>\n",
       "      <td>christmas cake</td>\n",
       "      <td>Dessert</td>\n",
       "      <td>veg</td>\n",
       "      <td>christmas dry fruits (pre-soaked), orange zest...</td>\n",
       "    </tr>\n",
       "    <tr>\n",
       "      <th>5</th>\n",
       "      <td>6</td>\n",
       "      <td>japanese curry arancini with barley salsa</td>\n",
       "      <td>Japanese</td>\n",
       "      <td>veg</td>\n",
       "      <td>japanese curry, sticky rice, cheese inside ric...</td>\n",
       "    </tr>\n",
       "    <tr>\n",
       "      <th>6</th>\n",
       "      <td>7</td>\n",
       "      <td>chocolate nero cookies</td>\n",
       "      <td>Dessert</td>\n",
       "      <td>veg</td>\n",
       "      <td>almonds, eggs, granulated sugar, bittersweet c...</td>\n",
       "    </tr>\n",
       "    <tr>\n",
       "      <th>7</th>\n",
       "      <td>8</td>\n",
       "      <td>lamb and chargrilled bell pepper soup</td>\n",
       "      <td>Healthy Food</td>\n",
       "      <td>non-veg</td>\n",
       "      <td>lamb bones (preferably shank and shoulder), on...</td>\n",
       "    </tr>\n",
       "    <tr>\n",
       "      <th>8</th>\n",
       "      <td>9</td>\n",
       "      <td>cream of almond soup</td>\n",
       "      <td>Healthy Food</td>\n",
       "      <td>veg</td>\n",
       "      <td>vegetable stock, skimmed milk, toasted almonds...</td>\n",
       "    </tr>\n",
       "    <tr>\n",
       "      <th>9</th>\n",
       "      <td>10</td>\n",
       "      <td>broccoli and almond soup</td>\n",
       "      <td>Healthy Food</td>\n",
       "      <td>veg</td>\n",
       "      <td>vegetable stock, broccoli, ground almonds (toa...</td>\n",
       "    </tr>\n",
       "  </tbody>\n",
       "</table>\n",
       "</div>"
      ],
      "text/plain": [
       "   food_id                                       name        c_type  veg_non  \\\n",
       "0        1                        summer squash salad  Healthy Food      veg   \n",
       "1        2                       chicken minced salad  Healthy Food  non-veg   \n",
       "2        3                       sweet chilli almonds         Snack      veg   \n",
       "3        4                            tricolour salad  Healthy Food      veg   \n",
       "4        5                             christmas cake       Dessert      veg   \n",
       "5        6  japanese curry arancini with barley salsa      Japanese      veg   \n",
       "6        7                     chocolate nero cookies       Dessert      veg   \n",
       "7        8      lamb and chargrilled bell pepper soup  Healthy Food  non-veg   \n",
       "8        9                       cream of almond soup  Healthy Food      veg   \n",
       "9       10                   broccoli and almond soup  Healthy Food      veg   \n",
       "\n",
       "                                            describe  \n",
       "0  white balsamic vinegar, lemon juice, lemon rin...  \n",
       "1  olive oil, chicken mince, garlic (minced), oni...  \n",
       "2  almonds whole, egg white, curry leaves, salt, ...  \n",
       "3  vinegar, honey/sugar, soy sauce, salt, garlic ...  \n",
       "4  christmas dry fruits (pre-soaked), orange zest...  \n",
       "5  japanese curry, sticky rice, cheese inside ric...  \n",
       "6  almonds, eggs, granulated sugar, bittersweet c...  \n",
       "7  lamb bones (preferably shank and shoulder), on...  \n",
       "8  vegetable stock, skimmed milk, toasted almonds...  \n",
       "9  vegetable stock, broccoli, ground almonds (toa...  "
      ]
     },
     "execution_count": 5,
     "metadata": {},
     "output_type": "execute_result"
    }
   ],
   "source": [
    "#Menampilkan isi dari variabel data\n",
    "data.head(10)"
   ]
  },
  {
   "cell_type": "markdown",
   "metadata": {},
   "source": [
    "Berikut adalah penjelasan fitur-fitur dalam tabel :\n",
    "\n",
    "- **`food_id`**     : ID unik untuk setiap makanan, bertipe data (integer).\n",
    "- **`name`**        : Nama hidangan makanan, bertipe data (string).\n",
    "- **`c_type`**      : Kategori makanan (seperti \"Healthy Food\", \"Snack\", \"Dessert\", dll.). bertipe data (string).\n",
    "- **`veg_non`**     : Menunjukkan apakah makanan tersebut vegetarian (\"veg\") atau non-vegetarian (\"non-veg\"), bertipe data (string).\n",
    "- **`describe`**    : Deskripsi bahan-bahan yang digunakan dalam hidangan, bertipe data (string)."
   ]
  },
  {
   "cell_type": "code",
   "execution_count": 6,
   "metadata": {},
   "outputs": [
    {
     "name": "stdout",
     "output_type": "stream",
     "text": [
      "<class 'pandas.core.frame.DataFrame'>\n",
      "RangeIndex: 512 entries, 0 to 511\n",
      "Data columns (total 3 columns):\n",
      " #   Column   Non-Null Count  Dtype  \n",
      "---  ------   --------------  -----  \n",
      " 0   user_id  511 non-null    float64\n",
      " 1   food_id  511 non-null    float64\n",
      " 2   rating   511 non-null    float64\n",
      "dtypes: float64(3)\n",
      "memory usage: 12.1 KB\n"
     ]
    }
   ],
   "source": [
    "#Menampilkan info dari dataset\n",
    "rating.info()"
   ]
  },
  {
   "cell_type": "code",
   "execution_count": 7,
   "metadata": {},
   "outputs": [
    {
     "data": {
      "text/html": [
       "<div>\n",
       "<style scoped>\n",
       "    .dataframe tbody tr th:only-of-type {\n",
       "        vertical-align: middle;\n",
       "    }\n",
       "\n",
       "    .dataframe tbody tr th {\n",
       "        vertical-align: top;\n",
       "    }\n",
       "\n",
       "    .dataframe thead th {\n",
       "        text-align: right;\n",
       "    }\n",
       "</style>\n",
       "<table border=\"1\" class=\"dataframe\">\n",
       "  <thead>\n",
       "    <tr style=\"text-align: right;\">\n",
       "      <th></th>\n",
       "      <th>user_id</th>\n",
       "      <th>food_id</th>\n",
       "      <th>rating</th>\n",
       "    </tr>\n",
       "  </thead>\n",
       "  <tbody>\n",
       "    <tr>\n",
       "      <th>0</th>\n",
       "      <td>1.0</td>\n",
       "      <td>88.0</td>\n",
       "      <td>4.0</td>\n",
       "    </tr>\n",
       "    <tr>\n",
       "      <th>1</th>\n",
       "      <td>1.0</td>\n",
       "      <td>46.0</td>\n",
       "      <td>3.0</td>\n",
       "    </tr>\n",
       "    <tr>\n",
       "      <th>2</th>\n",
       "      <td>1.0</td>\n",
       "      <td>24.0</td>\n",
       "      <td>5.0</td>\n",
       "    </tr>\n",
       "    <tr>\n",
       "      <th>3</th>\n",
       "      <td>1.0</td>\n",
       "      <td>25.0</td>\n",
       "      <td>4.0</td>\n",
       "    </tr>\n",
       "    <tr>\n",
       "      <th>4</th>\n",
       "      <td>2.0</td>\n",
       "      <td>49.0</td>\n",
       "      <td>1.0</td>\n",
       "    </tr>\n",
       "    <tr>\n",
       "      <th>5</th>\n",
       "      <td>2.0</td>\n",
       "      <td>33.0</td>\n",
       "      <td>8.0</td>\n",
       "    </tr>\n",
       "    <tr>\n",
       "      <th>6</th>\n",
       "      <td>2.0</td>\n",
       "      <td>106.0</td>\n",
       "      <td>9.0</td>\n",
       "    </tr>\n",
       "    <tr>\n",
       "      <th>7</th>\n",
       "      <td>2.0</td>\n",
       "      <td>71.0</td>\n",
       "      <td>8.0</td>\n",
       "    </tr>\n",
       "    <tr>\n",
       "      <th>8</th>\n",
       "      <td>3.0</td>\n",
       "      <td>73.0</td>\n",
       "      <td>9.0</td>\n",
       "    </tr>\n",
       "    <tr>\n",
       "      <th>9</th>\n",
       "      <td>3.0</td>\n",
       "      <td>110.0</td>\n",
       "      <td>10.0</td>\n",
       "    </tr>\n",
       "  </tbody>\n",
       "</table>\n",
       "</div>"
      ],
      "text/plain": [
       "   user_id  food_id  rating\n",
       "0      1.0     88.0     4.0\n",
       "1      1.0     46.0     3.0\n",
       "2      1.0     24.0     5.0\n",
       "3      1.0     25.0     4.0\n",
       "4      2.0     49.0     1.0\n",
       "5      2.0     33.0     8.0\n",
       "6      2.0    106.0     9.0\n",
       "7      2.0     71.0     8.0\n",
       "8      3.0     73.0     9.0\n",
       "9      3.0    110.0    10.0"
      ]
     },
     "execution_count": 7,
     "metadata": {},
     "output_type": "execute_result"
    }
   ],
   "source": [
    "#Menampilkan isi dari variabel data\n",
    "rating.head(10)"
   ]
  },
  {
   "cell_type": "markdown",
   "metadata": {},
   "source": [
    "- **`user_id`**: ID unik untuk setiap pengguna yang memberikan rating (angka desimal, bisa menunjukkan pengguna yang berbeda).\n",
    "- **`food_id`**: ID unik untuk makanan yang diberi rating, yang mengacu pada makanan tertentu dalam tabel lain (angka desimal).\n",
    "- **`rating`**: Nilai rating yang diberikan oleh pengguna untuk makanan tersebut, biasanya dalam skala 1-10, di mana 10 menunjukkan penilaian terbaik (angka desimal).\n"
   ]
  },
  {
   "cell_type": "markdown",
   "metadata": {},
   "source": [
    "### Visualisasi Data"
   ]
  },
  {
   "cell_type": "code",
   "execution_count": 8,
   "metadata": {},
   "outputs": [
    {
     "name": "stdout",
     "output_type": "stream",
     "text": [
      "Jumlah Type:  16\n",
      "c_type\n",
      "Indian          88\n",
      "Healthy Food    58\n",
      "Dessert         53\n",
      "Chinese         27\n",
      "Italian         25\n",
      "Snack           23\n",
      "Thai            23\n",
      "French          22\n",
      "Mexican         21\n",
      "Japanese        18\n",
      "Beverage        11\n",
      "Nepalese        11\n",
      "Korean           9\n",
      "Vietnames        9\n",
      " Korean          1\n",
      "Spanish          1\n",
      "Name: count, dtype: int64\n"
     ]
    },
    {
     "data": {
      "image/png": "[encoded data removed]",
      "text/plain": [
       "<Figure size 1000x500 with 1 Axes>"
      ]
     },
     "metadata": {},
     "output_type": "display_data"
    }
   ],
   "source": [
    "#Menghitung jumlah brand\n",
    "print('Jumlah Type: ',len(data.c_type.unique()))\n",
    "\n",
    "#Menghitung jumlah cellphone masing-masing brand\n",
    "genre_counts = data['c_type'].value_counts()\n",
    "print(genre_counts)\n",
    "\n",
    "#Menampilkan dalam bentuk grafik\n",
    "plt.figure(figsize=(10, 5))\n",
    "sns.countplot(data=data, x=data['c_type'])\n",
    "plt.xticks(rotation=90)\n",
    "plt.show()"
   ]
  },
  {
   "cell_type": "markdown",
   "metadata": {},
   "source": [
    "Kode di atas digunakan untuk menganalisis kolom `c_type` dalam DataFrame `data` yang berisi kategori jenis makanan. Pertama, kode menghitung jumlah kategori unik dalam kolom tersebut dengan menggunakan `unique()` dan `len()`, lalu menampilkan hasilnya. Selanjutnya, menggunakan `value_counts()`, kode ini menghitung dan menampilkan jumlah kemunculan masing-masing kategori. Terakhir, kode ini memvisualisasikan distribusi kategori tersebut dalam bentuk grafik batang (bar plot) dengan `seaborn.countplot()`, yang memudahkan untuk melihat perbandingan jumlah masing-masing kategori, dengan label pada sumbu X diputar 90 derajat agar lebih mudah dibaca."
   ]
  },
  {
   "cell_type": "code",
   "execution_count": 9,
   "metadata": {},
   "outputs": [
    {
     "name": "stdout",
     "output_type": "stream",
     "text": [
      "Jumlah Data:  2\n",
      "veg_non\n",
      "veg        238\n",
      "non-veg    162\n",
      "Name: count, dtype: int64\n"
     ]
    },
    {
     "data": {
      "image/png": "[encoded data removed]",
      "text/plain": [
       "<Figure size 500x300 with 1 Axes>"
      ]
     },
     "metadata": {},
     "output_type": "display_data"
    }
   ],
   "source": [
    "#Menghitung jumlah brand\n",
    "print('Jumlah Data: ',len(data.veg_non.unique()))\n",
    "\n",
    "#Menghitung jumlah cellphone masing-masing brand\n",
    "genre_counts = data['veg_non'].value_counts()\n",
    "print(genre_counts)\n",
    "\n",
    "#Menampilkan dalam bentuk grafik\n",
    "plt.figure(figsize=(5, 3))\n",
    "sns.countplot(data=data, x=data['veg_non'])\n",
    "plt.xticks(rotation=90)\n",
    "plt.show()"
   ]
  },
  {
   "cell_type": "markdown",
   "metadata": {},
   "source": [
    "Kode ini pertama-tama menghitung jumlah kategori unik dalam kolom `veg_non`, lalu menghitung jumlah makanan yang termasuk dalam masing-masing kategori dengan menggunakan `value_counts()`. Selanjutnya, hasil distribusi jumlah kategori tersebut ditampilkan dalam bentuk grafik batang (bar plot), yang memvisualisasikan perbandingan jumlah makanan vegetarian dan non-vegetarian."
   ]
  },
  {
   "cell_type": "code",
   "execution_count": 10,
   "metadata": {},
   "outputs": [
    {
     "name": "stdout",
     "output_type": "stream",
     "text": [
      "\n",
      "Jumlah kemunculan per rating:\n",
      " rating\n",
      "1.0     48\n",
      "2.0     47\n",
      "3.0     63\n",
      "4.0     53\n",
      "5.0     61\n",
      "6.0     48\n",
      "7.0     49\n",
      "8.0     39\n",
      "9.0     42\n",
      "10.0    61\n",
      "Name: count, dtype: int64\n"
     ]
    },
    {
     "data": {
      "image/png": "[encoded data removed]",
      "text/plain": [
       "<Figure size 500x300 with 1 Axes>"
      ]
     },
     "metadata": {},
     "output_type": "display_data"
    }
   ],
   "source": [
    "#Menghitung rating X muncul berapa kali\n",
    "rating_counts = rating['rating'].value_counts()\n",
    "print(\"\\nJumlah kemunculan per rating:\\n\", rating_counts.sort_index())\n",
    "\n",
    "#Menampilkan grafik\n",
    "plt.figure(figsize=(5, 3))\n",
    "sns.countplot(data=rating, x=rating['rating'])\n",
    "plt.show()"
   ]
  },
  {
   "cell_type": "markdown",
   "metadata": {},
   "source": [
    "Kode ini pertama-tama menghitung dan menampilkan jumlah kemunculan setiap nilai rating dalam kolom rating menggunakan `value_counts()`, kemudian mengurutkan hasilnya dengan `.sort_index()` untuk memudahkan pembacaan. Selanjutnya, kode ini menampilkan distribusi kemunculan rating dalam bentuk grafik batang, menggunakan `sns.countplot()`, yang memungkinkan kita untuk dengan mudah melihat berapa banyak pengguna yang memberikan rating tertentu pada data."
   ]
  },
  {
   "cell_type": "markdown",
   "metadata": {},
   "source": [
    "# 3. Data Preparation\n",
    "\n",
    "Merupakan tahapan untuk mempersiapkan data sebelum dilakukannya pemodelan machine learning"
   ]
  },
  {
   "cell_type": "code",
   "execution_count": 11,
   "metadata": {},
   "outputs": [],
   "source": [
    "# Menggabungkan dataset berdasarkan food_id\n",
    "merged_data = pd.merge(rating, data, on='food_id', how='inner', suffixes=('_user', '_food'))\n",
    "\n"
   ]
  },
  {
   "cell_type": "markdown",
   "metadata": {},
   "source": [
    "Kode ini menggabungkan dua DataFrame (`rating` dan `data`) berdasarkan kolom `food_id` dengan menggunakan **inner join**, yang hanya menyertakan baris yang memiliki `food_id` yang cocok di kedua DataFrame. Selain itu, untuk kolom yang memiliki nama yang sama (seperti `food_id`), kode ini menambahkan akhiran `'_user'` dan `'_food'` agar tidak terjadi konflik nama kolom."
   ]
  },
  {
   "cell_type": "code",
   "execution_count": 12,
   "metadata": {},
   "outputs": [
    {
     "name": "stdout",
     "output_type": "stream",
     "text": [
      "Hasil penggabungan dataset:\n"
     ]
    },
    {
     "data": {
      "text/html": [
       "<div>\n",
       "<style scoped>\n",
       "    .dataframe tbody tr th:only-of-type {\n",
       "        vertical-align: middle;\n",
       "    }\n",
       "\n",
       "    .dataframe tbody tr th {\n",
       "        vertical-align: top;\n",
       "    }\n",
       "\n",
       "    .dataframe thead th {\n",
       "        text-align: right;\n",
       "    }\n",
       "</style>\n",
       "<table border=\"1\" class=\"dataframe\">\n",
       "  <thead>\n",
       "    <tr style=\"text-align: right;\">\n",
       "      <th></th>\n",
       "      <th>user_id</th>\n",
       "      <th>food_id</th>\n",
       "      <th>rating</th>\n",
       "      <th>name</th>\n",
       "      <th>c_type</th>\n",
       "      <th>veg_non</th>\n",
       "      <th>describe</th>\n",
       "    </tr>\n",
       "  </thead>\n",
       "  <tbody>\n",
       "    <tr>\n",
       "      <th>0</th>\n",
       "      <td>1.0</td>\n",
       "      <td>88.0</td>\n",
       "      <td>4.0</td>\n",
       "      <td>peri peri chicken satay</td>\n",
       "      <td>Snack</td>\n",
       "      <td>non-veg</td>\n",
       "      <td>boneless skinless chicken thigh (trimmed), sal...</td>\n",
       "    </tr>\n",
       "    <tr>\n",
       "      <th>1</th>\n",
       "      <td>1.0</td>\n",
       "      <td>46.0</td>\n",
       "      <td>3.0</td>\n",
       "      <td>steam bunny chicken bao</td>\n",
       "      <td>Japanese</td>\n",
       "      <td>non-veg</td>\n",
       "      <td>buns, all purpose white flour, dry yeast, suga...</td>\n",
       "    </tr>\n",
       "    <tr>\n",
       "      <th>2</th>\n",
       "      <td>1.0</td>\n",
       "      <td>24.0</td>\n",
       "      <td>5.0</td>\n",
       "      <td>green lentil dessert fudge</td>\n",
       "      <td>Dessert</td>\n",
       "      <td>veg</td>\n",
       "      <td>whole moong beans, cow ghee, raisins, whole mi...</td>\n",
       "    </tr>\n",
       "    <tr>\n",
       "      <th>3</th>\n",
       "      <td>1.0</td>\n",
       "      <td>25.0</td>\n",
       "      <td>4.0</td>\n",
       "      <td>cashew nut cookies</td>\n",
       "      <td>Dessert</td>\n",
       "      <td>veg</td>\n",
       "      <td>cashew paste, ghee, khaand (a sweetening agent...</td>\n",
       "    </tr>\n",
       "    <tr>\n",
       "      <th>4</th>\n",
       "      <td>2.0</td>\n",
       "      <td>49.0</td>\n",
       "      <td>1.0</td>\n",
       "      <td>christmas tree pizza</td>\n",
       "      <td>Italian</td>\n",
       "      <td>veg</td>\n",
       "      <td>pizza dough (2 boules), red pepper, red onion,...</td>\n",
       "    </tr>\n",
       "    <tr>\n",
       "      <th>5</th>\n",
       "      <td>2.0</td>\n",
       "      <td>33.0</td>\n",
       "      <td>8.0</td>\n",
       "      <td>moong dal kiwi coconut soup</td>\n",
       "      <td>Indian</td>\n",
       "      <td>veg</td>\n",
       "      <td>green gram (dhuli moong dal), kiwis, coconut c...</td>\n",
       "    </tr>\n",
       "    <tr>\n",
       "      <th>6</th>\n",
       "      <td>2.0</td>\n",
       "      <td>106.0</td>\n",
       "      <td>9.0</td>\n",
       "      <td>chicken nimbu dhaniya shorba</td>\n",
       "      <td>Beverage</td>\n",
       "      <td>non-veg</td>\n",
       "      <td>water, chicken (diced)), ginger garlic paste, ...</td>\n",
       "    </tr>\n",
       "    <tr>\n",
       "      <th>7</th>\n",
       "      <td>2.0</td>\n",
       "      <td>71.0</td>\n",
       "      <td>8.0</td>\n",
       "      <td>carrot ginger soup</td>\n",
       "      <td>Healthy Food</td>\n",
       "      <td>veg</td>\n",
       "      <td>Carrots, Olive Oil, Salt, Vegetable Stock, Gin...</td>\n",
       "    </tr>\n",
       "    <tr>\n",
       "      <th>8</th>\n",
       "      <td>3.0</td>\n",
       "      <td>73.0</td>\n",
       "      <td>9.0</td>\n",
       "      <td>hot chocolate</td>\n",
       "      <td>Beverage</td>\n",
       "      <td>veg</td>\n",
       "      <td>milk, chocolate, cocoa powder, powdered sugar,...</td>\n",
       "    </tr>\n",
       "    <tr>\n",
       "      <th>9</th>\n",
       "      <td>3.0</td>\n",
       "      <td>110.0</td>\n",
       "      <td>10.0</td>\n",
       "      <td>chicken and mushroom lasagna</td>\n",
       "      <td>Italian</td>\n",
       "      <td>non-veg</td>\n",
       "      <td>chicken, salt, crush black pepper, garlic clov...</td>\n",
       "    </tr>\n",
       "  </tbody>\n",
       "</table>\n",
       "</div>"
      ],
      "text/plain": [
       "   user_id  food_id  rating                          name        c_type  \\\n",
       "0      1.0     88.0     4.0       peri peri chicken satay         Snack   \n",
       "1      1.0     46.0     3.0       steam bunny chicken bao      Japanese   \n",
       "2      1.0     24.0     5.0    green lentil dessert fudge       Dessert   \n",
       "3      1.0     25.0     4.0            cashew nut cookies       Dessert   \n",
       "4      2.0     49.0     1.0          christmas tree pizza       Italian   \n",
       "5      2.0     33.0     8.0   moong dal kiwi coconut soup        Indian   \n",
       "6      2.0    106.0     9.0  chicken nimbu dhaniya shorba      Beverage   \n",
       "7      2.0     71.0     8.0            carrot ginger soup  Healthy Food   \n",
       "8      3.0     73.0     9.0                 hot chocolate      Beverage   \n",
       "9      3.0    110.0    10.0  chicken and mushroom lasagna       Italian   \n",
       "\n",
       "   veg_non                                           describe  \n",
       "0  non-veg  boneless skinless chicken thigh (trimmed), sal...  \n",
       "1  non-veg  buns, all purpose white flour, dry yeast, suga...  \n",
       "2      veg  whole moong beans, cow ghee, raisins, whole mi...  \n",
       "3      veg  cashew paste, ghee, khaand (a sweetening agent...  \n",
       "4      veg  pizza dough (2 boules), red pepper, red onion,...  \n",
       "5      veg  green gram (dhuli moong dal), kiwis, coconut c...  \n",
       "6  non-veg  water, chicken (diced)), ginger garlic paste, ...  \n",
       "7      veg  Carrots, Olive Oil, Salt, Vegetable Stock, Gin...  \n",
       "8      veg  milk, chocolate, cocoa powder, powdered sugar,...  \n",
       "9  non-veg  chicken, salt, crush black pepper, garlic clov...  "
      ]
     },
     "execution_count": 12,
     "metadata": {},
     "output_type": "execute_result"
    }
   ],
   "source": [
    "# Informasi dataset hasil gabungan\n",
    "print(\"Hasil penggabungan dataset:\")\n",
    "merged_data.head(10)\n"
   ]
  },
  {
   "cell_type": "code",
   "execution_count": 13,
   "metadata": {},
   "outputs": [
    {
     "name": "stdout",
     "output_type": "stream",
     "text": [
      "\n",
      "Informasi dataset hasil gabungan:\n",
      "<class 'pandas.core.frame.DataFrame'>\n",
      "RangeIndex: 511 entries, 0 to 510\n",
      "Data columns (total 7 columns):\n",
      " #   Column    Non-Null Count  Dtype  \n",
      "---  ------    --------------  -----  \n",
      " 0   user_id   511 non-null    float64\n",
      " 1   food_id   511 non-null    float64\n",
      " 2   rating    511 non-null    float64\n",
      " 3   name      511 non-null    object \n",
      " 4   c_type    511 non-null    object \n",
      " 5   veg_non   511 non-null    object \n",
      " 6   describe  511 non-null    object \n",
      "dtypes: float64(3), object(4)\n",
      "memory usage: 28.1+ KB\n",
      "None\n"
     ]
    }
   ],
   "source": [
    "print(\"\\nInformasi dataset hasil gabungan:\")\n",
    "print(merged_data.info())"
   ]
  },
  {
   "cell_type": "code",
   "execution_count": 14,
   "metadata": {},
   "outputs": [],
   "source": [
    "# Mengubah nilai kolom menjadi lowercase\n",
    "merged_data['name'] = merged_data['name'].str.lower()\n",
    "merged_data['c_type'] = merged_data['c_type'].str.lower()\n",
    "merged_data['describe'] = merged_data['describe'].str.lower()"
   ]
  },
  {
   "cell_type": "markdown",
   "metadata": {},
   "source": [
    "Kode ini mengubah nilai dalam kolom `name`, `c_type`, dan `describe` pada DataFrame `merged_data` menjadi huruf kecil dengan menggunakan metode `.str.lower()`. Hal ini bertujuan untuk meningkatkan konsistensi data dan memudahkan analisis atau pencarian lebih lanjut tanpa memperhatikan perbedaan huruf besar/kecil."
   ]
  },
  {
   "cell_type": "markdown",
   "metadata": {},
   "source": [
    "### Data Cleaning"
   ]
  },
  {
   "cell_type": "markdown",
   "metadata": {},
   "source": [
    "**Data Cleaning** adalah tahap krusial dalam pipeline machine learning, yang bertujuan memastikan data yang digunakan dalam pelatihan model bebas dari kesalahan, inkonsistensi, atau kekurangan. Ini mencakup menangani data yang hilang, mendeteksi dan memperbaiki outliers, mengatasi duplikasi, serta memastikan bahwa format dan tipe data sesuai. Data yang bersih memungkinkan model untuk belajar dari data yang representatif, yang pada akhirnya menghasilkan model yang lebih akurat dan dapat diandalkan."
   ]
  },
  {
   "cell_type": "code",
   "execution_count": 15,
   "metadata": {},
   "outputs": [
    {
     "data": {
      "text/plain": [
       "user_id     0\n",
       "food_id     0\n",
       "rating      0\n",
       "name        0\n",
       "c_type      0\n",
       "veg_non     0\n",
       "describe    0\n",
       "dtype: int64"
      ]
     },
     "execution_count": 15,
     "metadata": {},
     "output_type": "execute_result"
    }
   ],
   "source": [
    "#Cek missing value\n",
    "merged_data.isnull().sum()"
   ]
  },
  {
   "cell_type": "code",
   "execution_count": 16,
   "metadata": {},
   "outputs": [],
   "source": [
    "import pandas as pd\n",
    "from sklearn.feature_extraction.text import TfidfVectorizer\n",
    "from sklearn.metrics.pairwise import cosine_similarity\n",
    "\n",
    "# Menghapus nilai null\n",
    "merged_data = merged_data.dropna()\n"
   ]
  },
  {
   "cell_type": "code",
   "execution_count": 17,
   "metadata": {},
   "outputs": [
    {
     "name": "stdout",
     "output_type": "stream",
     "text": [
      "\n",
      "Jumlah missing value pada dataset:\n",
      "user_id     0\n",
      "food_id     0\n",
      "rating      0\n",
      "name        0\n",
      "c_type      0\n",
      "veg_non     0\n",
      "describe    0\n",
      "dtype: int64\n"
     ]
    }
   ],
   "source": [
    "# Cek missing value\n",
    "print(\"\\nJumlah missing value pada dataset:\")\n",
    "print(merged_data.isnull().sum())\n",
    "\n"
   ]
  },
  {
   "cell_type": "code",
   "execution_count": 18,
   "metadata": {},
   "outputs": [],
   "source": [
    "# Menghapus duplikat berdasarkan food_id\n",
    "cleaned_data = merged_data.drop_duplicates('food_id')\n"
   ]
  },
  {
   "cell_type": "code",
   "execution_count": 19,
   "metadata": {},
   "outputs": [],
   "source": [
    "# Membuat DataFrame untuk digunakan\n",
    "foods = pd.DataFrame({\n",
    "    'food_id': cleaned_data['food_id'].tolist(),\n",
    "    'name': cleaned_data['name'].tolist(),\n",
    "    'c_type': cleaned_data['c_type'].tolist(),\n",
    "    'veg_non': cleaned_data['veg_non'].tolist(),\n",
    "    'describe': cleaned_data['describe'].tolist(),\n",
    "})"
   ]
  },
  {
   "cell_type": "markdown",
   "metadata": {},
   "source": [
    "##  TF IDF Vectorizer"
   ]
  },
  {
   "cell_type": "markdown",
   "metadata": {},
   "source": [
    "**TF-IDF Vectorizer** adalah alat yang digunakan untuk mengubah teks menjadi representasi numerik berdasarkan seberapa sering kata muncul dalam teks (TF) dan seberapa penting kata tersebut dibandingkan dengan seluruh koleksi teks (IDF). Pada kode yang diberikan, TF-IDF digunakan untuk menganalisis kolom **`describe`** dalam DataFrame `foods`, mengubah deskripsi makanan menjadi bentuk yang dapat diproses lebih lanjut oleh model machine learning, serta memberikan gambaran tentang kata-kata penting dalam deskripsi makanan berdasarkan konteks seluruh dataset."
   ]
  },
  {
   "cell_type": "code",
   "execution_count": 20,
   "metadata": {},
   "outputs": [],
   "source": [
    "# TF-IDF Vectorizer untuk kolom Describe\n",
    "tf = TfidfVectorizer(stop_words='english')  # Menghapus kata umum dalam bahasa Inggris\n",
    "tfidf_matrix = tf.fit_transform(foods['describe'])\n"
   ]
  },
  {
   "cell_type": "code",
   "execution_count": 21,
   "metadata": {},
   "outputs": [
    {
     "name": "stdout",
     "output_type": "stream",
     "text": [
      "Fitur unik dari kolom 'describe':\n",
      "['10' '13' '150' ... 'zested' 'zinfandel' 'zucchini'] \n",
      "\n"
     ]
    }
   ],
   "source": [
    "# Mapping array dari fitur index integer ke fitur nama\n",
    "feature_names = tf.get_feature_names_out()  # Mendapatkan nama fitur (kata-kata unik)\n",
    "print(\"Fitur unik dari kolom 'describe':\")\n",
    "print(feature_names, \"\\n\")"
   ]
  },
  {
   "cell_type": "code",
   "execution_count": 22,
   "metadata": {},
   "outputs": [],
   "source": [
    "# Menampilkan Matriks TF-IDF dalam bentuk DataFrame\n",
    "tfidf_df = pd.DataFrame(\n",
    "    tfidf_matrix.todense(),  # Konversi sparse matrix ke dense matrix\n",
    "    columns=feature_names,  # Kolom berdasarkan kata-kata unik\n",
    "    index=foods['name']  # Nama makanan sebagai indeks\n",
    ")"
   ]
  },
  {
   "cell_type": "code",
   "execution_count": 23,
   "metadata": {},
   "outputs": [
    {
     "name": "stdout",
     "output_type": "stream",
     "text": [
      "\n",
      "Matriks TF-IDF untuk beberapa makanan (random 5 baris):\n",
      "                                          10   13  150  15th   20   25  300  \\\n",
      "name                                                                          \n",
      "spicy chicken masala                     0.0  0.0  0.0   0.0  0.0  0.0  0.0   \n",
      "christmas tree pizza                     0.0  0.0  0.0   0.0  0.0  0.0  0.0   \n",
      "al hachi chicken                         0.0  0.0  0.0   0.0  0.0  0.0  0.0   \n",
      "shepherds salad (tamatar-kheera salaad)  0.0  0.0  0.0   0.0  0.0  0.0  0.0   \n",
      "apple rabdi                              0.0  0.0  0.0   0.0  0.0  0.0  0.0   \n",
      "\n",
      "                                         3cm   50  aamchoor  ...  yoks  yolk  \\\n",
      "name                                                         ...               \n",
      "spicy chicken masala                     0.0  0.0       0.0  ...   0.0   0.0   \n",
      "christmas tree pizza                     0.0  0.0       0.0  ...   0.0   0.0   \n",
      "al hachi chicken                         0.0  0.0       0.0  ...   0.0   0.0   \n",
      "shepherds salad (tamatar-kheera salaad)  0.0  0.0       0.0  ...   0.0   0.0   \n",
      "apple rabdi                              0.0  0.0       0.0  ...   0.0   0.0   \n",
      "\n",
      "                                         yolks  young  yut  zeera  zest  \\\n",
      "name                                                                      \n",
      "spicy chicken masala                       0.0    0.0  0.0    0.0   0.0   \n",
      "christmas tree pizza                       0.0    0.0  0.0    0.0   0.0   \n",
      "al hachi chicken                           0.0    0.0  0.0    0.0   0.0   \n",
      "shepherds salad (tamatar-kheera salaad)    0.0    0.0  0.0    0.0   0.0   \n",
      "apple rabdi                                0.0    0.0  0.0    0.0   0.0   \n",
      "\n",
      "                                         zested  zinfandel  zucchini  \n",
      "name                                                                  \n",
      "spicy chicken masala                        0.0        0.0       0.0  \n",
      "christmas tree pizza                        0.0        0.0       0.0  \n",
      "al hachi chicken                            0.0        0.0       0.0  \n",
      "shepherds salad (tamatar-kheera salaad)     0.0        0.0       0.0  \n",
      "apple rabdi                                 0.0        0.0       0.0  \n",
      "\n",
      "[5 rows x 1076 columns] \n",
      "\n"
     ]
    }
   ],
   "source": [
    "# Menampilkan matriks TF-IDF untuk 5 baris acak\n",
    "print(\"\\nMatriks TF-IDF untuk beberapa makanan (random 5 baris):\")\n",
    "print(tfidf_df.sample(5), \"\\n\")"
   ]
  },
  {
   "cell_type": "markdown",
   "metadata": {},
   "source": [
    "## Cosine Similarity"
   ]
  },
  {
   "cell_type": "markdown",
   "metadata": {},
   "source": [
    "**Cosine Similarity** pada kode tersebut digunakan untuk menghitung tingkat kesamaan antara deskripsi makanan berdasarkan representasi TF-IDF mereka. Matriks yang dihasilkan menunjukkan seberapa mirip setiap makanan satu sama lain berdasarkan deskripsi yang ada. Matriks ini sangat berguna untuk aplikasi seperti sistem rekomendasi, di mana kita bisa menyarankan makanan yang mirip dengan makanan yang telah dipilih pengguna, atau untuk analisis teks lainnya yang membutuhkan pemahaman tentang kesamaan antara dokumen."
   ]
  },
  {
   "cell_type": "code",
   "execution_count": 24,
   "metadata": {},
   "outputs": [],
   "source": [
    "# Menghitung cosine similarity\n",
    "cosine_sim = cosine_similarity(tfidf_matrix)\n",
    "\n"
   ]
  },
  {
   "cell_type": "code",
   "execution_count": 25,
   "metadata": {},
   "outputs": [
    {
     "name": "stdout",
     "output_type": "stream",
     "text": [
      "\n",
      "=== Contoh Cosine Similarity Matrix ===\n",
      "name                        peri peri chicken satay  steam bunny chicken bao  \\\n",
      "name                                                                           \n",
      "peri peri chicken satay                    1.000000                 0.086751   \n",
      "steam bunny chicken bao                    0.086751                 1.000000   \n",
      "green lentil dessert fudge                 0.000000                 0.000000   \n",
      "cashew nut cookies                         0.055632                 0.089359   \n",
      "christmas tree pizza                       0.017025                 0.005378   \n",
      "\n",
      "name                        green lentil dessert fudge  cashew nut cookies  \\\n",
      "name                                                                         \n",
      "peri peri chicken satay                         0.0000            0.055632   \n",
      "steam bunny chicken bao                         0.0000            0.089359   \n",
      "green lentil dessert fudge                      1.0000            0.133500   \n",
      "cashew nut cookies                              0.1335            1.000000   \n",
      "christmas tree pizza                            0.0000            0.000000   \n",
      "\n",
      "name                        christmas tree pizza  moong dal kiwi coconut soup  \\\n",
      "name                                                                            \n",
      "peri peri chicken satay                 0.017025                     0.083053   \n",
      "steam bunny chicken bao                 0.005378                     0.028752   \n",
      "green lentil dessert fudge              0.000000                     0.100788   \n",
      "cashew nut cookies                      0.000000                     0.051878   \n",
      "christmas tree pizza                    1.000000                     0.016380   \n",
      "\n",
      "name                        chicken nimbu dhaniya shorba  carrot ginger soup  \\\n",
      "name                                                                           \n",
      "peri peri chicken satay                         0.190468            0.071337   \n",
      "steam bunny chicken bao                         0.079788            0.020051   \n",
      "green lentil dessert fudge                      0.000000            0.000000   \n",
      "cashew nut cookies                              0.066933            0.000000   \n",
      "christmas tree pizza                            0.008494            0.044888   \n",
      "\n",
      "name                        hot chocolate  chicken and mushroom lasagna  ...  \\\n",
      "name                                                                     ...   \n",
      "peri peri chicken satay          0.016524                      0.084167  ...   \n",
      "steam bunny chicken bao          0.073415                      0.092152  ...   \n",
      "green lentil dessert fudge       0.050735                      0.027243  ...   \n",
      "cashew nut cookies               0.098377                      0.000000  ...   \n",
      "christmas tree pizza             0.000000                      0.120451  ...   \n",
      "\n",
      "name                        restaurant style fried chicken  \\\n",
      "name                                                         \n",
      "peri peri chicken satay                           0.127671   \n",
      "steam bunny chicken bao                           0.132537   \n",
      "green lentil dessert fudge                        0.000000   \n",
      "cashew nut cookies                                0.027541   \n",
      "christmas tree pizza                              0.118552   \n",
      "\n",
      "name                        chicken tikka masala  flattened rice / poha  \\\n",
      "name                                                                      \n",
      "peri peri chicken satay                 0.122082               0.000000   \n",
      "steam bunny chicken bao                 0.110834               0.037703   \n",
      "green lentil dessert fudge              0.000000               0.015549   \n",
      "cashew nut cookies                      0.054433               0.000000   \n",
      "christmas tree pizza                    0.000000               0.000000   \n",
      "\n",
      "name                        corn and raw mango salad  soya milk  \\\n",
      "name                                                              \n",
      "peri peri chicken satay                     0.052618   0.000000   \n",
      "steam bunny chicken bao                     0.036712   0.041739   \n",
      "green lentil dessert fudge                  0.000000   0.000000   \n",
      "cashew nut cookies                          0.005869   0.000000   \n",
      "christmas tree pizza                        0.013903   0.000000   \n",
      "\n",
      "name                        egg and cheddar cheese sandwich  \\\n",
      "name                                                          \n",
      "peri peri chicken satay                            0.076000   \n",
      "steam bunny chicken bao                            0.012162   \n",
      "green lentil dessert fudge                         0.000000   \n",
      "cashew nut cookies                                 0.000000   \n",
      "christmas tree pizza                               0.118109   \n",
      "\n",
      "name                        mustard-parmesan whole roasted cauliflower  \\\n",
      "name                                                                     \n",
      "peri peri chicken satay                                       0.060200   \n",
      "steam bunny chicken bao                                       0.015214   \n",
      "green lentil dessert fudge                                    0.135980   \n",
      "cashew nut cookies                                            0.000000   \n",
      "christmas tree pizza                                          0.098274   \n",
      "\n",
      "name                        buldak (hot and spicy chicken)  prawn fried rice  \\\n",
      "name                                                                           \n",
      "peri peri chicken satay                           0.074715          0.131203   \n",
      "steam bunny chicken bao                           0.213867          0.181625   \n",
      "green lentil dessert fudge                        0.000000          0.000000   \n",
      "cashew nut cookies                                0.021105          0.000000   \n",
      "christmas tree pizza                              0.036192          0.030732   \n",
      "\n",
      "name                        gluten free almond cake  \n",
      "name                                                 \n",
      "peri peri chicken satay                    0.019254  \n",
      "steam bunny chicken bao                    0.020709  \n",
      "green lentil dessert fudge                 0.000000  \n",
      "cashew nut cookies                         0.173966  \n",
      "christmas tree pizza                       0.007550  \n",
      "\n",
      "[5 rows x 309 columns]\n"
     ]
    }
   ],
   "source": [
    "# Membuat DataFrame dari matriks cosine similarity\n",
    "cosine_sim_df = pd.DataFrame(cosine_sim, index=foods['name'], columns=foods['name'])\n",
    "\n",
    "print(\"\\n=== Contoh Cosine Similarity Matrix ===\")\n",
    "print(cosine_sim_df.head())"
   ]
  },
  {
   "cell_type": "code",
   "execution_count": 26,
   "metadata": {},
   "outputs": [
    {
     "name": "stdout",
     "output_type": "stream",
     "text": [
      "name                        peri peri chicken satay  steam bunny chicken bao  \\\n",
      "name                                                                           \n",
      "peri peri chicken satay                    1.000000                 0.086751   \n",
      "steam bunny chicken bao                    0.086751                 1.000000   \n",
      "green lentil dessert fudge                 0.000000                 0.000000   \n",
      "cashew nut cookies                         0.055632                 0.089359   \n",
      "christmas tree pizza                       0.017025                 0.005378   \n",
      "\n",
      "name                        green lentil dessert fudge  cashew nut cookies  \\\n",
      "name                                                                         \n",
      "peri peri chicken satay                         0.0000            0.055632   \n",
      "steam bunny chicken bao                         0.0000            0.089359   \n",
      "green lentil dessert fudge                      1.0000            0.133500   \n",
      "cashew nut cookies                              0.1335            1.000000   \n",
      "christmas tree pizza                            0.0000            0.000000   \n",
      "\n",
      "name                        christmas tree pizza  moong dal kiwi coconut soup  \\\n",
      "name                                                                            \n",
      "peri peri chicken satay                 0.017025                     0.083053   \n",
      "steam bunny chicken bao                 0.005378                     0.028752   \n",
      "green lentil dessert fudge              0.000000                     0.100788   \n",
      "cashew nut cookies                      0.000000                     0.051878   \n",
      "christmas tree pizza                    1.000000                     0.016380   \n",
      "\n",
      "name                        chicken nimbu dhaniya shorba  carrot ginger soup  \\\n",
      "name                                                                           \n",
      "peri peri chicken satay                         0.190468            0.071337   \n",
      "steam bunny chicken bao                         0.079788            0.020051   \n",
      "green lentil dessert fudge                      0.000000            0.000000   \n",
      "cashew nut cookies                              0.066933            0.000000   \n",
      "christmas tree pizza                            0.008494            0.044888   \n",
      "\n",
      "name                        hot chocolate  chicken and mushroom lasagna  ...  \\\n",
      "name                                                                     ...   \n",
      "peri peri chicken satay          0.016524                      0.084167  ...   \n",
      "steam bunny chicken bao          0.073415                      0.092152  ...   \n",
      "green lentil dessert fudge       0.050735                      0.027243  ...   \n",
      "cashew nut cookies               0.098377                      0.000000  ...   \n",
      "christmas tree pizza             0.000000                      0.120451  ...   \n",
      "\n",
      "name                        restaurant style fried chicken  \\\n",
      "name                                                         \n",
      "peri peri chicken satay                           0.127671   \n",
      "steam bunny chicken bao                           0.132537   \n",
      "green lentil dessert fudge                        0.000000   \n",
      "cashew nut cookies                                0.027541   \n",
      "christmas tree pizza                              0.118552   \n",
      "\n",
      "name                        chicken tikka masala  flattened rice / poha  \\\n",
      "name                                                                      \n",
      "peri peri chicken satay                 0.122082               0.000000   \n",
      "steam bunny chicken bao                 0.110834               0.037703   \n",
      "green lentil dessert fudge              0.000000               0.015549   \n",
      "cashew nut cookies                      0.054433               0.000000   \n",
      "christmas tree pizza                    0.000000               0.000000   \n",
      "\n",
      "name                        corn and raw mango salad  soya milk  \\\n",
      "name                                                              \n",
      "peri peri chicken satay                     0.052618   0.000000   \n",
      "steam bunny chicken bao                     0.036712   0.041739   \n",
      "green lentil dessert fudge                  0.000000   0.000000   \n",
      "cashew nut cookies                          0.005869   0.000000   \n",
      "christmas tree pizza                        0.013903   0.000000   \n",
      "\n",
      "name                        egg and cheddar cheese sandwich  \\\n",
      "name                                                          \n",
      "peri peri chicken satay                            0.076000   \n",
      "steam bunny chicken bao                            0.012162   \n",
      "green lentil dessert fudge                         0.000000   \n",
      "cashew nut cookies                                 0.000000   \n",
      "christmas tree pizza                               0.118109   \n",
      "\n",
      "name                        mustard-parmesan whole roasted cauliflower  \\\n",
      "name                                                                     \n",
      "peri peri chicken satay                                       0.060200   \n",
      "steam bunny chicken bao                                       0.015214   \n",
      "green lentil dessert fudge                                    0.135980   \n",
      "cashew nut cookies                                            0.000000   \n",
      "christmas tree pizza                                          0.098274   \n",
      "\n",
      "name                        buldak (hot and spicy chicken)  prawn fried rice  \\\n",
      "name                                                                           \n",
      "peri peri chicken satay                           0.074715          0.131203   \n",
      "steam bunny chicken bao                           0.213867          0.181625   \n",
      "green lentil dessert fudge                        0.000000          0.000000   \n",
      "cashew nut cookies                                0.021105          0.000000   \n",
      "christmas tree pizza                              0.036192          0.030732   \n",
      "\n",
      "name                        gluten free almond cake  \n",
      "name                                                 \n",
      "peri peri chicken satay                    0.019254  \n",
      "steam bunny chicken bao                    0.020709  \n",
      "green lentil dessert fudge                 0.000000  \n",
      "cashew nut cookies                         0.173966  \n",
      "christmas tree pizza                       0.007550  \n",
      "\n",
      "[5 rows x 309 columns] \n",
      "\n"
     ]
    }
   ],
   "source": [
    "# print(\"=== Cosine Similarity Matrix ===\")\n",
    "print(cosine_sim_df.head(), \"\\n\")\n"
   ]
  },
  {
   "cell_type": "code",
   "execution_count": 27,
   "metadata": {},
   "outputs": [
    {
     "name": "stdout",
     "output_type": "stream",
     "text": [
      "name                                                seared salmon in tabasco butter  \\\n",
      "name                                                                                  \n",
      "chicken parmigiana with tomato sauce                                       0.061368   \n",
      "risotto lobster with parmesan egg pancake, conf...                         0.092502   \n",
      "chicken tenders                                                            0.034966   \n",
      "\n",
      "name                                                jalapeno cheese fingers  \\\n",
      "name                                                                          \n",
      "chicken parmigiana with tomato sauce                               0.080735   \n",
      "risotto lobster with parmesan egg pancake, conf...                 0.022494   \n",
      "chicken tenders                                                    0.020627   \n",
      "\n",
      "name                                                gajar tart  \n",
      "name                                                            \n",
      "chicken parmigiana with tomato sauce                  0.049306  \n",
      "risotto lobster with parmesan egg pancake, conf...    0.041837  \n",
      "chicken tenders                                       0.057235   \n",
      "\n"
     ]
    }
   ],
   "source": [
    "# Melihat similarity matrix pada setiap genre atau nama\n",
    "print(cosine_sim_df.sample(3, axis=1).sample(3, axis=0), \"\\n\")"
   ]
  },
  {
   "cell_type": "markdown",
   "metadata": {},
   "source": [
    "# 4. Modelling Content Based Filtering dan Collaborative Filtering"
   ]
  },
  {
   "cell_type": "markdown",
   "metadata": {},
   "source": [
    "## 4.1 Modelling Content Based Filtering (CBF)"
   ]
  },
  {
   "cell_type": "code",
   "execution_count": null,
   "metadata": {},
   "outputs": [],
   "source": [
    "\n",
    "def food_recommendations(input_value, similarity_data=cosine_sim_df, items=foods[['name', 'c_type', 'veg_non']], k=4):\n",
    "    input_value = input_value.strip().lower()\n",
    "\n",
    "    # Jika input_value ada sebagai nama makanan dalam similarity_data\n",
    "    matching_items = [name for name in similarity_data.columns if input_value in name.lower()]\n",
    "    \n",
    "    if matching_items:\n",
    "        closest_df = pd.DataFrame({'name': matching_items})\n",
    "        return closest_df.merge(items, on='name').head(k)\n",
    "    \n",
    "    # Jika input_value adalah C_Type yang ada dalam dataset\n",
    "    elif any(input_value in ctype.lower() for ctype in items['c_type'].unique()):\n",
    "        filtered_items = items[items['c_type'].str.contains(input_value, case=False, na=False)]\n",
    "        return filtered_items.head(k)\n",
    "    \n",
    "    else:\n",
    "        return f\"Tidak ada rekomendasi untuk '{input_value}'.\""
   ]
  },
  {
   "cell_type": "markdown",
   "metadata": {},
   "source": [
    "Fungsi **`food_recommendations`** memberikan rekomendasi makanan berdasarkan input pengguna. Jika pengguna memasukkan nama makanan, fungsi mencari makanan yang namanya mirip. Jika tidak ada, fungsi akan mencari berdasarkan jenis makanan (misalnya, \"healthy food\"). Jika input tidak cocok dengan nama atau jenis makanan apapun, fungsi memberikan daftar beberapa makanan atau jenis makanan yang tersedia sebagai alternatif. Hanya `k` rekomendasi teratas yang ditampilkan."
   ]
  },
  {
   "cell_type": "markdown",
   "metadata": {},
   "source": [
    "### 4.1.1 Penggunaan Content Based Filtering (CBF)"
   ]
  },
  {
   "cell_type": "code",
   "execution_count": 34,
   "metadata": {},
   "outputs": [
    {
     "name": "stdout",
     "output_type": "stream",
     "text": [
      "\n",
      "Selamat datang di sistem rekomendasi makanan!\n",
      "\n",
      "=== Hasil Rekomendasi dari 'japanese' ===\n",
      "name                                      c_type   veg_non\n",
      "japanese curry arancini with barley salsa japanese     veg\n",
      "                       japanese fish stew japanese non-veg\n",
      "\n",
      "=== Hasil Rekomendasi dari 'pizza' ===\n",
      "name                 c_type  veg_non\n",
      "christmas tree pizza italian     veg\n",
      "       mexican pizza mexican     veg\n",
      "          filo pizza italian     veg\n",
      "    kuttu atta pizza italian     veg\n",
      "   meat lovers pizza italian non-veg\n",
      "     tricolour pizza italian     veg\n"
     ]
    }
   ],
   "source": [
    "print(\"\\nSelamat datang di sistem rekomendasi makanan!\")\n",
    "\n",
    "# Inisialisasi variabel evaluasi\n",
    "total_searches = 0\n",
    "total_recommendations = 0\n",
    "successful_recommendations = 0\n",
    "\n",
    "# Menyimpan data pencarian pengguna\n",
    "user_searches = []\n",
    "\n",
    "while True:\n",
    "    try:\n",
    "        total_searches = int(input(\"Masukkan jumlah pencarian yang Anda inginkan: \").strip())\n",
    "        if total_searches > 0:\n",
    "            break\n",
    "        else:\n",
    "            print(\"Jumlah pencarian harus lebih besar dari 0. Coba lagi.\")\n",
    "    except ValueError:\n",
    "        print(\"Input tidak valid. Masukkan angka yang valid.\")\n",
    "\n",
    "for _ in range(total_searches):\n",
    "    input_value = input(\"\\nMasukkan nama makanan atau jenis makanan yang Anda suka: \").strip()\n",
    "    user_searches.append(input_value)  # Catat input pengguna\n",
    "    result = food_recommendations(input_value, k=10)\n",
    "\n",
    "    print(f\"\\n=== Hasil Rekomendasi dari '{input_value}' ===\")\n",
    "    if isinstance(result, pd.DataFrame) and not result.empty:\n",
    "        print(result.to_string(index=False, justify='left'))\n",
    "        total_recommendations += len(result)\n",
    "        successful_recommendations += 1  # Hitung pencarian yang menghasilkan rekomendasi\n",
    "    else:\n",
    "        print(f\"Maaf, tidak ada rekomendasi yang ditemukan untuk '{input_value}'.\")\n"
   ]
  },
  {
   "cell_type": "code",
   "execution_count": 35,
   "metadata": {},
   "outputs": [
    {
     "name": "stdout",
     "output_type": "stream",
     "text": [
      "\n",
      "=== Evaluasi ===\n",
      "Pencarian pengguna:\n",
      "1. japanese\n",
      "2. pizza\n",
      "\n",
      "Total pencarian: 2\n",
      "Total rekomendasi: 8\n",
      "Pencarian dengan rekomendasi: 2\n",
      "Presisi: 25.00%\n",
      "Akurasi: 100.00%\n",
      "\n",
      "Terima kasih telah menggunakan sistem rekomendasi makanan!\n"
     ]
    }
   ],
   "source": [
    "# Hitung metrik evaluasi\n",
    "precision = successful_recommendations / total_recommendations if total_recommendations > 0 else 0\n",
    "accuracy = successful_recommendations / total_searches if total_searches > 0 else 0\n",
    "\n",
    "# Tampilkan hasil evaluasi\n",
    "print(\"\\n=== Evaluasi ===\")\n",
    "print(\"Pencarian pengguna:\")\n",
    "for idx, search in enumerate(user_searches, start=1):\n",
    "    print(f\"{idx}. {search}\")\n",
    "print(f\"\\nTotal pencarian: {total_searches}\")\n",
    "print(f\"Total rekomendasi: {total_recommendations}\")\n",
    "print(f\"Pencarian dengan rekomendasi: {successful_recommendations}\")\n",
    "print(f\"Presisi: {precision:.2%}\")\n",
    "print(f\"Akurasi: {accuracy:.2%}\")\n",
    "print(\"\\nTerima kasih telah menggunakan sistem rekomendasi makanan!\")"
   ]
  },
  {
   "cell_type": "markdown",
   "metadata": {},
   "source": [
    "Program ini mengizinkan pengguna untuk melakukan pencarian beberapa kali dan mendapatkan rekomendasi makanan berdasarkan input yang diberikan. Input yang tidak valid akan terus diproses ulang hingga benar. Setelah pencarian selesai, hasilnya ditampilkan dalam format yang mudah dibaca."
   ]
  },
  {
   "cell_type": "markdown",
   "metadata": {},
   "source": [
    "## 4.2 Modelling Collaborative Filtering"
   ]
  },
  {
   "cell_type": "code",
   "execution_count": 36,
   "metadata": {},
   "outputs": [],
   "source": [
    "# Import library\n",
    "import pandas as pd\n",
    "import numpy as np\n",
    "import tensorflow as tf\n",
    "from tensorflow.keras import layers, regularizers\n",
    "import matplotlib.pyplot as plt"
   ]
  },
  {
   "cell_type": "code",
   "execution_count": 37,
   "metadata": {},
   "outputs": [
    {
     "data": {
      "text/html": [
       "<div>\n",
       "<style scoped>\n",
       "    .dataframe tbody tr th:only-of-type {\n",
       "        vertical-align: middle;\n",
       "    }\n",
       "\n",
       "    .dataframe tbody tr th {\n",
       "        vertical-align: top;\n",
       "    }\n",
       "\n",
       "    .dataframe thead th {\n",
       "        text-align: right;\n",
       "    }\n",
       "</style>\n",
       "<table border=\"1\" class=\"dataframe\">\n",
       "  <thead>\n",
       "    <tr style=\"text-align: right;\">\n",
       "      <th></th>\n",
       "      <th>user_id</th>\n",
       "      <th>food_id</th>\n",
       "      <th>rating</th>\n",
       "    </tr>\n",
       "  </thead>\n",
       "  <tbody>\n",
       "    <tr>\n",
       "      <th>0</th>\n",
       "      <td>1.0</td>\n",
       "      <td>88.0</td>\n",
       "      <td>4.0</td>\n",
       "    </tr>\n",
       "    <tr>\n",
       "      <th>1</th>\n",
       "      <td>1.0</td>\n",
       "      <td>46.0</td>\n",
       "      <td>3.0</td>\n",
       "    </tr>\n",
       "    <tr>\n",
       "      <th>2</th>\n",
       "      <td>1.0</td>\n",
       "      <td>24.0</td>\n",
       "      <td>5.0</td>\n",
       "    </tr>\n",
       "    <tr>\n",
       "      <th>3</th>\n",
       "      <td>1.0</td>\n",
       "      <td>25.0</td>\n",
       "      <td>4.0</td>\n",
       "    </tr>\n",
       "    <tr>\n",
       "      <th>4</th>\n",
       "      <td>2.0</td>\n",
       "      <td>49.0</td>\n",
       "      <td>1.0</td>\n",
       "    </tr>\n",
       "    <tr>\n",
       "      <th>...</th>\n",
       "      <td>...</td>\n",
       "      <td>...</td>\n",
       "      <td>...</td>\n",
       "    </tr>\n",
       "    <tr>\n",
       "      <th>507</th>\n",
       "      <td>99.0</td>\n",
       "      <td>22.0</td>\n",
       "      <td>1.0</td>\n",
       "    </tr>\n",
       "    <tr>\n",
       "      <th>508</th>\n",
       "      <td>100.0</td>\n",
       "      <td>24.0</td>\n",
       "      <td>10.0</td>\n",
       "    </tr>\n",
       "    <tr>\n",
       "      <th>509</th>\n",
       "      <td>100.0</td>\n",
       "      <td>233.0</td>\n",
       "      <td>10.0</td>\n",
       "    </tr>\n",
       "    <tr>\n",
       "      <th>510</th>\n",
       "      <td>100.0</td>\n",
       "      <td>29.0</td>\n",
       "      <td>7.0</td>\n",
       "    </tr>\n",
       "    <tr>\n",
       "      <th>511</th>\n",
       "      <td>NaN</td>\n",
       "      <td>NaN</td>\n",
       "      <td>NaN</td>\n",
       "    </tr>\n",
       "  </tbody>\n",
       "</table>\n",
       "<p>512 rows × 3 columns</p>\n",
       "</div>"
      ],
      "text/plain": [
       "     user_id  food_id  rating\n",
       "0        1.0     88.0     4.0\n",
       "1        1.0     46.0     3.0\n",
       "2        1.0     24.0     5.0\n",
       "3        1.0     25.0     4.0\n",
       "4        2.0     49.0     1.0\n",
       "..       ...      ...     ...\n",
       "507     99.0     22.0     1.0\n",
       "508    100.0     24.0    10.0\n",
       "509    100.0    233.0    10.0\n",
       "510    100.0     29.0     7.0\n",
       "511      NaN      NaN     NaN\n",
       "\n",
       "[512 rows x 3 columns]"
      ]
     },
     "execution_count": 37,
     "metadata": {},
     "output_type": "execute_result"
    }
   ],
   "source": [
    "# Membaca dataset\n",
    "df = rating\n",
    "df"
   ]
  },
  {
   "cell_type": "markdown",
   "metadata": {},
   "source": [
    "### 4.2.1 Preprocessing Dataset"
   ]
  },
  {
   "cell_type": "markdown",
   "metadata": {},
   "source": [
    "**Preprocessing Dataset**:\n",
    "Di bagian ini, dataset `rating` dipersiapkan untuk digunakan dalam model. Data yang hilang dihapus dengan fungsi `.dropna()`, dan kolom-kolomnya diubah menjadi huruf kecil menggunakan `.str.lower()`. Selanjutnya, ID pengguna dan ID makanan dikodekan menjadi angka dengan menggunakan fungsi `map()` untuk memetakan setiap ID ke nilai numerik yang unik, yang memungkinkan model untuk memahami input dalam bentuk numerik."
   ]
  },
  {
   "cell_type": "code",
   "execution_count": 38,
   "metadata": {},
   "outputs": [
    {
     "data": {
      "text/plain": [
       "user_id    1\n",
       "food_id    1\n",
       "rating     1\n",
       "dtype: int64"
      ]
     },
     "execution_count": 38,
     "metadata": {},
     "output_type": "execute_result"
    }
   ],
   "source": [
    "#Cek missing value\n",
    "df.isnull().sum()\n"
   ]
  },
  {
   "cell_type": "code",
   "execution_count": 39,
   "metadata": {},
   "outputs": [],
   "source": [
    "# Menghapus nilai null\n",
    "df = df.dropna()\n"
   ]
  },
  {
   "cell_type": "code",
   "execution_count": 40,
   "metadata": {},
   "outputs": [
    {
     "name": "stdout",
     "output_type": "stream",
     "text": [
      "\n",
      "Jumlah missing value pada dataset:\n"
     ]
    },
    {
     "data": {
      "text/plain": [
       "user_id    0\n",
       "food_id    0\n",
       "rating     0\n",
       "dtype: int64"
      ]
     },
     "execution_count": 40,
     "metadata": {},
     "output_type": "execute_result"
    }
   ],
   "source": [
    "# Cek missing value\n",
    "print(\"\\nJumlah missing value pada dataset:\")\n",
    "df.isnull().sum()"
   ]
  },
  {
   "cell_type": "code",
   "execution_count": 41,
   "metadata": {},
   "outputs": [
    {
     "name": "stderr",
     "output_type": "stream",
     "text": [
      "/tmp/ipykernel_8634/2605581458.py:10: SettingWithCopyWarning: \n",
      "A value is trying to be set on a copy of a slice from a DataFrame.\n",
      "Try using .loc[row_indexer,col_indexer] = value instead\n",
      "\n",
      "See the caveats in the documentation: https://pandas.pydata.org/pandas-docs/stable/user_guide/indexing.html#returning-a-view-versus-a-copy\n",
      "  df['user'] = df['user_id'].map(user_to_user_encoded)\n",
      "/tmp/ipykernel_8634/2605581458.py:11: SettingWithCopyWarning: \n",
      "A value is trying to be set on a copy of a slice from a DataFrame.\n",
      "Try using .loc[row_indexer,col_indexer] = value instead\n",
      "\n",
      "See the caveats in the documentation: https://pandas.pydata.org/pandas-docs/stable/user_guide/indexing.html#returning-a-view-versus-a-copy\n",
      "  df['food'] = df['food_id'].map(food_to_food_encoded)\n"
     ]
    }
   ],
   "source": [
    "# Encoding user_id dan food_id\n",
    "user_ids = df['user_id'].unique().tolist()\n",
    "user_to_user_encoded = {x: i for i, x in enumerate(user_ids)}\n",
    "user_encoded_to_user = {i: x for i, x in enumerate(user_ids)}\n",
    "\n",
    "food_ids = df['food_id'].unique().tolist()\n",
    "food_to_food_encoded = {x: i for i, x in enumerate(food_ids)}\n",
    "food_encoded_to_food = {i: x for i, x in enumerate(food_ids)}\n",
    "\n",
    "df['user'] = df['user_id'].map(user_to_user_encoded)\n",
    "df['food'] = df['food_id'].map(food_to_food_encoded)\n"
   ]
  },
  {
   "cell_type": "markdown",
   "metadata": {},
   "source": [
    "### 4.2.2 Statistik Dataset"
   ]
  },
  {
   "cell_type": "markdown",
   "metadata": {},
   "source": [
    "**Statistik Dataset**:\n",
    "Pada bagian ini, dilakukan perhitungan dasar tentang dataset, termasuk jumlah pengguna (`num_users`), jumlah makanan (`num_food`), serta nilai rating terendah dan tertinggi (`min_rating`, `max_rating`). Statistik ini memberikan gambaran umum tentang ukuran dan rentang rating dalam dataset yang akan digunakan untuk pelatihan model."
   ]
  },
  {
   "cell_type": "code",
   "execution_count": 42,
   "metadata": {},
   "outputs": [
    {
     "name": "stdout",
     "output_type": "stream",
     "text": [
      "Number of Users: 100, Number of Foods: 309, Min Rating: 1.0, Max Rating: 10.0\n"
     ]
    },
    {
     "name": "stderr",
     "output_type": "stream",
     "text": [
      "/tmp/ipykernel_8634/1220126829.py:4: SettingWithCopyWarning: \n",
      "A value is trying to be set on a copy of a slice from a DataFrame.\n",
      "Try using .loc[row_indexer,col_indexer] = value instead\n",
      "\n",
      "See the caveats in the documentation: https://pandas.pydata.org/pandas-docs/stable/user_guide/indexing.html#returning-a-view-versus-a-copy\n",
      "  df['rating'] = df['rating'].values.astype(np.float32)\n"
     ]
    }
   ],
   "source": [
    "# Statistik dataset\n",
    "num_users = len(user_to_user_encoded)\n",
    "num_food = len(food_to_food_encoded)\n",
    "df['rating'] = df['rating'].values.astype(np.float32)\n",
    "min_rating, max_rating = df['rating'].min(), df['rating'].max()\n",
    "\n",
    "print(f'Number of Users: {num_users}, Number of Foods: {num_food}, '\n",
    "      f'Min Rating: {min_rating}, Max Rating: {max_rating}')\n"
   ]
  },
  {
   "cell_type": "markdown",
   "metadata": {},
   "source": [
    "### 4.2.3 Split Data"
   ]
  },
  {
   "cell_type": "markdown",
   "metadata": {},
   "source": [
    "**Pembagian Data**:\n",
    "Di sini, dataset diacak dengan fungsi `.sample()` untuk memastikan bahwa model tidak akan terpapar pada urutan data yang spesifik. Data kemudian dibagi menjadi dua bagian: 80% untuk data latih dan 20% untuk data validasi. Selain itu, rating dinormalisasi ke dalam rentang [0, 1] agar lebih mudah diproses oleh model, dengan menggunakan rumus normalisasi `(x - min_rating) / (max_rating - min_rating)`.\n"
   ]
  },
  {
   "cell_type": "code",
   "execution_count": 43,
   "metadata": {},
   "outputs": [
    {
     "data": {
      "text/html": [
       "<div>\n",
       "<style scoped>\n",
       "    .dataframe tbody tr th:only-of-type {\n",
       "        vertical-align: middle;\n",
       "    }\n",
       "\n",
       "    .dataframe tbody tr th {\n",
       "        vertical-align: top;\n",
       "    }\n",
       "\n",
       "    .dataframe thead th {\n",
       "        text-align: right;\n",
       "    }\n",
       "</style>\n",
       "<table border=\"1\" class=\"dataframe\">\n",
       "  <thead>\n",
       "    <tr style=\"text-align: right;\">\n",
       "      <th></th>\n",
       "      <th>user_id</th>\n",
       "      <th>food_id</th>\n",
       "      <th>rating</th>\n",
       "      <th>user</th>\n",
       "      <th>food</th>\n",
       "    </tr>\n",
       "  </thead>\n",
       "  <tbody>\n",
       "    <tr>\n",
       "      <th>124</th>\n",
       "      <td>24.0</td>\n",
       "      <td>51.0</td>\n",
       "      <td>5.0</td>\n",
       "      <td>23</td>\n",
       "      <td>67</td>\n",
       "    </tr>\n",
       "    <tr>\n",
       "      <th>84</th>\n",
       "      <td>16.0</td>\n",
       "      <td>243.0</td>\n",
       "      <td>3.0</td>\n",
       "      <td>15</td>\n",
       "      <td>78</td>\n",
       "    </tr>\n",
       "    <tr>\n",
       "      <th>433</th>\n",
       "      <td>83.0</td>\n",
       "      <td>79.0</td>\n",
       "      <td>1.0</td>\n",
       "      <td>82</td>\n",
       "      <td>282</td>\n",
       "    </tr>\n",
       "    <tr>\n",
       "      <th>255</th>\n",
       "      <td>49.0</td>\n",
       "      <td>77.0</td>\n",
       "      <td>10.0</td>\n",
       "      <td>48</td>\n",
       "      <td>191</td>\n",
       "    </tr>\n",
       "    <tr>\n",
       "      <th>68</th>\n",
       "      <td>13.0</td>\n",
       "      <td>74.0</td>\n",
       "      <td>8.0</td>\n",
       "      <td>12</td>\n",
       "      <td>64</td>\n",
       "    </tr>\n",
       "    <tr>\n",
       "      <th>...</th>\n",
       "      <td>...</td>\n",
       "      <td>...</td>\n",
       "      <td>...</td>\n",
       "      <td>...</td>\n",
       "      <td>...</td>\n",
       "    </tr>\n",
       "    <tr>\n",
       "      <th>106</th>\n",
       "      <td>19.0</td>\n",
       "      <td>84.0</td>\n",
       "      <td>10.0</td>\n",
       "      <td>18</td>\n",
       "      <td>97</td>\n",
       "    </tr>\n",
       "    <tr>\n",
       "      <th>270</th>\n",
       "      <td>51.0</td>\n",
       "      <td>151.0</td>\n",
       "      <td>10.0</td>\n",
       "      <td>50</td>\n",
       "      <td>200</td>\n",
       "    </tr>\n",
       "    <tr>\n",
       "      <th>348</th>\n",
       "      <td>67.0</td>\n",
       "      <td>146.0</td>\n",
       "      <td>7.0</td>\n",
       "      <td>66</td>\n",
       "      <td>209</td>\n",
       "    </tr>\n",
       "    <tr>\n",
       "      <th>435</th>\n",
       "      <td>84.0</td>\n",
       "      <td>253.0</td>\n",
       "      <td>8.0</td>\n",
       "      <td>83</td>\n",
       "      <td>283</td>\n",
       "    </tr>\n",
       "    <tr>\n",
       "      <th>102</th>\n",
       "      <td>19.0</td>\n",
       "      <td>9.0</td>\n",
       "      <td>9.0</td>\n",
       "      <td>18</td>\n",
       "      <td>93</td>\n",
       "    </tr>\n",
       "  </tbody>\n",
       "</table>\n",
       "<p>511 rows × 5 columns</p>\n",
       "</div>"
      ],
      "text/plain": [
       "     user_id  food_id  rating  user  food\n",
       "124     24.0     51.0     5.0    23    67\n",
       "84      16.0    243.0     3.0    15    78\n",
       "433     83.0     79.0     1.0    82   282\n",
       "255     49.0     77.0    10.0    48   191\n",
       "68      13.0     74.0     8.0    12    64\n",
       "..       ...      ...     ...   ...   ...\n",
       "106     19.0     84.0    10.0    18    97\n",
       "270     51.0    151.0    10.0    50   200\n",
       "348     67.0    146.0     7.0    66   209\n",
       "435     84.0    253.0     8.0    83   283\n",
       "102     19.0      9.0     9.0    18    93\n",
       "\n",
       "[511 rows x 5 columns]"
      ]
     },
     "execution_count": 43,
     "metadata": {},
     "output_type": "execute_result"
    }
   ],
   "source": [
    "# Mengacak dataset\n",
    "df = df.sample(frac=1, random_state=42)\n",
    "df"
   ]
  },
  {
   "cell_type": "code",
   "execution_count": 44,
   "metadata": {},
   "outputs": [],
   "source": [
    "# Split dataset\n",
    "df = df.sample(frac=1, random_state=42)  # Mengacak dataset\n",
    "x = df[['user', 'food']].values\n",
    "y = df['rating'].apply(lambda x: (x - min_rating) / (max_rating - min_rating)).values  # Normalisasi rating\n"
   ]
  },
  {
   "cell_type": "code",
   "execution_count": 45,
   "metadata": {},
   "outputs": [],
   "source": [
    "# Membagi data menjadi data latih (80%) dan validasi (20%)\n",
    "train_indices = int(0.8 * df.shape[0])\n",
    "x_train, x_val, y_train, y_val = (\n",
    "    x[:train_indices], x[train_indices:], y[:train_indices], y[train_indices:]\n",
    ")\n"
   ]
  },
  {
   "cell_type": "markdown",
   "metadata": {},
   "source": [
    "### 4.2.4 Modelling"
   ]
  },
  {
   "cell_type": "markdown",
   "metadata": {},
   "source": [
    "Model rekomendasi RecommenderNet dibangun dengan arsitektur neural network yang menggunakan embedding layers untuk pengguna dan makanan, yang memetakan ID ke dalam ruang vektor berdimensi rendah, memungkinkan model menangkap hubungan antara keduanya. Model ini juga menggunakan bias layers untuk menangkap efek bias dari pengguna dan makanan, serta aktivasi sigmoid pada output untuk memprediksi rating dalam rentang [0, 1]. Model kemudian dikompilasi dengan loss function **BinaryCrossentropy** dan optimizer **Adam** untuk mengoptimalkan bobot model. **EarlyStopping** diterapkan untuk menghentikan pelatihan jika tidak ada peningkatan dalam metrik **RMSE** pada data validasi, mencegah overfitting dan menghemat waktu pelatihan."
   ]
  },
  {
   "cell_type": "code",
   "execution_count": 46,
   "metadata": {},
   "outputs": [],
   "source": [
    "# Membuat Model RecommenderNet\n",
    "class RecommenderNet(tf.keras.Model):\n",
    "    def __init__(self, num_users, num_food, embedding_size=50, **kwargs):\n",
    "        super(RecommenderNet, self).__init__(**kwargs)\n",
    "        self.user_embedding = layers.Embedding(\n",
    "            num_users, embedding_size, embeddings_initializer=\"he_normal\",\n",
    "            embeddings_regularizer=regularizers.l2(1e-6)\n",
    "        )\n",
    "        self.user_bias = layers.Embedding(num_users, 1)\n",
    "        self.food_embedding = layers.Embedding(\n",
    "            num_food, embedding_size, embeddings_initializer=\"he_normal\",\n",
    "            embeddings_regularizer=regularizers.l2(1e-6)\n",
    "        )\n",
    "        self.food_bias = layers.Embedding(num_food, 1)\n",
    "\n",
    "    def call(self, inputs):\n",
    "        user_vector = self.user_embedding(inputs[:, 0])\n",
    "        user_bias = self.user_bias(inputs[:, 0])\n",
    "        food_vector = self.food_embedding(inputs[:, 1])\n",
    "        food_bias = self.food_bias(inputs[:, 1])\n",
    "        dot_product = tf.tensordot(user_vector, food_vector, axes=2)\n",
    "        x = dot_product + user_bias + food_bias\n",
    "        return tf.nn.sigmoid(x)"
   ]
  },
  {
   "cell_type": "code",
   "execution_count": 51,
   "metadata": {},
   "outputs": [],
   "source": [
    "model = RecommenderNet(num_users, num_food)\n",
    "\n",
    "# Compile model\n",
    "model.compile(\n",
    "    loss=tf.keras.losses.BinaryCrossentropy(),\n",
    "    optimizer=tf.keras.optimizers.Adam(learning_rate=0.001),\n",
    "    metrics=[tf.keras.metrics.RootMeanSquaredError()]\n",
    ")\n"
   ]
  },
  {
   "cell_type": "code",
   "execution_count": 52,
   "metadata": {},
   "outputs": [
    {
     "name": "stdout",
     "output_type": "stream",
     "text": [
      "Epoch 1/100\n",
      "\u001b[1m51/51\u001b[0m \u001b[32m━━━━━━━━━━━━━━━━━━━━\u001b[0m\u001b[37m\u001b[0m \u001b[1m1s\u001b[0m 10ms/step - loss: 0.7016 - root_mean_squared_error: 0.3291 - val_loss: 0.6989 - val_root_mean_squared_error: 0.3282\n",
      "Epoch 2/100\n",
      "\u001b[1m51/51\u001b[0m \u001b[32m━━━━━━━━━━━━━━━━━━━━\u001b[0m\u001b[37m\u001b[0m \u001b[1m0s\u001b[0m 1ms/step - loss: 0.6998 - root_mean_squared_error: 0.3264 - val_loss: 0.6980 - val_root_mean_squared_error: 0.3276\n",
      "Epoch 3/100\n",
      "\u001b[1m51/51\u001b[0m \u001b[32m━━━━━━━━━━━━━━━━━━━━\u001b[0m\u001b[37m\u001b[0m \u001b[1m0s\u001b[0m 1ms/step - loss: 0.6944 - root_mean_squared_error: 0.3177 - val_loss: 0.6984 - val_root_mean_squared_error: 0.3279\n",
      "Epoch 4/100\n",
      "\u001b[1m51/51\u001b[0m \u001b[32m━━━━━━━━━━━━━━━━━━━━\u001b[0m\u001b[37m\u001b[0m \u001b[1m0s\u001b[0m 1ms/step - loss: 0.6822 - root_mean_squared_error: 0.3094 - val_loss: 0.6978 - val_root_mean_squared_error: 0.3274\n",
      "Epoch 5/100\n",
      "\u001b[1m51/51\u001b[0m \u001b[32m━━━━━━━━━━━━━━━━━━━━\u001b[0m\u001b[37m\u001b[0m \u001b[1m0s\u001b[0m 1ms/step - loss: 0.6817 - root_mean_squared_error: 0.3064 - val_loss: 0.6981 - val_root_mean_squared_error: 0.3276\n",
      "Epoch 6/100\n",
      "\u001b[1m51/51\u001b[0m \u001b[32m━━━━━━━━━━━━━━━━━━━━\u001b[0m\u001b[37m\u001b[0m \u001b[1m0s\u001b[0m 1ms/step - loss: 0.6737 - root_mean_squared_error: 0.2975 - val_loss: 0.6987 - val_root_mean_squared_error: 0.3281\n",
      "Epoch 7/100\n",
      "\u001b[1m51/51\u001b[0m \u001b[32m━━━━━━━━━━━━━━━━━━━━\u001b[0m\u001b[37m\u001b[0m \u001b[1m0s\u001b[0m 1ms/step - loss: 0.6707 - root_mean_squared_error: 0.2912 - val_loss: 0.6992 - val_root_mean_squared_error: 0.3285\n",
      "Epoch 8/100\n",
      "\u001b[1m51/51\u001b[0m \u001b[32m━━━━━━━━━━━━━━━━━━━━\u001b[0m\u001b[37m\u001b[0m \u001b[1m0s\u001b[0m 1ms/step - loss: 0.6623 - root_mean_squared_error: 0.2761 - val_loss: 0.6995 - val_root_mean_squared_error: 0.3286\n",
      "Epoch 9/100\n",
      "\u001b[1m51/51\u001b[0m \u001b[32m━━━━━━━━━━━━━━━━━━━━\u001b[0m\u001b[37m\u001b[0m \u001b[1m0s\u001b[0m 1ms/step - loss: 0.6636 - root_mean_squared_error: 0.2960 - val_loss: 0.6989 - val_root_mean_squared_error: 0.3282\n",
      "Epoch 10/100\n",
      "\u001b[1m51/51\u001b[0m \u001b[32m━━━━━━━━━━━━━━━━━━━━\u001b[0m\u001b[37m\u001b[0m \u001b[1m0s\u001b[0m 1ms/step - loss: 0.6620 - root_mean_squared_error: 0.2934 - val_loss: 0.6994 - val_root_mean_squared_error: 0.3286\n",
      "Epoch 11/100\n",
      "\u001b[1m51/51\u001b[0m \u001b[32m━━━━━━━━━━━━━━━━━━━━\u001b[0m\u001b[37m\u001b[0m \u001b[1m0s\u001b[0m 1ms/step - loss: 0.6555 - root_mean_squared_error: 0.2860 - val_loss: 0.7002 - val_root_mean_squared_error: 0.3292\n",
      "Epoch 12/100\n",
      "\u001b[1m51/51\u001b[0m \u001b[32m━━━━━━━━━━━━━━━━━━━━\u001b[0m\u001b[37m\u001b[0m \u001b[1m0s\u001b[0m 1ms/step - loss: 0.6525 - root_mean_squared_error: 0.2832 - val_loss: 0.7003 - val_root_mean_squared_error: 0.3292\n",
      "Epoch 13/100\n",
      "\u001b[1m51/51\u001b[0m \u001b[32m━━━━━━━━━━━━━━━━━━━━\u001b[0m\u001b[37m\u001b[0m \u001b[1m0s\u001b[0m 1ms/step - loss: 0.6535 - root_mean_squared_error: 0.2701 - val_loss: 0.7005 - val_root_mean_squared_error: 0.3294\n",
      "Epoch 14/100\n",
      "\u001b[1m51/51\u001b[0m \u001b[32m━━━━━━━━━━━━━━━━━━━━\u001b[0m\u001b[37m\u001b[0m \u001b[1m0s\u001b[0m 1ms/step - loss: 0.6501 - root_mean_squared_error: 0.2812 - val_loss: 0.7002 - val_root_mean_squared_error: 0.3292\n",
      "Epoch 15/100\n",
      "\u001b[1m51/51\u001b[0m \u001b[32m━━━━━━━━━━━━━━━━━━━━\u001b[0m\u001b[37m\u001b[0m \u001b[1m0s\u001b[0m 1ms/step - loss: 0.6473 - root_mean_squared_error: 0.2830 - val_loss: 0.7003 - val_root_mean_squared_error: 0.3293\n",
      "Epoch 16/100\n",
      "\u001b[1m51/51\u001b[0m \u001b[32m━━━━━━━━━━━━━━━━━━━━\u001b[0m\u001b[37m\u001b[0m \u001b[1m0s\u001b[0m 1ms/step - loss: 0.6357 - root_mean_squared_error: 0.2744 - val_loss: 0.7003 - val_root_mean_squared_error: 0.3292\n",
      "Epoch 17/100\n",
      "\u001b[1m51/51\u001b[0m \u001b[32m━━━━━━━━━━━━━━━━━━━━\u001b[0m\u001b[37m\u001b[0m \u001b[1m0s\u001b[0m 1ms/step - loss: 0.6432 - root_mean_squared_error: 0.2713 - val_loss: 0.7000 - val_root_mean_squared_error: 0.3291\n",
      "Epoch 18/100\n",
      "\u001b[1m51/51\u001b[0m \u001b[32m━━━━━━━━━━━━━━━━━━━━\u001b[0m\u001b[37m\u001b[0m \u001b[1m0s\u001b[0m 1ms/step - loss: 0.6296 - root_mean_squared_error: 0.2725 - val_loss: 0.6998 - val_root_mean_squared_error: 0.3289\n",
      "Epoch 19/100\n",
      "\u001b[1m51/51\u001b[0m \u001b[32m━━━━━━━━━━━━━━━━━━━━\u001b[0m\u001b[37m\u001b[0m \u001b[1m0s\u001b[0m 1ms/step - loss: 0.6395 - root_mean_squared_error: 0.2673 - val_loss: 0.7000 - val_root_mean_squared_error: 0.3290\n",
      "Epoch 20/100\n",
      "\u001b[1m51/51\u001b[0m \u001b[32m━━━━━━━━━━━━━━━━━━━━\u001b[0m\u001b[37m\u001b[0m \u001b[1m0s\u001b[0m 1ms/step - loss: 0.6378 - root_mean_squared_error: 0.2696 - val_loss: 0.7003 - val_root_mean_squared_error: 0.3292\n",
      "Epoch 21/100\n",
      "\u001b[1m51/51\u001b[0m \u001b[32m━━━━━━━━━━━━━━━━━━━━\u001b[0m\u001b[37m\u001b[0m \u001b[1m0s\u001b[0m 1ms/step - loss: 0.6293 - root_mean_squared_error: 0.2598 - val_loss: 0.7007 - val_root_mean_squared_error: 0.3295\n",
      "Epoch 22/100\n",
      "\u001b[1m51/51\u001b[0m \u001b[32m━━━━━━━━━━━━━━━━━━━━\u001b[0m\u001b[37m\u001b[0m \u001b[1m0s\u001b[0m 1ms/step - loss: 0.6391 - root_mean_squared_error: 0.2713 - val_loss: 0.7007 - val_root_mean_squared_error: 0.3295\n",
      "Epoch 23/100\n",
      "\u001b[1m51/51\u001b[0m \u001b[32m━━━━━━━━━━━━━━━━━━━━\u001b[0m\u001b[37m\u001b[0m \u001b[1m0s\u001b[0m 1ms/step - loss: 0.6298 - root_mean_squared_error: 0.2583 - val_loss: 0.7007 - val_root_mean_squared_error: 0.3295\n",
      "Epoch 24/100\n",
      "\u001b[1m51/51\u001b[0m \u001b[32m━━━━━━━━━━━━━━━━━━━━\u001b[0m\u001b[37m\u001b[0m \u001b[1m0s\u001b[0m 1ms/step - loss: 0.6361 - root_mean_squared_error: 0.2581 - val_loss: 0.7010 - val_root_mean_squared_error: 0.3298\n",
      "Epoch 25/100\n",
      "\u001b[1m51/51\u001b[0m \u001b[32m━━━━━━━━━━━━━━━━━━━━\u001b[0m\u001b[37m\u001b[0m \u001b[1m0s\u001b[0m 1ms/step - loss: 0.6201 - root_mean_squared_error: 0.2621 - val_loss: 0.7017 - val_root_mean_squared_error: 0.3303\n",
      "Epoch 26/100\n",
      "\u001b[1m51/51\u001b[0m \u001b[32m━━━━━━━━━━━━━━━━━━━━\u001b[0m\u001b[37m\u001b[0m \u001b[1m0s\u001b[0m 1ms/step - loss: 0.6260 - root_mean_squared_error: 0.2626 - val_loss: 0.7019 - val_root_mean_squared_error: 0.3304\n",
      "Epoch 27/100\n",
      "\u001b[1m51/51\u001b[0m \u001b[32m━━━━━━━━━━━━━━━━━━━━\u001b[0m\u001b[37m\u001b[0m \u001b[1m0s\u001b[0m 1ms/step - loss: 0.6364 - root_mean_squared_error: 0.2518 - val_loss: 0.7023 - val_root_mean_squared_error: 0.3307\n",
      "Epoch 28/100\n",
      "\u001b[1m51/51\u001b[0m \u001b[32m━━━━━━━━━━━━━━━━━━━━\u001b[0m\u001b[37m\u001b[0m \u001b[1m0s\u001b[0m 2ms/step - loss: 0.6241 - root_mean_squared_error: 0.2594 - val_loss: 0.7029 - val_root_mean_squared_error: 0.3311\n",
      "Epoch 29/100\n",
      "\u001b[1m51/51\u001b[0m \u001b[32m━━━━━━━━━━━━━━━━━━━━\u001b[0m\u001b[37m\u001b[0m \u001b[1m0s\u001b[0m 3ms/step - loss: 0.6226 - root_mean_squared_error: 0.2504 - val_loss: 0.7032 - val_root_mean_squared_error: 0.3313\n",
      "Epoch 30/100\n",
      "\u001b[1m51/51\u001b[0m \u001b[32m━━━━━━━━━━━━━━━━━━━━\u001b[0m\u001b[37m\u001b[0m \u001b[1m0s\u001b[0m 1ms/step - loss: 0.6219 - root_mean_squared_error: 0.2396 - val_loss: 0.7033 - val_root_mean_squared_error: 0.3314\n",
      "Epoch 31/100\n",
      "\u001b[1m51/51\u001b[0m \u001b[32m━━━━━━━━━━━━━━━━━━━━\u001b[0m\u001b[37m\u001b[0m \u001b[1m0s\u001b[0m 1ms/step - loss: 0.6117 - root_mean_squared_error: 0.2575 - val_loss: 0.7034 - val_root_mean_squared_error: 0.3315\n",
      "Epoch 32/100\n",
      "\u001b[1m51/51\u001b[0m \u001b[32m━━━━━━━━━━━━━━━━━━━━\u001b[0m\u001b[37m\u001b[0m \u001b[1m0s\u001b[0m 1ms/step - loss: 0.6119 - root_mean_squared_error: 0.2555 - val_loss: 0.7038 - val_root_mean_squared_error: 0.3318\n",
      "Epoch 33/100\n",
      "\u001b[1m51/51\u001b[0m \u001b[32m━━━━━━━━━━━━━━━━━━━━\u001b[0m\u001b[37m\u001b[0m \u001b[1m0s\u001b[0m 1ms/step - loss: 0.6140 - root_mean_squared_error: 0.2446 - val_loss: 0.7036 - val_root_mean_squared_error: 0.3316\n",
      "Epoch 34/100\n",
      "\u001b[1m51/51\u001b[0m \u001b[32m━━━━━━━━━━━━━━━━━━━━\u001b[0m\u001b[37m\u001b[0m \u001b[1m0s\u001b[0m 1ms/step - loss: 0.6195 - root_mean_squared_error: 0.2513 - val_loss: 0.7036 - val_root_mean_squared_error: 0.3316\n",
      "Epoch 35/100\n",
      "\u001b[1m51/51\u001b[0m \u001b[32m━━━━━━━━━━━━━━━━━━━━\u001b[0m\u001b[37m\u001b[0m \u001b[1m0s\u001b[0m 1ms/step - loss: 0.6182 - root_mean_squared_error: 0.2413 - val_loss: 0.7040 - val_root_mean_squared_error: 0.3319\n",
      "Epoch 36/100\n",
      "\u001b[1m51/51\u001b[0m \u001b[32m━━━━━━━━━━━━━━━━━━━━\u001b[0m\u001b[37m\u001b[0m \u001b[1m0s\u001b[0m 1ms/step - loss: 0.6029 - root_mean_squared_error: 0.2387 - val_loss: 0.7040 - val_root_mean_squared_error: 0.3319\n",
      "Epoch 37/100\n",
      "\u001b[1m51/51\u001b[0m \u001b[32m━━━━━━━━━━━━━━━━━━━━\u001b[0m\u001b[37m\u001b[0m \u001b[1m0s\u001b[0m 2ms/step - loss: 0.6161 - root_mean_squared_error: 0.2392 - val_loss: 0.7046 - val_root_mean_squared_error: 0.3323\n",
      "Epoch 38/100\n",
      "\u001b[1m51/51\u001b[0m \u001b[32m━━━━━━━━━━━━━━━━━━━━\u001b[0m\u001b[37m\u001b[0m \u001b[1m0s\u001b[0m 1ms/step - loss: 0.6105 - root_mean_squared_error: 0.2453 - val_loss: 0.7045 - val_root_mean_squared_error: 0.3322\n",
      "Epoch 39/100\n",
      "\u001b[1m51/51\u001b[0m \u001b[32m━━━━━━━━━━━━━━━━━━━━\u001b[0m\u001b[37m\u001b[0m \u001b[1m0s\u001b[0m 1ms/step - loss: 0.6049 - root_mean_squared_error: 0.2534 - val_loss: 0.7050 - val_root_mean_squared_error: 0.3326\n",
      "Epoch 40/100\n",
      "\u001b[1m51/51\u001b[0m \u001b[32m━━━━━━━━━━━━━━━━━━━━\u001b[0m\u001b[37m\u001b[0m \u001b[1m0s\u001b[0m 1ms/step - loss: 0.5934 - root_mean_squared_error: 0.2313 - val_loss: 0.7055 - val_root_mean_squared_error: 0.3329\n",
      "Epoch 41/100\n",
      "\u001b[1m51/51\u001b[0m \u001b[32m━━━━━━━━━━━━━━━━━━━━\u001b[0m\u001b[37m\u001b[0m \u001b[1m0s\u001b[0m 1ms/step - loss: 0.6186 - root_mean_squared_error: 0.2292 - val_loss: 0.7060 - val_root_mean_squared_error: 0.3333\n",
      "Epoch 42/100\n",
      "\u001b[1m51/51\u001b[0m \u001b[32m━━━━━━━━━━━━━━━━━━━━\u001b[0m\u001b[37m\u001b[0m \u001b[1m0s\u001b[0m 1ms/step - loss: 0.6113 - root_mean_squared_error: 0.2345 - val_loss: 0.7059 - val_root_mean_squared_error: 0.3332\n",
      "Epoch 43/100\n",
      "\u001b[1m51/51\u001b[0m \u001b[32m━━━━━━━━━━━━━━━━━━━━\u001b[0m\u001b[37m\u001b[0m \u001b[1m0s\u001b[0m 1ms/step - loss: 0.6126 - root_mean_squared_error: 0.2278 - val_loss: 0.7065 - val_root_mean_squared_error: 0.3337\n",
      "Epoch 44/100\n",
      "\u001b[1m51/51\u001b[0m \u001b[32m━━━━━━━━━━━━━━━━━━━━\u001b[0m\u001b[37m\u001b[0m \u001b[1m0s\u001b[0m 1ms/step - loss: 0.6026 - root_mean_squared_error: 0.2459 - val_loss: 0.7069 - val_root_mean_squared_error: 0.3339\n",
      "Epoch 45/100\n",
      "\u001b[1m51/51\u001b[0m \u001b[32m━━━━━━━━━━━━━━━━━━━━\u001b[0m\u001b[37m\u001b[0m \u001b[1m0s\u001b[0m 1ms/step - loss: 0.5919 - root_mean_squared_error: 0.2345 - val_loss: 0.7078 - val_root_mean_squared_error: 0.3346\n",
      "Epoch 46/100\n",
      "\u001b[1m51/51\u001b[0m \u001b[32m━━━━━━━━━━━━━━━━━━━━\u001b[0m\u001b[37m\u001b[0m \u001b[1m0s\u001b[0m 1ms/step - loss: 0.6143 - root_mean_squared_error: 0.2382 - val_loss: 0.7079 - val_root_mean_squared_error: 0.3346\n",
      "Epoch 47/100\n",
      "\u001b[1m51/51\u001b[0m \u001b[32m━━━━━━━━━━━━━━━━━━━━\u001b[0m\u001b[37m\u001b[0m \u001b[1m0s\u001b[0m 1ms/step - loss: 0.6009 - root_mean_squared_error: 0.2282 - val_loss: 0.7084 - val_root_mean_squared_error: 0.3350\n",
      "Epoch 48/100\n",
      "\u001b[1m51/51\u001b[0m \u001b[32m━━━━━━━━━━━━━━━━━━━━\u001b[0m\u001b[37m\u001b[0m \u001b[1m0s\u001b[0m 1ms/step - loss: 0.6020 - root_mean_squared_error: 0.2243 - val_loss: 0.7095 - val_root_mean_squared_error: 0.3358\n",
      "Epoch 49/100\n",
      "\u001b[1m51/51\u001b[0m \u001b[32m━━━━━━━━━━━━━━━━━━━━\u001b[0m\u001b[37m\u001b[0m \u001b[1m0s\u001b[0m 1ms/step - loss: 0.5852 - root_mean_squared_error: 0.2230 - val_loss: 0.7100 - val_root_mean_squared_error: 0.3361\n",
      "Epoch 50/100\n",
      "\u001b[1m51/51\u001b[0m \u001b[32m━━━━━━━━━━━━━━━━━━━━\u001b[0m\u001b[37m\u001b[0m \u001b[1m0s\u001b[0m 1ms/step - loss: 0.5942 - root_mean_squared_error: 0.2338 - val_loss: 0.7109 - val_root_mean_squared_error: 0.3368\n",
      "Epoch 51/100\n",
      "\u001b[1m51/51\u001b[0m \u001b[32m━━━━━━━━━━━━━━━━━━━━\u001b[0m\u001b[37m\u001b[0m \u001b[1m0s\u001b[0m 1ms/step - loss: 0.5870 - root_mean_squared_error: 0.2271 - val_loss: 0.7105 - val_root_mean_squared_error: 0.3364\n",
      "Epoch 52/100\n",
      "\u001b[1m51/51\u001b[0m \u001b[32m━━━━━━━━━━━━━━━━━━━━\u001b[0m\u001b[37m\u001b[0m \u001b[1m0s\u001b[0m 1ms/step - loss: 0.5873 - root_mean_squared_error: 0.2324 - val_loss: 0.7109 - val_root_mean_squared_error: 0.3368\n",
      "Epoch 53/100\n",
      "\u001b[1m51/51\u001b[0m \u001b[32m━━━━━━━━━━━━━━━━━━━━\u001b[0m\u001b[37m\u001b[0m \u001b[1m0s\u001b[0m 1ms/step - loss: 0.5907 - root_mean_squared_error: 0.2229 - val_loss: 0.7106 - val_root_mean_squared_error: 0.3366\n",
      "Epoch 54/100\n",
      "\u001b[1m51/51\u001b[0m \u001b[32m━━━━━━━━━━━━━━━━━━━━\u001b[0m\u001b[37m\u001b[0m \u001b[1m0s\u001b[0m 1ms/step - loss: 0.5844 - root_mean_squared_error: 0.2271 - val_loss: 0.7107 - val_root_mean_squared_error: 0.3366\n",
      "Epoch 55/100\n",
      "\u001b[1m51/51\u001b[0m \u001b[32m━━━━━━━━━━━━━━━━━━━━\u001b[0m\u001b[37m\u001b[0m \u001b[1m0s\u001b[0m 1ms/step - loss: 0.5900 - root_mean_squared_error: 0.2342 - val_loss: 0.7112 - val_root_mean_squared_error: 0.3370\n",
      "Epoch 56/100\n",
      "\u001b[1m51/51\u001b[0m \u001b[32m━━━━━━━━━━━━━━━━━━━━\u001b[0m\u001b[37m\u001b[0m \u001b[1m0s\u001b[0m 1ms/step - loss: 0.5870 - root_mean_squared_error: 0.2294 - val_loss: 0.7118 - val_root_mean_squared_error: 0.3374\n",
      "Epoch 57/100\n",
      "\u001b[1m51/51\u001b[0m \u001b[32m━━━━━━━━━━━━━━━━━━━━\u001b[0m\u001b[37m\u001b[0m \u001b[1m0s\u001b[0m 1ms/step - loss: 0.5685 - root_mean_squared_error: 0.2132 - val_loss: 0.7127 - val_root_mean_squared_error: 0.3380\n",
      "Epoch 58/100\n",
      "\u001b[1m51/51\u001b[0m \u001b[32m━━━━━━━━━━━━━━━━━━━━\u001b[0m\u001b[37m\u001b[0m \u001b[1m0s\u001b[0m 1ms/step - loss: 0.5793 - root_mean_squared_error: 0.2272 - val_loss: 0.7129 - val_root_mean_squared_error: 0.3381\n",
      "Epoch 59/100\n",
      "\u001b[1m51/51\u001b[0m \u001b[32m━━━━━━━━━━━━━━━━━━━━\u001b[0m\u001b[37m\u001b[0m \u001b[1m0s\u001b[0m 1ms/step - loss: 0.5979 - root_mean_squared_error: 0.2180 - val_loss: 0.7131 - val_root_mean_squared_error: 0.3383\n",
      "Epoch 60/100\n",
      "\u001b[1m51/51\u001b[0m \u001b[32m━━━━━━━━━━━━━━━━━━━━\u001b[0m\u001b[37m\u001b[0m \u001b[1m0s\u001b[0m 1ms/step - loss: 0.6004 - root_mean_squared_error: 0.2234 - val_loss: 0.7131 - val_root_mean_squared_error: 0.3382\n",
      "Epoch 61/100\n",
      "\u001b[1m51/51\u001b[0m \u001b[32m━━━━━━━━━━━━━━━━━━━━\u001b[0m\u001b[37m\u001b[0m \u001b[1m0s\u001b[0m 1ms/step - loss: 0.5964 - root_mean_squared_error: 0.2277 - val_loss: 0.7135 - val_root_mean_squared_error: 0.3385\n",
      "Epoch 62/100\n",
      "\u001b[1m51/51\u001b[0m \u001b[32m━━━━━━━━━━━━━━━━━━━━\u001b[0m\u001b[37m\u001b[0m \u001b[1m0s\u001b[0m 1ms/step - loss: 0.5624 - root_mean_squared_error: 0.2179 - val_loss: 0.7140 - val_root_mean_squared_error: 0.3388\n",
      "Epoch 63/100\n",
      "\u001b[1m51/51\u001b[0m \u001b[32m━━━━━━━━━━━━━━━━━━━━\u001b[0m\u001b[37m\u001b[0m \u001b[1m0s\u001b[0m 1ms/step - loss: 0.5912 - root_mean_squared_error: 0.2129 - val_loss: 0.7143 - val_root_mean_squared_error: 0.3390\n",
      "Epoch 64/100\n",
      "\u001b[1m51/51\u001b[0m \u001b[32m━━━━━━━━━━━━━━━━━━━━\u001b[0m\u001b[37m\u001b[0m \u001b[1m0s\u001b[0m 1ms/step - loss: 0.5802 - root_mean_squared_error: 0.2237 - val_loss: 0.7147 - val_root_mean_squared_error: 0.3393\n",
      "Epoch 65/100\n",
      "\u001b[1m51/51\u001b[0m \u001b[32m━━━━━━━━━━━━━━━━━━━━\u001b[0m\u001b[37m\u001b[0m \u001b[1m0s\u001b[0m 1ms/step - loss: 0.5761 - root_mean_squared_error: 0.2126 - val_loss: 0.7146 - val_root_mean_squared_error: 0.3392\n",
      "Epoch 66/100\n",
      "\u001b[1m51/51\u001b[0m \u001b[32m━━━━━━━━━━━━━━━━━━━━\u001b[0m\u001b[37m\u001b[0m \u001b[1m0s\u001b[0m 1ms/step - loss: 0.5823 - root_mean_squared_error: 0.2180 - val_loss: 0.7154 - val_root_mean_squared_error: 0.3397\n",
      "Epoch 67/100\n",
      "\u001b[1m51/51\u001b[0m \u001b[32m━━━━━━━━━━━━━━━━━━━━\u001b[0m\u001b[37m\u001b[0m \u001b[1m0s\u001b[0m 1ms/step - loss: 0.5716 - root_mean_squared_error: 0.2184 - val_loss: 0.7159 - val_root_mean_squared_error: 0.3400\n",
      "Epoch 68/100\n",
      "\u001b[1m51/51\u001b[0m \u001b[32m━━━━━━━━━━━━━━━━━━━━\u001b[0m\u001b[37m\u001b[0m \u001b[1m0s\u001b[0m 1ms/step - loss: 0.5808 - root_mean_squared_error: 0.2088 - val_loss: 0.7163 - val_root_mean_squared_error: 0.3403\n",
      "Epoch 69/100\n",
      "\u001b[1m51/51\u001b[0m \u001b[32m━━━━━━━━━━━━━━━━━━━━\u001b[0m\u001b[37m\u001b[0m \u001b[1m0s\u001b[0m 2ms/step - loss: 0.5636 - root_mean_squared_error: 0.1974 - val_loss: 0.7164 - val_root_mean_squared_error: 0.3404\n",
      "Epoch 70/100\n",
      "\u001b[1m51/51\u001b[0m \u001b[32m━━━━━━━━━━━━━━━━━━━━\u001b[0m\u001b[37m\u001b[0m \u001b[1m0s\u001b[0m 1ms/step - loss: 0.5664 - root_mean_squared_error: 0.2062 - val_loss: 0.7172 - val_root_mean_squared_error: 0.3409\n",
      "Epoch 71/100\n",
      "\u001b[1m51/51\u001b[0m \u001b[32m━━━━━━━━━━━━━━━━━━━━\u001b[0m\u001b[37m\u001b[0m \u001b[1m0s\u001b[0m 1ms/step - loss: 0.5822 - root_mean_squared_error: 0.2136 - val_loss: 0.7185 - val_root_mean_squared_error: 0.3417\n",
      "Epoch 72/100\n",
      "\u001b[1m51/51\u001b[0m \u001b[32m━━━━━━━━━━━━━━━━━━━━\u001b[0m\u001b[37m\u001b[0m \u001b[1m0s\u001b[0m 1ms/step - loss: 0.5899 - root_mean_squared_error: 0.2121 - val_loss: 0.7199 - val_root_mean_squared_error: 0.3427\n",
      "Epoch 73/100\n",
      "\u001b[1m51/51\u001b[0m \u001b[32m━━━━━━━━━━━━━━━━━━━━\u001b[0m\u001b[37m\u001b[0m \u001b[1m0s\u001b[0m 1ms/step - loss: 0.5774 - root_mean_squared_error: 0.2163 - val_loss: 0.7200 - val_root_mean_squared_error: 0.3427\n",
      "Epoch 74/100\n",
      "\u001b[1m51/51\u001b[0m \u001b[32m━━━━━━━━━━━━━━━━━━━━\u001b[0m\u001b[37m\u001b[0m \u001b[1m0s\u001b[0m 1ms/step - loss: 0.5807 - root_mean_squared_error: 0.2098 - val_loss: 0.7199 - val_root_mean_squared_error: 0.3426\n",
      "Epoch 75/100\n",
      "\u001b[1m51/51\u001b[0m \u001b[32m━━━━━━━━━━━━━━━━━━━━\u001b[0m\u001b[37m\u001b[0m \u001b[1m0s\u001b[0m 1ms/step - loss: 0.5754 - root_mean_squared_error: 0.2113 - val_loss: 0.7200 - val_root_mean_squared_error: 0.3426\n",
      "Epoch 76/100\n",
      "\u001b[1m51/51\u001b[0m \u001b[32m━━━━━━━━━━━━━━━━━━━━\u001b[0m\u001b[37m\u001b[0m \u001b[1m0s\u001b[0m 1ms/step - loss: 0.5794 - root_mean_squared_error: 0.2207 - val_loss: 0.7205 - val_root_mean_squared_error: 0.3430\n",
      "Epoch 77/100\n",
      "\u001b[1m51/51\u001b[0m \u001b[32m━━━━━━━━━━━━━━━━━━━━\u001b[0m\u001b[37m\u001b[0m \u001b[1m0s\u001b[0m 1ms/step - loss: 0.5771 - root_mean_squared_error: 0.2135 - val_loss: 0.7208 - val_root_mean_squared_error: 0.3432\n",
      "Epoch 78/100\n",
      "\u001b[1m51/51\u001b[0m \u001b[32m━━━━━━━━━━━━━━━━━━━━\u001b[0m\u001b[37m\u001b[0m \u001b[1m0s\u001b[0m 1ms/step - loss: 0.5706 - root_mean_squared_error: 0.2138 - val_loss: 0.7208 - val_root_mean_squared_error: 0.3431\n",
      "Epoch 79/100\n",
      "\u001b[1m51/51\u001b[0m \u001b[32m━━━━━━━━━━━━━━━━━━━━\u001b[0m\u001b[37m\u001b[0m \u001b[1m0s\u001b[0m 1ms/step - loss: 0.5734 - root_mean_squared_error: 0.1997 - val_loss: 0.7219 - val_root_mean_squared_error: 0.3439\n",
      "Epoch 80/100\n",
      "\u001b[1m51/51\u001b[0m \u001b[32m━━━━━━━━━━━━━━━━━━━━\u001b[0m\u001b[37m\u001b[0m \u001b[1m0s\u001b[0m 1ms/step - loss: 0.5785 - root_mean_squared_error: 0.2024 - val_loss: 0.7227 - val_root_mean_squared_error: 0.3443\n",
      "Epoch 81/100\n",
      "\u001b[1m51/51\u001b[0m \u001b[32m━━━━━━━━━━━━━━━━━━━━\u001b[0m\u001b[37m\u001b[0m \u001b[1m0s\u001b[0m 1ms/step - loss: 0.5692 - root_mean_squared_error: 0.1886 - val_loss: 0.7228 - val_root_mean_squared_error: 0.3444\n",
      "Epoch 82/100\n",
      "\u001b[1m51/51\u001b[0m \u001b[32m━━━━━━━━━━━━━━━━━━━━\u001b[0m\u001b[37m\u001b[0m \u001b[1m0s\u001b[0m 1ms/step - loss: 0.5731 - root_mean_squared_error: 0.1932 - val_loss: 0.7234 - val_root_mean_squared_error: 0.3448\n",
      "Epoch 83/100\n",
      "\u001b[1m51/51\u001b[0m \u001b[32m━━━━━━━━━━━━━━━━━━━━\u001b[0m\u001b[37m\u001b[0m \u001b[1m0s\u001b[0m 1ms/step - loss: 0.5737 - root_mean_squared_error: 0.2106 - val_loss: 0.7237 - val_root_mean_squared_error: 0.3450\n",
      "Epoch 84/100\n",
      "\u001b[1m51/51\u001b[0m \u001b[32m━━━━━━━━━━━━━━━━━━━━\u001b[0m\u001b[37m\u001b[0m \u001b[1m0s\u001b[0m 1ms/step - loss: 0.5780 - root_mean_squared_error: 0.1954 - val_loss: 0.7253 - val_root_mean_squared_error: 0.3460\n",
      "Epoch 85/100\n",
      "\u001b[1m51/51\u001b[0m \u001b[32m━━━━━━━━━━━━━━━━━━━━\u001b[0m\u001b[37m\u001b[0m \u001b[1m0s\u001b[0m 1ms/step - loss: 0.5677 - root_mean_squared_error: 0.2046 - val_loss: 0.7264 - val_root_mean_squared_error: 0.3468\n",
      "Epoch 86/100\n",
      "\u001b[1m51/51\u001b[0m \u001b[32m━━━━━━━━━━━━━━━━━━━━\u001b[0m\u001b[37m\u001b[0m \u001b[1m0s\u001b[0m 1ms/step - loss: 0.5616 - root_mean_squared_error: 0.2001 - val_loss: 0.7263 - val_root_mean_squared_error: 0.3467\n",
      "Epoch 87/100\n",
      "\u001b[1m51/51\u001b[0m \u001b[32m━━━━━━━━━━━━━━━━━━━━\u001b[0m\u001b[37m\u001b[0m \u001b[1m0s\u001b[0m 1ms/step - loss: 0.5695 - root_mean_squared_error: 0.2015 - val_loss: 0.7274 - val_root_mean_squared_error: 0.3474\n",
      "Epoch 88/100\n",
      "\u001b[1m51/51\u001b[0m \u001b[32m━━━━━━━━━━━━━━━━━━━━\u001b[0m\u001b[37m\u001b[0m \u001b[1m0s\u001b[0m 1ms/step - loss: 0.5610 - root_mean_squared_error: 0.1923 - val_loss: 0.7275 - val_root_mean_squared_error: 0.3474\n",
      "Epoch 89/100\n",
      "\u001b[1m51/51\u001b[0m \u001b[32m━━━━━━━━━━━━━━━━━━━━\u001b[0m\u001b[37m\u001b[0m \u001b[1m0s\u001b[0m 1ms/step - loss: 0.5660 - root_mean_squared_error: 0.1999 - val_loss: 0.7279 - val_root_mean_squared_error: 0.3476\n",
      "Epoch 90/100\n",
      "\u001b[1m51/51\u001b[0m \u001b[32m━━━━━━━━━━━━━━━━━━━━\u001b[0m\u001b[37m\u001b[0m \u001b[1m0s\u001b[0m 1ms/step - loss: 0.5691 - root_mean_squared_error: 0.1872 - val_loss: 0.7278 - val_root_mean_squared_error: 0.3475\n",
      "Epoch 91/100\n",
      "\u001b[1m51/51\u001b[0m \u001b[32m━━━━━━━━━━━━━━━━━━━━\u001b[0m\u001b[37m\u001b[0m \u001b[1m0s\u001b[0m 1ms/step - loss: 0.5692 - root_mean_squared_error: 0.1934 - val_loss: 0.7282 - val_root_mean_squared_error: 0.3478\n",
      "Epoch 92/100\n",
      "\u001b[1m51/51\u001b[0m \u001b[32m━━━━━━━━━━━━━━━━━━━━\u001b[0m\u001b[37m\u001b[0m \u001b[1m0s\u001b[0m 1ms/step - loss: 0.5633 - root_mean_squared_error: 0.1947 - val_loss: 0.7293 - val_root_mean_squared_error: 0.3484\n",
      "Epoch 93/100\n",
      "\u001b[1m51/51\u001b[0m \u001b[32m━━━━━━━━━━━━━━━━━━━━\u001b[0m\u001b[37m\u001b[0m \u001b[1m0s\u001b[0m 2ms/step - loss: 0.5609 - root_mean_squared_error: 0.1948 - val_loss: 0.7301 - val_root_mean_squared_error: 0.3489\n",
      "Epoch 94/100\n",
      "\u001b[1m51/51\u001b[0m \u001b[32m━━━━━━━━━━━━━━━━━━━━\u001b[0m\u001b[37m\u001b[0m \u001b[1m0s\u001b[0m 1ms/step - loss: 0.5361 - root_mean_squared_error: 0.1959 - val_loss: 0.7306 - val_root_mean_squared_error: 0.3492\n",
      "Epoch 95/100\n",
      "\u001b[1m51/51\u001b[0m \u001b[32m━━━━━━━━━━━━━━━━━━━━\u001b[0m\u001b[37m\u001b[0m \u001b[1m0s\u001b[0m 1ms/step - loss: 0.5473 - root_mean_squared_error: 0.1923 - val_loss: 0.7313 - val_root_mean_squared_error: 0.3496\n",
      "Epoch 96/100\n",
      "\u001b[1m51/51\u001b[0m \u001b[32m━━━━━━━━━━━━━━━━━━━━\u001b[0m\u001b[37m\u001b[0m \u001b[1m0s\u001b[0m 1ms/step - loss: 0.5587 - root_mean_squared_error: 0.2007 - val_loss: 0.7319 - val_root_mean_squared_error: 0.3500\n",
      "Epoch 97/100\n",
      "\u001b[1m51/51\u001b[0m \u001b[32m━━━━━━━━━━━━━━━━━━━━\u001b[0m\u001b[37m\u001b[0m \u001b[1m0s\u001b[0m 1ms/step - loss: 0.5463 - root_mean_squared_error: 0.2001 - val_loss: 0.7317 - val_root_mean_squared_error: 0.3498\n",
      "Epoch 98/100\n",
      "\u001b[1m51/51\u001b[0m \u001b[32m━━━━━━━━━━━━━━━━━━━━\u001b[0m\u001b[37m\u001b[0m \u001b[1m0s\u001b[0m 1ms/step - loss: 0.5597 - root_mean_squared_error: 0.1803 - val_loss: 0.7316 - val_root_mean_squared_error: 0.3497\n",
      "Epoch 99/100\n",
      "\u001b[1m51/51\u001b[0m \u001b[32m━━━━━━━━━━━━━━━━━━━━\u001b[0m\u001b[37m\u001b[0m \u001b[1m0s\u001b[0m 1ms/step - loss: 0.5642 - root_mean_squared_error: 0.1823 - val_loss: 0.7320 - val_root_mean_squared_error: 0.3500\n",
      "Epoch 100/100\n",
      "\u001b[1m51/51\u001b[0m \u001b[32m━━━━━━━━━━━━━━━━━━━━\u001b[0m\u001b[37m\u001b[0m \u001b[1m0s\u001b[0m 1ms/step - loss: 0.5482 - root_mean_squared_error: 0.1856 - val_loss: 0.7326 - val_root_mean_squared_error: 0.3503\n"
     ]
    }
   ],
   "source": [
    "\n",
    "# Memulai training\n",
    " \n",
    "history = model.fit(\n",
    "    x = x_train,\n",
    "    y = y_train,\n",
    "    batch_size = 8,\n",
    "    epochs = 100,\n",
    "    validation_data = (x_val, y_val)\n",
    ")\n",
    "    "
   ]
  },
  {
   "cell_type": "code",
   "execution_count": 53,
   "metadata": {},
   "outputs": [
    {
     "data": {
      "image/png": "[encoded data removed]",
      "text/plain": [
       "<Figure size 640x480 with 1 Axes>"
      ]
     },
     "metadata": {},
     "output_type": "display_data"
    }
   ],
   "source": [
    "\n",
    "plt.plot(history.history['root_mean_squared_error'])\n",
    "plt.plot(history.history['val_root_mean_squared_error'])\n",
    "plt.title('model_metrics')\n",
    "plt.ylabel('root_mean_squared_error')\n",
    "plt.xlabel('epoch')\n",
    "plt.legend(['train', 'test'], loc='upper left')\n",
    "plt.show()"
   ]
  },
  {
   "cell_type": "markdown",
   "metadata": {},
   "source": [
    "### 4.2.5 Penerapan collaborative filtering"
   ]
  },
  {
   "cell_type": "code",
   "execution_count": 51,
   "metadata": {},
   "outputs": [
    {
     "name": "stdout",
     "output_type": "stream",
     "text": [
      "\n",
      "Showing recommendations for user: 22.0\n",
      "===========================\n",
      "Foods with high ratings from user:\n",
      "Food: cajun spiced turkey wrapped with bacon, Type: Mexican, Rating: 6.0\n",
      "Food: chicken minced salad, Type: Healthy Food, Rating: 5.0\n",
      "\u001b[1m10/10\u001b[0m \u001b[32m━━━━━━━━━━━━━━━━━━━━\u001b[0m\u001b[37m\u001b[0m \u001b[1m0s\u001b[0m 514us/step\n",
      "\n",
      "Top 10 recommended foods for user:\n",
      "Food: chicken quinoa biryani, Type: Healthy Food\n",
      "Food: fruit cube salad, Type: Healthy Food\n",
      "Food: corn & jalapeno poppers, Type: Mexican\n",
      "Food: mixed beans salad, Type: Healthy Food\n",
      "Food: white chocolate and lemon pastry, Type: Dessert\n",
      "Food: chicken tikka, Type: Indian\n",
      "Food: apple and pear cake, Type: Healthy Food\n",
      "Food: filter coffee, Type: Beverage\n",
      "Food: spinach & banana pancakes, Type: Healthy Food\n",
      "Food: amritsari fish, Type: Indian\n",
      "\n",
      "Next recommended food for the user:\n",
      "Food: chicken quinoa biryani, Type: Healthy Food\n"
     ]
    }
   ],
   "source": [
    "import numpy as np\n",
    "\n",
    "# 5. Menampilkan rekomendasi makanan untuk pengguna\n",
    "\n",
    "# Mengambil sample user secara acak\n",
    "user_id = df.user_id.sample(1).iloc[0]\n",
    "food_visited_by_user = df[df.user_id == user_id]\n",
    "\n",
    "# Menampilkan rekomendasi berdasarkan rating tinggi dari user\n",
    "print(f'\\nShowing recommendations for user: {user_id}')\n",
    "print(\"===========================\")\n",
    "\n",
    "# Menampilkan makanan dengan rating tinggi dari user\n",
    "# Kita anggap rating lebih besar dari 4.0 dianggap rating tinggi\n",
    "high_rated_food = food_visited_by_user[food_visited_by_user['rating'] > 4.0]\n",
    "\n",
    "print(\"Foods with high ratings from user:\")\n",
    "if not high_rated_food.empty:\n",
    "    for row in high_rated_food.itertuples():\n",
    "        # Mengambil nama makanan dan jenis makanan berdasarkan food_id\n",
    "        food_name = data[data['food_id'] == row.food_id].iloc[0]['name']\n",
    "        food_type = data[data['food_id'] == row.food_id].iloc[0]['c_type']\n",
    "        print(f'Food: {food_name}, Type: {food_type}, Rating: {row.rating}')\n",
    "else:\n",
    "    print(\"No high-rated food found for this user.\")\n",
    "\n",
    "# Operator bitwise (~) untuk menemukan makanan yang belum dikunjungi oleh pengguna\n",
    "food_not_visited = data[~data['food_id'].isin(food_visited_by_user.food_id.values)]['food_id']\n",
    "food_not_visited = list(\n",
    "    set(food_not_visited)\n",
    "    .intersection(set(food_to_food_encoded.keys()))\n",
    ")\n",
    "\n",
    "# Menyusun array input untuk model untuk makanan yang belum dikunjungi\n",
    "food_not_visited = [[food_to_food_encoded.get(x)] for x in food_not_visited]\n",
    "user_encoder = user_to_user_encoded.get(user_id)\n",
    "user_food_array = np.hstack(\n",
    "    ([[user_encoder]] * len(food_not_visited), food_not_visited)\n",
    ")\n",
    "\n",
    "# Prediksi rating untuk setiap food yang belum dikunjungi oleh user\n",
    "ratings = model.predict(user_food_array).flatten()\n",
    "\n",
    "# Menemukan makanan dengan rating tertinggi\n",
    "top_ratings_indices = ratings.argsort()[-10:][::-1]\n",
    "recommended_food_ids = [\n",
    "    food_encoded_to_food.get(food_not_visited[x][0]) for x in top_ratings_indices\n",
    "]\n",
    "\n",
    "# Menampilkan rekomendasi makanan yang belum dikunjungi\n",
    "print('\\nTop 10 recommended foods for user:')\n",
    "for food_id in recommended_food_ids:\n",
    "    # Mengambil nama makanan dan jenis makanan berdasarkan food_id\n",
    "    food_name = data[data['food_id'] == food_id].iloc[0]['name']\n",
    "    food_type = data[data['food_id'] == food_id].iloc[0]['c_type']\n",
    "    print(f'Food: {food_name}, Type: {food_type}')\n",
    "\n",
    "# Menampilkan rekomendasi selanjutnya untuk pengguna\n",
    "print(\"\\nNext recommended food for the user:\")\n",
    "# Mengambil 1 makanan dengan rating tertinggi setelah prediksi\n",
    "next_food_id = recommended_food_ids[0]  # Mengambil ID makanan dengan rating tertinggi\n",
    "next_food = data[data['food_id'] == next_food_id]\n",
    "\n",
    "for row in next_food.itertuples():\n",
    "    food_name = row.name  # Mengambil nama makanan langsung dari data\n",
    "    food_type = row.c_type  # Mengambil jenis makanan langsung dari data\n",
    "    print(f'Food: {food_name}, Type: {food_type}')\n"
   ]
  },
  {
   "cell_type": "markdown",
   "metadata": {},
   "source": [
    "Di bagian ini, model digunakan untuk memberikan rekomendasi makanan kepada seorang pengguna yang dipilih secara acak. Makanan yang telah dikunjungi oleh pengguna tersebut disaring, dan model memprediksi rating untuk makanan yang belum dikunjungi. Rating yang diprediksi dikembalikan ke rentang asli dan makanan dengan rating tertinggi dipilih sebagai rekomendasi. Kemudian, nama dan kategori makanan ditampilkan untuk memberikan rekomendasi yang mudah dipahami."
   ]
  }
 ],
 "metadata": {
  "kernelspec": {
   "display_name": "tfgpu",
   "language": "python",
   "name": "python3"
  },
  "language_info": {
   "codemirror_mode": {
    "name": "ipython",
    "version": 3
   },
   "file_extension": ".py",
   "mimetype": "text/x-python",
   "name": "python",
   "nbconvert_exporter": "python",
   "pygments_lexer": "ipython3",
   "version": "3.10.15"
  }
 },
 "nbformat": 4,
 "nbformat_minor": 2
}
